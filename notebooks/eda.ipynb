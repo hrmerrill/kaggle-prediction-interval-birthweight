{
 "cells": [
  {
   "cell_type": "code",
   "execution_count": 1,
   "id": "f2aab751-8088-4052-aec8-0636fa2d9e58",
   "metadata": {},
   "outputs": [],
   "source": [
    "%load_ext lab_black"
   ]
  },
  {
   "cell_type": "markdown",
   "id": "6e4fbf27-1733-4381-ae0e-f8b90bfbf66f",
   "metadata": {},
   "source": [
    "# EDA\n",
    "\n",
    "## Author: Hunter Merrill\n",
    "\n",
    "This notebook is scratch space for summaries, statistics, and visualizations that will help make modeling decisions. I often refered to the data guide while writing this notebook: https://ftp.cdc.gov/pub/Health_Statistics/NCHS/Dataset_Documentation/DVS/natality/UserGuide2018-508.pdf"
   ]
  },
  {
   "cell_type": "code",
   "execution_count": 2,
   "id": "c6363ae9-72c3-4347-96f1-23d27ca28f7f",
   "metadata": {},
   "outputs": [
    {
     "ename": "ModuleNotFoundError",
     "evalue": "No module named 'constants'",
     "output_type": "error",
     "traceback": [
      "\u001b[0;31m---------------------------------------------------------------------------\u001b[0m",
      "\u001b[0;31mModuleNotFoundError\u001b[0m                       Traceback (most recent call last)",
      "Cell \u001b[0;32mIn[2], line 10\u001b[0m\n\u001b[1;32m      6\u001b[0m \u001b[38;5;28;01mimport\u001b[39;00m \u001b[38;5;21;01mseaborn\u001b[39;00m \u001b[38;5;28;01mas\u001b[39;00m \u001b[38;5;21;01msns\u001b[39;00m\n\u001b[1;32m      8\u001b[0m sns\u001b[38;5;241m.\u001b[39mset_theme(style\u001b[38;5;241m=\u001b[39m\u001b[38;5;124m\"\u001b[39m\u001b[38;5;124mticks\u001b[39m\u001b[38;5;124m\"\u001b[39m)\n\u001b[0;32m---> 10\u001b[0m \u001b[38;5;28;01mfrom\u001b[39;00m \u001b[38;5;21;01mconstants\u001b[39;00m \u001b[38;5;28;01mimport\u001b[39;00m MISSING_CODE, VARIABLE_TYPE\n",
      "\u001b[0;31mModuleNotFoundError\u001b[0m: No module named 'constants'"
     ]
    }
   ],
   "source": [
    "import datetime\n",
    "\n",
    "import matplotlib.pyplot as plt\n",
    "import numpy as np\n",
    "import pandas as pd\n",
    "import seaborn as sns\n",
    "\n",
    "sns.set_theme(style=\"ticks\")\n",
    "\n",
    "from constants import MISSING_CODE, VARIABLE_TYPE"
   ]
  },
  {
   "cell_type": "code",
   "execution_count": null,
   "id": "e02ae9f1-a1f3-43e9-b8d8-f2d0345291cf",
   "metadata": {},
   "outputs": [],
   "source": [
    "data = pd.read_csv(\"../../data/train.csv\")"
   ]
  },
  {
   "cell_type": "markdown",
   "id": "cdc38070-bc03-41ce-b6c2-788f893c6e38",
   "metadata": {},
   "source": [
    "# Sanity checks"
   ]
  },
  {
   "cell_type": "code",
   "execution_count": null,
   "id": "93975476-28d5-4eed-a2e7-ffce11af1cdf",
   "metadata": {},
   "outputs": [],
   "source": [
    "data.head()"
   ]
  },
  {
   "cell_type": "code",
   "execution_count": null,
   "id": "6c521ccb-56b9-48d9-a8c1-7ee6d15d784d",
   "metadata": {},
   "outputs": [],
   "source": [
    "data.info()"
   ]
  },
  {
   "cell_type": "code",
   "execution_count": null,
   "id": "f2d9ca85-99c9-4bcb-89a8-903509f79969",
   "metadata": {},
   "outputs": [],
   "source": [
    "len(data[\"id\"].unique()) == data[\"id\"].shape[0]"
   ]
  },
  {
   "cell_type": "code",
   "execution_count": null,
   "id": "ec71e9db-41b8-4810-9e35-0834e3b458b2",
   "metadata": {},
   "outputs": [],
   "source": [
    "data.describe()"
   ]
  },
  {
   "cell_type": "markdown",
   "id": "e411fff8-398f-4034-8fb7-c7c8026db6cf",
   "metadata": {},
   "source": [
    "The `id` variable is indeed a unique identifier. No missing values in the response variable `DBWT`. Four explicitly categorical features:"
   ]
  },
  {
   "cell_type": "code",
   "execution_count": null,
   "id": "7c364efd-a99d-45e6-b404-be81cc886a13",
   "metadata": {},
   "outputs": [],
   "source": [
    "data[\"DMAR\"].unique()  # marital status"
   ]
  },
  {
   "cell_type": "code",
   "execution_count": null,
   "id": "9ba7523e-5d7d-4eb8-badf-d19bfbce5eda",
   "metadata": {},
   "outputs": [],
   "source": [
    "data[\"LD_INDL\"].unique()  # induction of labor"
   ]
  },
  {
   "cell_type": "code",
   "execution_count": null,
   "id": "987e4be5-03cc-4fa1-aae6-0ad601f91210",
   "metadata": {},
   "outputs": [],
   "source": [
    "data[\"RF_CESAR\"].unique()  # previous Cesarean"
   ]
  },
  {
   "cell_type": "code",
   "execution_count": null,
   "id": "0d087dec-92a3-465a-a509-ad7061e354d8",
   "metadata": {},
   "outputs": [],
   "source": [
    "data[\"SEX\"].unique()  # sex of infant"
   ]
  },
  {
   "cell_type": "markdown",
   "id": "31e4edb3-0223-4879-8d36-6d246ec5bf32",
   "metadata": {},
   "source": [
    "No `NaN`s in the features but there are missing values, see `constants.py` for details.\n",
    "\n",
    "# Numerical features"
   ]
  },
  {
   "cell_type": "code",
   "execution_count": null,
   "id": "305560f7-6d50-4ac7-8a3d-de51327fc8fb",
   "metadata": {},
   "outputs": [],
   "source": [
    "features = VARIABLE_TYPE.keys()\n",
    "\n",
    "for feature in features:\n",
    "    if \"categorical\" not in VARIABLE_TYPE[feature]:\n",
    "        missing = (\n",
    "            MISSING_CODE[feature]\n",
    "            if isinstance(MISSING_CODE[feature], list)\n",
    "            else [MISSING_CODE[feature]]\n",
    "        )\n",
    "        data.query(f\"~{feature}.isin({missing})\")[feature].hist(bins=100)\n",
    "        plt.title(feature)\n",
    "        plt.show()"
   ]
  },
  {
   "cell_type": "markdown",
   "id": "0e39b1f9-ed20-4dff-8525-6848e7736858",
   "metadata": {},
   "source": [
    "`CIG_0`, `PRIORDEAD`, `PRIORTERM`, and `RF_CESARN` are skewed enough to be a potential problem. See if unskewing helps:\n"
   ]
  },
  {
   "cell_type": "code",
   "execution_count": null,
   "id": "27371cab-fed5-4542-9626-fff18e259f48",
   "metadata": {},
   "outputs": [],
   "source": [
    "for feature in [\"CIG_0\", \"PRIORDEAD\", \"PRIORTERM\", \"RF_CESARN\"]:\n",
    "    df_plot = data.query(f\"{feature} != {MISSING_CODE[feature]}\")\n",
    "    plt.scatter(df_plot[feature], df_plot[\"DBWT\"], alpha=0.01)\n",
    "    plt.title(feature)\n",
    "    plt.show()\n",
    "    plt.scatter(np.log(df_plot[feature] + 1), df_plot[\"DBWT\"], alpha=0.01)\n",
    "    plt.title(\"log\" + feature)\n",
    "    plt.show()"
   ]
  },
  {
   "cell_type": "markdown",
   "id": "f36f435c-08d3-4bb4-8ebe-39eb86028ba6",
   "metadata": {},
   "source": [
    "# Pair plots"
   ]
  },
  {
   "cell_type": "code",
   "execution_count": null,
   "id": "9b935f54-3294-4398-adfa-2cd40b45ba57",
   "metadata": {},
   "outputs": [],
   "source": [
    "data_for_pairplot = data.copy()\n",
    "\n",
    "# convert that timestamp column to contiguous numbers\n",
    "fake_datetime = \"1970-01-01 \" + data_for_pairplot[\"DOB_TT\"].astype(str).str.zfill(4)\n",
    "fake_datetime = fake_datetime.apply(lambda x: None if \"9999\" in x else x)\n",
    "data_for_pairplot[\"DOB_TT\"] = (\n",
    "    pd.to_datetime(fake_datetime, format=\"%Y-%m-%d %H%M\")\n",
    "    - datetime.datetime(1970, 1, 1)\n",
    ").dt.total_seconds()\n",
    "\n",
    "# convert implicit to explicit categorical columns\n",
    "for feature in VARIABLE_TYPE.keys():\n",
    "    if \"categorical\" in VARIABLE_TYPE[feature]:\n",
    "        data_for_pairplot[feature] = data_for_pairplot[feature].astype(str)\n",
    "    else:\n",
    "        data_for_pairplot[feature] = data_for_pairplot[feature].astype(float)\n",
    "\n",
    "# fill missing with NAs\n",
    "for feature in MISSING_CODE.keys():\n",
    "    missing = (\n",
    "        MISSING_CODE[feature]\n",
    "        if isinstance(MISSING_CODE[feature], list)\n",
    "        else [MISSING_CODE[feature]]\n",
    "    )\n",
    "    data_for_pairplot.loc[data_for_pairplot[feature].isin(missing), feature] = None\n",
    "\n",
    "# drop unwanted columns\n",
    "data_for_pairplot = data_for_pairplot.drop([\"PAY\", \"ILP_R\"], axis=1)\n",
    "\n",
    "# binarize that one column\n",
    "data_for_pairplot[\"ILLB_R\"] = (data_for_pairplot[\"ILLB_R\"] <= 3).astype(str)\n",
    "\n",
    "sns.pairplot(\n",
    "    data_for_pairplot.select_dtypes(include=\"number\").drop(\"id\", axis=1),\n",
    "    kind=\"scatter\",\n",
    "    plot_kws={\"alpha\": 0.1},\n",
    ")\n",
    "plt.show()"
   ]
  },
  {
   "cell_type": "markdown",
   "id": "a6b2d9b8-da72-4c3a-b181-87b227d1e544",
   "metadata": {},
   "source": [
    "# Categorical effects"
   ]
  },
  {
   "cell_type": "code",
   "execution_count": null,
   "id": "9973415c-38a0-431e-8184-a6a6f5185e00",
   "metadata": {},
   "outputs": [],
   "source": [
    "data_for_violinplots = data_for_pairplot.assign(\n",
    "    id=lambda x: x[\"id\"].astype(str)\n",
    ").select_dtypes(include=\"object\")\n",
    "data_for_violinplots = data_for_violinplots.merge(\n",
    "    data[[\"id\", \"DBWT\"]].assign(id=lambda x: x[\"id\"].astype(str)),\n",
    "    on=\"id\",\n",
    "    how=\"inner\",\n",
    "    validate=\"1:1\",\n",
    ")\n",
    "data_for_violinplots = data_for_violinplots.fillna(\"None\")\n",
    "\n",
    "for feature in set(VARIABLE_TYPE.keys()) - {\"PAY\"}:\n",
    "    if \"categorical\" in VARIABLE_TYPE[feature]:\n",
    "        plt.violinplot(\n",
    "            [\n",
    "                data_for_violinplots.query(f\"{feature} == @x\")[\"DBWT\"]\n",
    "                for x in data_for_violinplots[feature].unique()\n",
    "            ]\n",
    "        )\n",
    "        plt.title(feature)\n",
    "        plt.show()"
   ]
  },
  {
   "cell_type": "markdown",
   "id": "852667c8-c46b-45e3-b708-d54d8f8fa007",
   "metadata": {},
   "source": [
    "# Test set"
   ]
  },
  {
   "cell_type": "code",
   "execution_count": null,
   "id": "9274376e-8a9b-4be6-9b52-61716a01c079",
   "metadata": {},
   "outputs": [],
   "source": [
    "data_test = pd.read_csv(\"../data/test.csv\")\n",
    "\n",
    "for feature in features:\n",
    "    if \"categorical\" in VARIABLE_TYPE[feature]:\n",
    "        unique_values_train = set(data[feature].unique())\n",
    "        unique_values_test = set(data_test[feature].unique())\n",
    "        if unique_values_train.union(unique_values_test) != unique_values_train:\n",
    "            print(f\"categorical feature {feature} takes new values in the test set.\")\n",
    "    else:\n",
    "        min_train, max_train = (\n",
    "            data.query(f\"{feature} != {MISSING_CODE[feature]}\")[feature].min(),\n",
    "            data.query(f\"{feature} != {MISSING_CODE[feature]}\")[feature].max(),\n",
    "        )\n",
    "        min_test, max_test = (\n",
    "            data_test.query(f\"{feature} != {MISSING_CODE[feature]}\")[feature].min(),\n",
    "            data_test.query(f\"{feature} != {MISSING_CODE[feature]}\")[feature].max(),\n",
    "        )\n",
    "        if (min_test < min_train) or (max_test > max_train):\n",
    "            print(f\"Possible extrapolation problem for {feature}.\")\n",
    "            print(f\"Train range: \\t{min_train}, {max_train}\")\n",
    "            print(f\"Test range: \\t{min_test}, {max_test}\")"
   ]
  },
  {
   "cell_type": "code",
   "execution_count": null,
   "id": "dc46a303-fbfd-4c7d-a2b5-58c59b2fb300",
   "metadata": {},
   "outputs": [],
   "source": [
    "data.query(f\"M_Ht_In != {MISSING_CODE['M_Ht_In']}\")[\"M_Ht_In\"].hist(\n",
    "    bins=50, density=True, alpha=0.75\n",
    ")\n",
    "data_test.query(f\"M_Ht_In != {MISSING_CODE['M_Ht_In']}\")[\"M_Ht_In\"].hist(\n",
    "    bins=50, density=True, alpha=0.75\n",
    ")\n",
    "plt.show()"
   ]
  },
  {
   "cell_type": "code",
   "execution_count": null,
   "id": "43627280-0040-4763-9f1e-a779eecb9100",
   "metadata": {},
   "outputs": [],
   "source": [
    "plt.scatter(data[\"M_Ht_In\"], data[\"DBWT\"], alpha=0.01)\n",
    "plt.show()"
   ]
  },
  {
   "cell_type": "markdown",
   "id": "383cfe5b-0ef9-463f-812d-2e71fabd4e02",
   "metadata": {},
   "source": [
    "# Response variable"
   ]
  },
  {
   "cell_type": "code",
   "execution_count": null,
   "id": "34f5f19e-a479-4f35-bb4e-39219693f46d",
   "metadata": {},
   "outputs": [],
   "source": [
    "data[\"DBWT\"].hist(bins=100)"
   ]
  },
  {
   "cell_type": "markdown",
   "id": "a2365190-8a4d-4e11-8fc2-12bdfa3a57bd",
   "metadata": {},
   "source": [
    "# Discoveries of Note\n",
    "\n",
    "Marginally, the strongest signals seem to come from `BFACIL` (birth place), `NO_INFEC` (whether an infection was reported), `WTGAIN` (weight gain), and `PWgt_R` (pre-pregnancy weight).\n",
    "\n",
    "As expected, `PWgt_R` and `BMI` are strongly correlated, and it may be worth dropping one (or de-correlating them).\n",
    "\n",
    "`ILLB_R`, the number of months since last live birth, implicitly takes four \"types:\"\n",
    "* values less than 3 mean \"pleural delivery\"\n",
    "* values 3-300 are actually months since last live birth\n",
    "* 888 means this is the first birth, so \"months since last live birth\" is undefined\n",
    "* 999 means missing.\n",
    "\n",
    "However, it might be possible to simply binarize this variable:"
   ]
  },
  {
   "cell_type": "code",
   "execution_count": null,
   "id": "fe873945-0c77-4ca5-b32a-4e3d2175e4fe",
   "metadata": {},
   "outputs": [],
   "source": [
    "plt.scatter(np.log(data[\"ILLB_R\"] + 1), data[\"DBWT\"], alpha=0.1)\n",
    "plt.show()"
   ]
  },
  {
   "cell_type": "markdown",
   "id": "e62aa10e-54c3-4fa9-b7cb-e20622e96b91",
   "metadata": {},
   "source": [
    "`ILP_R`, the interval since last pregnancy, is obviously related, and it might be wise to simply drop one. The difference would be previous terminations, which is covered in `PRIORTERM`."
   ]
  },
  {
   "cell_type": "code",
   "execution_count": null,
   "id": "12425cdb-944f-45a5-89c3-15651fc664b1",
   "metadata": {},
   "outputs": [],
   "source": [
    "plt.scatter(np.log(data[\"ILP_R\"] + 1), data[\"DBWT\"], alpha=0.1)\n",
    "plt.show()"
   ]
  },
  {
   "cell_type": "code",
   "execution_count": null,
   "id": "a7896b8c-a597-4556-ae78-f43e6a88265f",
   "metadata": {},
   "outputs": [],
   "source": [
    "plt.scatter(np.log(data[\"ILP_R\"] + 1), np.log(data[\"ILLB_R\"] + 1), alpha=0.1)\n",
    "plt.show()"
   ]
  },
  {
   "cell_type": "code",
   "execution_count": null,
   "id": "52d275c9-8888-4d06-8bb9-51bf7ee7927b",
   "metadata": {},
   "outputs": [],
   "source": [
    "print(data[\"ILP_R\"].value_counts())\n",
    "print(data[\"ILLB_R\"].value_counts())"
   ]
  },
  {
   "cell_type": "markdown",
   "id": "91f944c7-e61e-49fb-9d71-7bf747d3b211",
   "metadata": {},
   "source": [
    "`ILOP_R`seems related but in fact shows far fewer pleural pregnancies (and may clarify a trend for very short intervals), so binarization is not as attractive, although `888` = \"not applicable\" and `999` = \"unknown\" can be safely combined:"
   ]
  },
  {
   "cell_type": "code",
   "execution_count": null,
   "id": "b4b7b937-cdf2-44c0-bd9d-5153480ee385",
   "metadata": {},
   "outputs": [],
   "source": [
    "plt.scatter(np.log(data[\"ILOP_R\"] + 1), data[\"DBWT\"], alpha=0.1)\n",
    "plt.show()"
   ]
  },
  {
   "cell_type": "code",
   "execution_count": null,
   "id": "4970f27e-2a32-4910-b96f-0ec14c9a00db",
   "metadata": {},
   "outputs": [],
   "source": [
    "plt.violinplot([data.query(f\"ILOP_R == {x}\")[\"DBWT\"] for x in [888, 999]])\n",
    "plt.show()"
   ]
  },
  {
   "cell_type": "markdown",
   "id": "3ac3ac88-1886-49d7-a24c-71c93e619c0f",
   "metadata": {},
   "source": [
    "The two are in fact not very related to each other."
   ]
  },
  {
   "cell_type": "code",
   "execution_count": null,
   "id": "39ce08f4-bd9c-4296-8393-f8d3a98cd5ab",
   "metadata": {},
   "outputs": [],
   "source": [
    "plt.scatter(np.log(data[\"ILOP_R\"] + 1), np.log(data[\"ILLB_R\"] + 1), alpha=0.1)\n",
    "plt.show()"
   ]
  },
  {
   "cell_type": "markdown",
   "id": "626f9936-f115-4c7b-b4c4-b7df22656a59",
   "metadata": {},
   "source": [
    "`PAY` and `PAY_REC` are very similar (`PAY` categories 4, 5, 6, and 8 are combined into `PAY_REC` category 4). They also have the same missingness. Marginally, neither seem important, so likely we can drop `PAY`:"
   ]
  },
  {
   "cell_type": "code",
   "execution_count": null,
   "id": "efd4783e-0de1-4472-bbe8-113f29aa2e6e",
   "metadata": {},
   "outputs": [],
   "source": [
    "plt.violinplot([data.query(f\"PAY == {x}\")[\"DBWT\"] for x in data[\"PAY\"].unique()])\n",
    "plt.show()"
   ]
  },
  {
   "cell_type": "code",
   "execution_count": null,
   "id": "35baa535-e2ce-4d39-93be-f5337288be85",
   "metadata": {},
   "outputs": [],
   "source": [
    "plt.violinplot(\n",
    "    [data.query(f\"PAY_REC == {x}\")[\"DBWT\"] for x in data[\"PAY_REC\"].unique()]\n",
    ")\n",
    "plt.show()"
   ]
  },
  {
   "cell_type": "markdown",
   "id": "93440c0c-1e4a-4140-a26d-2d33b1ebc297",
   "metadata": {},
   "source": [
    "`PRECARE` is the month during which pre-care began (0 if no care, 99 if missing):"
   ]
  },
  {
   "cell_type": "code",
   "execution_count": null,
   "id": "be5366c1-f105-4580-8243-a6eb18286a45",
   "metadata": {},
   "outputs": [],
   "source": [
    "plt.violinplot(\n",
    "    [data.query(f\"PRECARE == {x}\")[\"DBWT\"] for x in [0] + list(range(1, 11)) + [99]]\n",
    ")\n",
    "plt.show()"
   ]
  },
  {
   "cell_type": "markdown",
   "id": "3bbf9e83-b5d6-4271-bcaa-813a44166b6e",
   "metadata": {},
   "source": [
    "No strong signal. Should we combine it with `DOB_MM` to engineer the feature \"months before birth that care began\"? Seems like no."
   ]
  },
  {
   "cell_type": "code",
   "execution_count": null,
   "id": "86caff57-72bd-4fe3-ac22-57a0f2e70571",
   "metadata": {},
   "outputs": [],
   "source": [
    "data[\"precare_months_before_birth\"] = (data[\"DOB_MM\"] - data[\"PRECARE\"]).apply(\n",
    "    lambda x: x % 12\n",
    ")\n",
    "\n",
    "plt.violinplot(\n",
    "    [\n",
    "        data.query(\"PRECARE != 99\").query(f\"precare_months_before_birth == {x}\")[\"DBWT\"]\n",
    "        for x in range(12)\n",
    "    ]\n",
    ")\n",
    "plt.show()"
   ]
  },
  {
   "cell_type": "markdown",
   "id": "fc1a1c4c-f7ff-4486-82c8-58eba85da02c",
   "metadata": {},
   "source": [
    "# Decisions\n",
    "\n",
    "For the simple regression model:\n",
    "* Log-transform `CIG_0`, `PRIORDEAD`, `PRIORTERM`, and `RF_CESARN`\n",
    "* Replace `BMI` with the residual from `BMI ~ PWgt_R`\n",
    "* Impute missing numerical values with a median, categorical values with a mode\n",
    "* Polynomial effect on `ILOP_R`\n",
    "\n",
    "For the tree-based quantile regression model:\n",
    "* Leave all missing coded\n",
    "* No log-transforms\n",
    "\n",
    "For the Bayesian neural network:\n",
    "* Replace missing codes with real missing and use the expected relu layer\n",
    "* Include missingness indicators as features\n",
    "* Decorrelate all features\n",
    "* Log-transform `CIG_0`, `PRIORDEAD`, `PRIORTERM`, and `RF_CESARN`\n",
    "\n",
    "For all models:\n",
    "* Binarize `ILLB_R` to `<=3` and `>3`\n",
    "* Drop `ILP_R` (it has more missing than the almost-equivalent `ILLB_R`)\n",
    "* Set `888` and `999` to \"missing\" for `ILOP_R`\n",
    "* Drop `PAY` (seems that `PAY_REC` covers it)\n",
    "* Clip `M_Ht_In` to [48, 78]\n",
    "\n",
    "Two submissions:\n",
    "* Best of three\n",
    "* Linear quantile regression ensemble model"
   ]
  }
 ],
 "metadata": {
  "kernelspec": {
   "display_name": "Python 3 (ipykernel)",
   "language": "python",
   "name": "python3"
  },
  "language_info": {
   "codemirror_mode": {
    "name": "ipython",
    "version": 3
   },
   "file_extension": ".py",
   "mimetype": "text/x-python",
   "name": "python",
   "nbconvert_exporter": "python",
   "pygments_lexer": "ipython3",
   "version": "3.11.5"
  }
 },
 "nbformat": 4,
 "nbformat_minor": 5
}
