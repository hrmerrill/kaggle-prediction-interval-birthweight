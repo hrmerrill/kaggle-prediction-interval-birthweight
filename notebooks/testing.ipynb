{
 "cells": [
  {
   "cell_type": "code",
   "execution_count": 1,
   "id": "5203d04c-3966-4837-b12b-67af07aba039",
   "metadata": {},
   "outputs": [],
   "source": [
    "%load_ext lab_black\n",
    "%load_ext autoreload\n",
    "%autoreload 2"
   ]
  },
  {
   "cell_type": "code",
   "execution_count": 2,
   "id": "b75dd941-74af-42c8-8734-da8768daed9d",
   "metadata": {},
   "outputs": [],
   "source": [
    "import pandas as pd\n",
    "import numpy as np\n",
    "import matplotlib.pyplot as plt\n",
    "from tensorflow.random import set_seed\n",
    "\n",
    "from kaggle_prediction_interval_birthweight.data.data_processing import DataProcessor\n",
    "from kaggle_prediction_interval_birthweight.workflow.validation import Validator\n",
    "from kaggle_prediction_interval_birthweight.workflow.wildwood_tuning import (\n",
    "    WildWoodTuner,\n",
    ")\n",
    "\n",
    "np.random.seed(1)\n",
    "set_seed(1)\n",
    "\n",
    "MODEL_TYPE = \"WildWoodRegressor\""
   ]
  },
  {
   "cell_type": "code",
   "execution_count": 3,
   "id": "eb4a8d1f-1cbb-478e-ae05-cdbde097536b",
   "metadata": {},
   "outputs": [],
   "source": [
    "data = pd.read_csv(\"~/dev/data/kaggle-prediction-interval-birthweight/train.csv\")\n",
    "data_test = pd.read_csv(\"~/dev/data/kaggle-prediction-interval-birthweight/test.csv\")\n",
    "\n",
    "data_processor = DataProcessor(MODEL_TYPE)\n",
    "X, y = data_processor(data)"
   ]
  },
  {
   "cell_type": "code",
   "execution_count": 4,
   "id": "4f31cdeb-f89f-4226-94f3-4d654beb7a6c",
   "metadata": {},
   "outputs": [
    {
     "name": "stdout",
     "output_type": "stream",
     "text": [
      "Iteration No: 1 started. Evaluating function at random point.\n",
      "{'n_estimators': 50, 'step': 93.93016234047931}\n",
      "Iteration No: 1 ended. Evaluation done at random point.\n",
      "Time taken: 80.1516\n",
      "Function value obtained: 478.2589\n",
      "Current minimum: 478.2589\n",
      "Iteration No: 2 started. Evaluating function at random point.\n",
      "{'n_estimators': 33, 'step': 99.91364637917304}\n",
      "Iteration No: 2 ended. Evaluation done at random point.\n",
      "Time taken: 51.4660\n",
      "Function value obtained: 478.8840\n",
      "Current minimum: 478.2589\n",
      "Iteration No: 3 started. Evaluating function at random point.\n",
      "{'n_estimators': 35, 'step': 45.69226545664236}\n",
      "Iteration No: 3 ended. Evaluation done at random point.\n",
      "Time taken: 55.0342\n",
      "Function value obtained: 479.0731\n",
      "Current minimum: 478.2589\n",
      "Iteration No: 4 started. Evaluating function at random point.\n",
      "{'n_estimators': 38, 'step': 70.2771433123132}\n",
      "Iteration No: 4 ended. Evaluation done at random point.\n",
      "Time taken: 59.2928\n",
      "Function value obtained: 479.0384\n",
      "Current minimum: 478.2589\n",
      "Iteration No: 5 started. Evaluating function at random point.\n",
      "{'n_estimators': 49, 'step': 86.16798250174156}\n",
      "Iteration No: 5 ended. Evaluation done at random point.\n",
      "Time taken: 76.5260\n",
      "Function value obtained: 478.4289\n",
      "Current minimum: 478.2589\n",
      "Iteration No: 6 started. Evaluating function at random point.\n",
      "{'n_estimators': 36, 'step': 57.20933436155843}\n",
      "Iteration No: 6 ended. Evaluation done at random point.\n",
      "Time taken: 56.5683\n",
      "Function value obtained: 478.7291\n",
      "Current minimum: 478.2589\n",
      "Iteration No: 7 started. Evaluating function at random point.\n",
      "{'n_estimators': 39, 'step': 30.661949235684304}\n",
      "Iteration No: 7 ended. Evaluation done at random point.\n",
      "Time taken: 61.2156\n",
      "Function value obtained: 478.7067\n",
      "Current minimum: 478.2589\n",
      "Iteration No: 8 started. Evaluating function at random point.\n",
      "{'n_estimators': 41, 'step': 92.25658221213098}\n",
      "Iteration No: 8 ended. Evaluation done at random point.\n",
      "Time taken: 64.0115\n",
      "Function value obtained: 478.5621\n",
      "Current minimum: 478.2589\n",
      "Iteration No: 9 started. Evaluating function at random point.\n",
      "{'n_estimators': 39, 'step': 48.76287104662377}\n",
      "Iteration No: 9 ended. Evaluation done at random point.\n",
      "Time taken: 61.0640\n",
      "Function value obtained: 478.8028\n",
      "Current minimum: 478.2589\n",
      "Iteration No: 10 started. Evaluating function at random point.\n",
      "{'n_estimators': 49, 'step': 80.05503127028803}\n",
      "Iteration No: 10 ended. Evaluation done at random point.\n",
      "Time taken: 76.1654\n",
      "Function value obtained: 478.0868\n",
      "Current minimum: 478.0868\n",
      "Iteration No: 11 started. Searching for the next optimal point.\n",
      "{'n_estimators': 50, 'step': 10.328716967793826}\n",
      "Iteration No: 11 ended. Search finished for the next optimal point.\n",
      "Time taken: 77.9467\n",
      "Function value obtained: 478.4758\n",
      "Current minimum: 478.0868\n",
      "Iteration No: 12 started. Searching for the next optimal point.\n",
      "{'n_estimators': 46, 'step': 100.0}\n",
      "Iteration No: 12 ended. Search finished for the next optimal point.\n",
      "Time taken: 72.0852\n",
      "Function value obtained: 478.4955\n",
      "Current minimum: 478.0868\n",
      "Iteration No: 13 started. Searching for the next optimal point.\n",
      "{'n_estimators': 50, 'step': 10.842904388893036}\n",
      "Iteration No: 13 ended. Search finished for the next optimal point.\n",
      "Time taken: 77.9464\n",
      "Function value obtained: 477.9936\n",
      "Current minimum: 477.9936\n",
      "Iteration No: 14 started. Searching for the next optimal point.\n",
      "{'n_estimators': 50, 'step': 10.076638269986283}\n",
      "Iteration No: 14 ended. Search finished for the next optimal point.\n",
      "Time taken: 78.2502\n",
      "Function value obtained: 478.4370\n",
      "Current minimum: 477.9936\n",
      "Iteration No: 15 started. Searching for the next optimal point.\n",
      "{'n_estimators': 50, 'step': 99.77724730980867}\n",
      "Iteration No: 15 ended. Search finished for the next optimal point.\n",
      "Time taken: 78.2048\n",
      "Function value obtained: 478.3188\n",
      "Current minimum: 477.9936\n",
      "Iteration No: 16 started. Searching for the next optimal point.\n",
      "{'n_estimators': 50, 'step': 10.19276015995793}\n",
      "Iteration No: 16 ended. Search finished for the next optimal point.\n",
      "Time taken: 78.0903\n",
      "Function value obtained: 478.4475\n",
      "Current minimum: 477.9936\n",
      "Iteration No: 17 started. Searching for the next optimal point.\n",
      "{'n_estimators': 30, 'step': 10.002854173112524}\n",
      "Iteration No: 17 ended. Search finished for the next optimal point.\n",
      "Time taken: 47.7770\n",
      "Function value obtained: 479.2265\n",
      "Current minimum: 477.9936\n",
      "Iteration No: 18 started. Searching for the next optimal point.\n",
      "{'n_estimators': 50, 'step': 99.8886767679573}\n",
      "Iteration No: 18 ended. Search finished for the next optimal point.\n",
      "Time taken: 78.5956\n",
      "Function value obtained: 478.3415\n",
      "Current minimum: 477.9936\n",
      "Iteration No: 19 started. Searching for the next optimal point.\n",
      "{'n_estimators': 50, 'step': 99.99894023240097}\n",
      "Iteration No: 19 ended. Search finished for the next optimal point.\n",
      "Time taken: 78.6579\n",
      "Function value obtained: 478.2064\n",
      "Current minimum: 477.9936\n",
      "Iteration No: 20 started. Searching for the next optimal point.\n",
      "{'n_estimators': 50, 'step': 10.274395242762075}\n",
      "Iteration No: 20 ended. Search finished for the next optimal point.\n",
      "Time taken: 78.6972\n",
      "Function value obtained: 478.6218\n",
      "Current minimum: 477.9936\n"
     ]
    },
    {
     "data": {
      "text/plain": [
       "{'score': 477.99358983808935,\n",
       " 'opt_parameters': {'n_estimators': 50, 'step': 10.842904388893036}}"
      ]
     },
     "execution_count": 4,
     "metadata": {},
     "output_type": "execute_result"
    }
   ],
   "source": [
    "tuner = WildWoodTuner(verbose=True)\n",
    "tuner.tune(X, y)\n",
    "tuner.result"
   ]
  },
  {
   "cell_type": "code",
   "execution_count": 5,
   "id": "63b773de-1311-4beb-98b6-2e148d83712d",
   "metadata": {},
   "outputs": [
    {
     "data": {
      "image/png": "[encoded data removed]",
      "text/plain": [
       "<Figure size 640x480 with 1 Axes>"
      ]
     },
     "metadata": {},
     "output_type": "display_data"
    },
    {
     "data": {
      "image/png": "[encoded data removed]",
      "text/plain": [
       "<Figure size 640x480 with 1 Axes>"
      ]
     },
     "metadata": {},
     "output_type": "display_data"
    }
   ],
   "source": [
    "for which_param in range(2):\n",
    "    x = [i[which_param] for i in tuner.res_gp.x_iters]\n",
    "    plt.scatter(x, tuner.res_gp.func_vals)\n",
    "    plt.show()"
   ]
  },
  {
   "cell_type": "code",
   "execution_count": 14,
   "id": "45071e13-402b-4621-924d-120da35fabde",
   "metadata": {},
   "outputs": [
    {
     "name": "stdout",
     "output_type": "stream",
     "text": [
      "Validation on fold 1 of 5 begins.\n",
      "Calibrating with Mapie.\n"
     ]
    },
    {
     "name": "stderr",
     "output_type": "stream",
     "text": [
      "/Users/hunter.merrill/Library/Caches/pypoetry/virtualenvs/kaggle-prediction-interval-birthweight-irFUtOWA-py3.11/lib/python3.11/site-packages/mapie/regression/quantile_regression.py:201: UserWarning: WARNING: The alpha that is set needs to be the same as the alpha of your prefitted model in the following order [alpha/2, 1 - alpha/2, 0.5]\n",
      "  warnings.warn(\n",
      "/Users/hunter.merrill/Library/Caches/pypoetry/virtualenvs/kaggle-prediction-interval-birthweight-irFUtOWA-py3.11/lib/python3.11/site-packages/mapie/utils.py:537: UserWarning: WARNING: The predictions have issues.\n",
      "The upper predictions are lower thanthe lower predictions at some points.\n",
      "  warnings.warn(\n"
     ]
    },
    {
     "name": "stdout",
     "output_type": "stream",
     "text": [
      "Validation on fold 2 of 5 begins.\n",
      "Calibrating with Mapie.\n"
     ]
    },
    {
     "name": "stderr",
     "output_type": "stream",
     "text": [
      "/Users/hunter.merrill/Library/Caches/pypoetry/virtualenvs/kaggle-prediction-interval-birthweight-irFUtOWA-py3.11/lib/python3.11/site-packages/mapie/regression/quantile_regression.py:201: UserWarning: WARNING: The alpha that is set needs to be the same as the alpha of your prefitted model in the following order [alpha/2, 1 - alpha/2, 0.5]\n",
      "  warnings.warn(\n",
      "/Users/hunter.merrill/Library/Caches/pypoetry/virtualenvs/kaggle-prediction-interval-birthweight-irFUtOWA-py3.11/lib/python3.11/site-packages/mapie/utils.py:537: UserWarning: WARNING: The predictions have issues.\n",
      "The upper predictions are lower thanthe lower predictions at some points.\n",
      "  warnings.warn(\n"
     ]
    },
    {
     "name": "stdout",
     "output_type": "stream",
     "text": [
      "Validation on fold 3 of 5 begins.\n",
      "Calibrating with Mapie.\n"
     ]
    },
    {
     "name": "stderr",
     "output_type": "stream",
     "text": [
      "/Users/hunter.merrill/Library/Caches/pypoetry/virtualenvs/kaggle-prediction-interval-birthweight-irFUtOWA-py3.11/lib/python3.11/site-packages/mapie/regression/quantile_regression.py:201: UserWarning: WARNING: The alpha that is set needs to be the same as the alpha of your prefitted model in the following order [alpha/2, 1 - alpha/2, 0.5]\n",
      "  warnings.warn(\n",
      "/Users/hunter.merrill/Library/Caches/pypoetry/virtualenvs/kaggle-prediction-interval-birthweight-irFUtOWA-py3.11/lib/python3.11/site-packages/mapie/utils.py:537: UserWarning: WARNING: The predictions have issues.\n",
      "The upper predictions are lower thanthe lower predictions at some points.\n",
      "  warnings.warn(\n"
     ]
    },
    {
     "name": "stdout",
     "output_type": "stream",
     "text": [
      "Validation on fold 4 of 5 begins.\n",
      "Calibrating with Mapie.\n"
     ]
    },
    {
     "name": "stderr",
     "output_type": "stream",
     "text": [
      "/Users/hunter.merrill/Library/Caches/pypoetry/virtualenvs/kaggle-prediction-interval-birthweight-irFUtOWA-py3.11/lib/python3.11/site-packages/mapie/regression/quantile_regression.py:201: UserWarning: WARNING: The alpha that is set needs to be the same as the alpha of your prefitted model in the following order [alpha/2, 1 - alpha/2, 0.5]\n",
      "  warnings.warn(\n",
      "/Users/hunter.merrill/Library/Caches/pypoetry/virtualenvs/kaggle-prediction-interval-birthweight-irFUtOWA-py3.11/lib/python3.11/site-packages/mapie/utils.py:537: UserWarning: WARNING: The predictions have issues.\n",
      "The upper predictions are lower thanthe lower predictions at some points.\n",
      "  warnings.warn(\n"
     ]
    },
    {
     "name": "stdout",
     "output_type": "stream",
     "text": [
      "Validation on fold 5 of 5 begins.\n",
      "Calibrating with Mapie.\n"
     ]
    },
    {
     "name": "stderr",
     "output_type": "stream",
     "text": [
      "/Users/hunter.merrill/Library/Caches/pypoetry/virtualenvs/kaggle-prediction-interval-birthweight-irFUtOWA-py3.11/lib/python3.11/site-packages/mapie/regression/quantile_regression.py:201: UserWarning: WARNING: The alpha that is set needs to be the same as the alpha of your prefitted model in the following order [alpha/2, 1 - alpha/2, 0.5]\n",
      "  warnings.warn(\n",
      "/Users/hunter.merrill/Library/Caches/pypoetry/virtualenvs/kaggle-prediction-interval-birthweight-irFUtOWA-py3.11/lib/python3.11/site-packages/mapie/utils.py:537: UserWarning: WARNING: The predictions have issues.\n",
      "The upper predictions are lower thanthe lower predictions at some points.\n",
      "  warnings.warn(\n"
     ]
    },
    {
     "name": "stdout",
     "output_type": "stream",
     "text": [
      "NOIS is 1610.3 and coverage is 90.1%.\n"
     ]
    },
    {
     "name": "stderr",
     "output_type": "stream",
     "text": [
      "/Users/hunter.merrill/Library/Caches/pypoetry/virtualenvs/kaggle-prediction-interval-birthweight-irFUtOWA-py3.11/lib/python3.11/site-packages/mapie/utils.py:537: UserWarning: WARNING: The predictions have issues.\n",
      "The upper predictions are lower thanthe lower predictions at some points.\n",
      "  warnings.warn(\n"
     ]
    },
    {
     "ename": "KeyboardInterrupt",
     "evalue": "",
     "output_type": "error",
     "traceback": [
      "\u001b[0;31m---------------------------------------------------------------------------\u001b[0m",
      "\u001b[0;31mKeyboardInterrupt\u001b[0m                         Traceback (most recent call last)",
      "Cell \u001b[0;32mIn[14], line 32\u001b[0m\n\u001b[1;32m     29\u001b[0m validator\u001b[38;5;241m.\u001b[39mfit(data)\n\u001b[1;32m     30\u001b[0m validator\u001b[38;5;241m.\u001b[39mprint_performance_summary()\n\u001b[0;32m---> 32\u001b[0m lower, upper \u001b[38;5;241m=\u001b[39m \u001b[43mvalidator\u001b[49m\u001b[38;5;241;43m.\u001b[39;49m\u001b[43mpredict_intervals\u001b[49m\u001b[43m(\u001b[49m\u001b[43mdata\u001b[49m\u001b[43m)\u001b[49m\n\u001b[1;32m     33\u001b[0m lower_new, upper_new \u001b[38;5;241m=\u001b[39m validator\u001b[38;5;241m.\u001b[39mpredict_intervals(data_test)\n\u001b[1;32m     35\u001b[0m plot_result(data[\u001b[38;5;124m\"\u001b[39m\u001b[38;5;124mDBWT\u001b[39m\u001b[38;5;124m\"\u001b[39m], lower, upper, lower_new, upper_new)\n",
      "File \u001b[0;32m~/dev/repos/kaggle-prediction-interval-birthweight/kaggle_prediction_interval_birthweight/workflow/validation.py:123\u001b[0m, in \u001b[0;36mValidator.predict_intervals\u001b[0;34m(self, df)\u001b[0m\n\u001b[1;32m    121\u001b[0m \u001b[38;5;28;01melse\u001b[39;00m:\n\u001b[1;32m    122\u001b[0m     x \u001b[38;5;241m=\u001b[39m \u001b[38;5;28mself\u001b[39m\u001b[38;5;241m.\u001b[39mdata_processors[cv_fold](df)\n\u001b[0;32m--> 123\u001b[0m     lower, upper \u001b[38;5;241m=\u001b[39m \u001b[38;5;28;43mself\u001b[39;49m\u001b[38;5;241;43m.\u001b[39;49m\u001b[43mmodels\u001b[49m\u001b[43m[\u001b[49m\u001b[43mcv_fold\u001b[49m\u001b[43m]\u001b[49m\u001b[38;5;241;43m.\u001b[39;49m\u001b[43mpredict_intervals\u001b[49m\u001b[43m(\u001b[49m\u001b[43mx\u001b[49m\u001b[43m)\u001b[49m\n\u001b[1;32m    124\u001b[0m lowers\u001b[38;5;241m.\u001b[39mappend(lower\u001b[38;5;241m.\u001b[39mreshape((\u001b[38;5;241m-\u001b[39m\u001b[38;5;241m1\u001b[39m, \u001b[38;5;241m1\u001b[39m)))\n\u001b[1;32m    125\u001b[0m uppers\u001b[38;5;241m.\u001b[39mappend(upper\u001b[38;5;241m.\u001b[39mreshape((\u001b[38;5;241m-\u001b[39m\u001b[38;5;241m1\u001b[39m, \u001b[38;5;241m1\u001b[39m)))\n",
      "File \u001b[0;32m~/dev/repos/kaggle-prediction-interval-birthweight/kaggle_prediction_interval_birthweight/model/wildwood.py:105\u001b[0m, in \u001b[0;36mWildWoodRegressor.predict_intervals\u001b[0;34m(self, X)\u001b[0m\n\u001b[1;32m     91\u001b[0m \u001b[38;5;28;01mdef\u001b[39;00m \u001b[38;5;21mpredict_intervals\u001b[39m(\u001b[38;5;28mself\u001b[39m, X: np\u001b[38;5;241m.\u001b[39mndarray) \u001b[38;5;241m-\u001b[39m\u001b[38;5;241m>\u001b[39m Tuple[np\u001b[38;5;241m.\u001b[39mndarray, np\u001b[38;5;241m.\u001b[39mndarray]:\n\u001b[1;32m     92\u001b[0m \u001b[38;5;250m    \u001b[39m\u001b[38;5;124;03m\"\"\"\u001b[39;00m\n\u001b[1;32m     93\u001b[0m \u001b[38;5;124;03m    Predict the alpha * 100% interval for birthweight.\u001b[39;00m\n\u001b[1;32m     94\u001b[0m \n\u001b[0;32m   (...)\u001b[0m\n\u001b[1;32m    103\u001b[0m \u001b[38;5;124;03m        the arrays corresponding to the lower and upper bounds, respectively\u001b[39;00m\n\u001b[1;32m    104\u001b[0m \u001b[38;5;124;03m    \"\"\"\u001b[39;00m\n\u001b[0;32m--> 105\u001b[0m     _, intervals \u001b[38;5;241m=\u001b[39m \u001b[38;5;28;43mself\u001b[39;49m\u001b[38;5;241;43m.\u001b[39;49m\u001b[43mcalibrator\u001b[49m\u001b[38;5;241;43m.\u001b[39;49m\u001b[43mpredict\u001b[49m\u001b[43m(\u001b[49m\u001b[43mX\u001b[49m\u001b[43m)\u001b[49m\n\u001b[1;32m    106\u001b[0m     lower, upper \u001b[38;5;241m=\u001b[39m intervals\u001b[38;5;241m.\u001b[39msqueeze()\u001b[38;5;241m.\u001b[39mT\n\u001b[1;32m    107\u001b[0m     \u001b[38;5;28;01mreturn\u001b[39;00m lower\u001b[38;5;241m.\u001b[39msqueeze(), upper\u001b[38;5;241m.\u001b[39msqueeze()\n",
      "File \u001b[0;32m~/Library/Caches/pypoetry/virtualenvs/kaggle-prediction-interval-birthweight-irFUtOWA-py3.11/lib/python3.11/site-packages/mapie/regression/quantile_regression.py:708\u001b[0m, in \u001b[0;36mMapieQuantileRegressor.predict\u001b[0;34m(self, X, ensemble, alpha, symmetry)\u001b[0m\n\u001b[1;32m    706\u001b[0m y_pred_low \u001b[38;5;241m=\u001b[39m y_preds[\u001b[38;5;241m0\u001b[39m][:, np\u001b[38;5;241m.\u001b[39mnewaxis] \u001b[38;5;241m-\u001b[39m quantile[\u001b[38;5;241m0\u001b[39m]\n\u001b[1;32m    707\u001b[0m y_pred_up \u001b[38;5;241m=\u001b[39m y_preds[\u001b[38;5;241m1\u001b[39m][:, np\u001b[38;5;241m.\u001b[39mnewaxis] \u001b[38;5;241m+\u001b[39m quantile[\u001b[38;5;241m1\u001b[39m]\n\u001b[0;32m--> 708\u001b[0m \u001b[43mcheck_lower_upper_bounds\u001b[49m\u001b[43m(\u001b[49m\u001b[43my_preds\u001b[49m\u001b[43m,\u001b[49m\u001b[43m \u001b[49m\u001b[43my_pred_low\u001b[49m\u001b[43m,\u001b[49m\u001b[43m \u001b[49m\u001b[43my_pred_up\u001b[49m\u001b[43m)\u001b[49m\n\u001b[1;32m    709\u001b[0m \u001b[38;5;28;01mreturn\u001b[39;00m y_preds[\u001b[38;5;241m2\u001b[39m], np\u001b[38;5;241m.\u001b[39mstack([y_pred_low, y_pred_up], axis\u001b[38;5;241m=\u001b[39m\u001b[38;5;241m1\u001b[39m)\n",
      "File \u001b[0;32m~/Library/Caches/pypoetry/virtualenvs/kaggle-prediction-interval-birthweight-irFUtOWA-py3.11/lib/python3.11/site-packages/mapie/utils.py:527\u001b[0m, in \u001b[0;36mcheck_lower_upper_bounds\u001b[0;34m(y_preds, y_pred_low, y_pred_up)\u001b[0m\n\u001b[1;32m    518\u001b[0m \u001b[38;5;28;01mif\u001b[39;00m (y_preds\u001b[38;5;241m.\u001b[39mndim \u001b[38;5;241m!=\u001b[39m \u001b[38;5;241m1\u001b[39m) \u001b[38;5;129;01mand\u001b[39;00m any_init_inversion:\n\u001b[1;32m    519\u001b[0m     warnings\u001b[38;5;241m.\u001b[39mwarn(\n\u001b[1;32m    520\u001b[0m         \u001b[38;5;124m\"\u001b[39m\u001b[38;5;124mWARNING: The predictions of the quantile regression \u001b[39m\u001b[38;5;124m\"\u001b[39m\n\u001b[1;32m    521\u001b[0m         \u001b[38;5;241m+\u001b[39m \u001b[38;5;124m\"\u001b[39m\u001b[38;5;124mhave issues.\u001b[39m\u001b[38;5;130;01m\\n\u001b[39;00m\u001b[38;5;124mThe upper quantile predictions are lower\u001b[39m\u001b[38;5;130;01m\\n\u001b[39;00m\u001b[38;5;124m\"\u001b[39m\n\u001b[1;32m    522\u001b[0m         \u001b[38;5;241m+\u001b[39m \u001b[38;5;124m\"\u001b[39m\u001b[38;5;124mthan the lower quantile predictions\u001b[39m\u001b[38;5;130;01m\\n\u001b[39;00m\u001b[38;5;124m\"\u001b[39m\n\u001b[1;32m    523\u001b[0m         \u001b[38;5;241m+\u001b[39m \u001b[38;5;124m\"\u001b[39m\u001b[38;5;124mat some points.\u001b[39m\u001b[38;5;124m\"\u001b[39m\n\u001b[1;32m    524\u001b[0m     )\n\u001b[1;32m    526\u001b[0m any_final_inversion \u001b[38;5;241m=\u001b[39m np\u001b[38;5;241m.\u001b[39many(\n\u001b[0;32m--> 527\u001b[0m     \u001b[43mnp\u001b[49m\u001b[38;5;241;43m.\u001b[39;49m\u001b[43mlogical_or\u001b[49m\u001b[43m(\u001b[49m\n\u001b[1;32m    528\u001b[0m \u001b[43m        \u001b[49m\u001b[43mnp\u001b[49m\u001b[38;5;241;43m.\u001b[39;49m\u001b[43mlogical_or\u001b[49m\u001b[43m(\u001b[49m\n\u001b[1;32m    529\u001b[0m \u001b[43m            \u001b[49m\u001b[43my_pred_low\u001b[49m\u001b[43m \u001b[49m\u001b[38;5;241;43m>\u001b[39;49m\u001b[43m \u001b[49m\u001b[43my_pred_up\u001b[49m\u001b[43m,\u001b[49m\n\u001b[1;32m    530\u001b[0m \u001b[43m            \u001b[49m\u001b[43minit_pred\u001b[49m\u001b[43m \u001b[49m\u001b[38;5;241;43m<\u001b[39;49m\u001b[43m \u001b[49m\u001b[43my_pred_low\u001b[49m\u001b[43m,\u001b[49m\n\u001b[1;32m    531\u001b[0m \u001b[43m        \u001b[49m\u001b[43m)\u001b[49m\u001b[43m,\u001b[49m\n\u001b[1;32m    532\u001b[0m \u001b[43m        \u001b[49m\u001b[43minit_pred\u001b[49m\u001b[43m \u001b[49m\u001b[38;5;241;43m>\u001b[39;49m\u001b[43m \u001b[49m\u001b[43my_pred_up\u001b[49m\u001b[43m,\u001b[49m\n\u001b[1;32m    533\u001b[0m \u001b[43m    \u001b[49m\u001b[43m)\u001b[49m\n\u001b[1;32m    534\u001b[0m )\n\u001b[1;32m    536\u001b[0m \u001b[38;5;28;01mif\u001b[39;00m any_final_inversion:\n\u001b[1;32m    537\u001b[0m     warnings\u001b[38;5;241m.\u001b[39mwarn(\n\u001b[1;32m    538\u001b[0m         \u001b[38;5;124m\"\u001b[39m\u001b[38;5;124mWARNING: The predictions have issues.\u001b[39m\u001b[38;5;130;01m\\n\u001b[39;00m\u001b[38;5;124m\"\u001b[39m\n\u001b[1;32m    539\u001b[0m         \u001b[38;5;241m+\u001b[39m \u001b[38;5;124m\"\u001b[39m\u001b[38;5;124mThe upper predictions are lower than\u001b[39m\u001b[38;5;124m\"\u001b[39m\n\u001b[1;32m    540\u001b[0m         \u001b[38;5;241m+\u001b[39m \u001b[38;5;124m\"\u001b[39m\u001b[38;5;124mthe lower predictions at some points.\u001b[39m\u001b[38;5;124m\"\u001b[39m\n\u001b[1;32m    541\u001b[0m     )\n",
      "\u001b[0;31mKeyboardInterrupt\u001b[0m: "
     ]
    }
   ],
   "source": [
    "def plot_result(obs, lower, upper, lower_new, upper_new):\n",
    "    fig, ax = plt.subplots(1, 3, figsize=(10, 3))\n",
    "    ax[0].vlines(x=obs, ymin=lower, ymax=upper, alpha=0.25)\n",
    "    ax[0].set_xlim(\n",
    "        np.min(np.concatenate([obs, lower])), np.max(np.concatenate([obs, upper]))\n",
    "    )\n",
    "    ax[0].set_ylim(\n",
    "        np.min(np.concatenate([obs, lower])), np.max(np.concatenate([obs, upper]))\n",
    "    )\n",
    "    ax[0].plot([0, 1], [0, 1], transform=ax[0].transAxes, color=\"orange\")\n",
    "    ax[0].set_xlabel(\"observations\")\n",
    "    ax[0].set_ylabel(\"predictions\")\n",
    "    ax[1].hist(lower, bins=100, density=True, color=\"blue\", alpha=0.75, label=\"train\")\n",
    "    ax[1].hist(\n",
    "        lower_new, bins=100, density=True, color=\"orange\", alpha=0.75, label=\"test\"\n",
    "    )\n",
    "    ax[1].set_xlabel(\"predicted lower bounds\")\n",
    "    ax[1].legend()\n",
    "    ax[2].hist(upper, bins=100, density=True, color=\"blue\", alpha=0.75, label=\"train\")\n",
    "    ax[2].hist(\n",
    "        upper_new, bins=100, density=True, color=\"orange\", alpha=0.75, label=\"test\"\n",
    "    )\n",
    "    ax[2].set_xlabel(\"predicted upper bounds\")\n",
    "    ax[2].legend()\n",
    "    plt.show()\n",
    "\n",
    "\n",
    "validator = Validator(MODEL_TYPE)\n",
    "validator.fit(data)\n",
    "validator.print_performance_summary()\n",
    "\n",
    "lower, upper = validator.predict_intervals(data)\n",
    "lower_new, upper_new = validator.predict_intervals(data_test)\n",
    "\n",
    "plot_result(data[\"DBWT\"], lower, upper, lower_new, upper_new)"
   ]
  }
 ],
 "metadata": {
  "kernelspec": {
   "display_name": "Python 3 (ipykernel)",
   "language": "python",
   "name": "python3"
  },
  "language_info": {
   "codemirror_mode": {
    "name": "ipython",
    "version": 3
   },
   "file_extension": ".py",
   "mimetype": "text/x-python",
   "name": "python",
   "nbconvert_exporter": "python",
   "pygments_lexer": "ipython3",
   "version": "3.11.5"
  }
 },
 "nbformat": 4,
 "nbformat_minor": 5
}
