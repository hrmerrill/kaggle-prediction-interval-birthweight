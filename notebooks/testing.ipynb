{
 "cells": [
  {
   "cell_type": "code",
   "execution_count": 1,
   "id": "5203d04c-3966-4837-b12b-67af07aba039",
   "metadata": {},
   "outputs": [],
   "source": [
    "%load_ext lab_black\n",
    "%load_ext autoreload\n",
    "%autoreload 2"
   ]
  },
  {
   "cell_type": "code",
   "execution_count": 2,
   "id": "b75dd941-74af-42c8-8734-da8768daed9d",
   "metadata": {},
   "outputs": [],
   "source": [
    "import pandas as pd\n",
    "import numpy as np\n",
    "import matplotlib.pyplot as plt\n",
    "from tensorflow.random import set_seed\n",
    "\n",
    "from kaggle_prediction_interval_birthweight.data.data_processing import DataProcessor\n",
    "from kaggle_prediction_interval_birthweight.workflow.validation import Validator\n",
    "from kaggle_prediction_interval_birthweight.workflow.histboost_tuning import (\n",
    "    HistBoostTuner,\n",
    ")\n",
    "\n",
    "np.random.seed(1)\n",
    "set_seed(1)"
   ]
  },
  {
   "cell_type": "code",
   "execution_count": 3,
   "id": "0cf4c542-592f-45ec-9c01-747c0f7d1f0d",
   "metadata": {},
   "outputs": [],
   "source": [
    "def plot_result(obs, lower, upper, lower_new, upper_new):\n",
    "    fig, ax = plt.subplots(1, 3, figsize=(10, 3))\n",
    "    ax[0].vlines(x=obs, ymin=lower, ymax=upper, alpha=0.25)\n",
    "    ax[0].set_xlim(\n",
    "        np.min(np.concatenate([obs, lower])), np.max(np.concatenate([obs, upper]))\n",
    "    )\n",
    "    ax[0].set_ylim(\n",
    "        np.min(np.concatenate([obs, lower])), np.max(np.concatenate([obs, upper]))\n",
    "    )\n",
    "    ax[0].plot([0, 1], [0, 1], transform=ax[0].transAxes, color=\"orange\")\n",
    "    ax[0].set_xlabel(\"observations\")\n",
    "    ax[0].set_ylabel(\"predictions\")\n",
    "    ax[1].hist(lower, bins=100, density=True, color=\"blue\", alpha=0.75, label=\"train\")\n",
    "    ax[1].hist(\n",
    "        lower_new, bins=100, density=True, color=\"orange\", alpha=0.75, label=\"test\"\n",
    "    )\n",
    "    ax[1].set_xlabel(\"predicted lower bounds\")\n",
    "    ax[1].legend()\n",
    "    ax[2].hist(upper, bins=100, density=True, color=\"blue\", alpha=0.75, label=\"train\")\n",
    "    ax[2].hist(\n",
    "        upper_new, bins=100, density=True, color=\"orange\", alpha=0.75, label=\"test\"\n",
    "    )\n",
    "    ax[2].set_xlabel(\"predicted upper bounds\")\n",
    "    ax[2].legend()\n",
    "    plt.show()"
   ]
  },
  {
   "cell_type": "code",
   "execution_count": 4,
   "id": "eb4a8d1f-1cbb-478e-ae05-cdbde097536b",
   "metadata": {},
   "outputs": [],
   "source": [
    "data = pd.read_csv(\"~/dev/data/kaggle-prediction-interval-birthweight/train.csv\")\n",
    "data_test = pd.read_csv(\"~/dev/data/kaggle-prediction-interval-birthweight/test.csv\")"
   ]
  },
  {
   "cell_type": "code",
   "execution_count": 5,
   "id": "4f31cdeb-f89f-4226-94f3-4d654beb7a6c",
   "metadata": {},
   "outputs": [],
   "source": [
    "data_processor = DataProcessor(\"HistBoostRegressor\")\n",
    "X, y = data_processor(data)"
   ]
  },
  {
   "cell_type": "code",
   "execution_count": 6,
   "id": "ccce5d3a-edca-4f49-809c-5b88d202e11b",
   "metadata": {},
   "outputs": [
    {
     "name": "stdout",
     "output_type": "stream",
     "text": [
      "Iteration No: 1 started. Evaluating function at random point.\n",
      "Iteration No: 1 ended. Evaluation done at random point.\n",
      "Time taken: 0.0001\n",
      "Function value obtained: -0.1881\n",
      "Current minimum: -0.1881\n",
      "Iteration No: 2 started. Evaluating function at random point.\n",
      "Iteration No: 2 ended. Evaluation done at random point.\n",
      "Time taken: 7.1630\n",
      "Function value obtained: -0.1575\n",
      "Current minimum: -0.1881\n",
      "Iteration No: 3 started. Evaluating function at random point.\n",
      "Iteration No: 3 ended. Evaluation done at random point.\n",
      "Time taken: 12.5183\n",
      "Function value obtained: -0.1655\n",
      "Current minimum: -0.1881\n",
      "Iteration No: 4 started. Evaluating function at random point.\n",
      "Iteration No: 4 ended. Evaluation done at random point.\n",
      "Time taken: 5.0787\n",
      "Function value obtained: -0.1597\n",
      "Current minimum: -0.1881\n",
      "Iteration No: 5 started. Evaluating function at random point.\n",
      "Iteration No: 5 ended. Evaluation done at random point.\n",
      "Time taken: 6.0487\n",
      "Function value obtained: -0.1691\n",
      "Current minimum: -0.1881\n",
      "Iteration No: 6 started. Evaluating function at random point.\n",
      "Iteration No: 6 ended. Evaluation done at random point.\n",
      "Time taken: 8.2349\n",
      "Function value obtained: -0.1729\n",
      "Current minimum: -0.1881\n",
      "Iteration No: 7 started. Evaluating function at random point.\n",
      "Iteration No: 7 ended. Evaluation done at random point.\n",
      "Time taken: 6.7297\n",
      "Function value obtained: -0.1765\n",
      "Current minimum: -0.1881\n",
      "Iteration No: 8 started. Evaluating function at random point.\n",
      "Iteration No: 8 ended. Evaluation done at random point.\n",
      "Time taken: 15.8603\n",
      "Function value obtained: -0.1839\n",
      "Current minimum: -0.1881\n",
      "Iteration No: 9 started. Evaluating function at random point.\n",
      "Iteration No: 9 ended. Evaluation done at random point.\n",
      "Time taken: 18.7776\n",
      "Function value obtained: -0.1828\n",
      "Current minimum: -0.1881\n",
      "Iteration No: 10 started. Evaluating function at random point.\n",
      "Iteration No: 10 ended. Evaluation done at random point.\n",
      "Time taken: 10.1796\n",
      "Function value obtained: -0.1762\n",
      "Current minimum: -0.1881\n",
      "Iteration No: 11 started. Evaluating function at random point.\n",
      "Iteration No: 11 ended. Evaluation done at random point.\n",
      "Time taken: 17.5560\n",
      "Function value obtained: -0.1732\n",
      "Current minimum: -0.1881\n",
      "Iteration No: 12 started. Evaluating function at random point.\n",
      "Iteration No: 12 ended. Evaluation done at random point.\n",
      "Time taken: 5.5592\n",
      "Function value obtained: -0.1219\n",
      "Current minimum: -0.1881\n",
      "Iteration No: 13 started. Evaluating function at random point.\n",
      "Iteration No: 13 ended. Evaluation done at random point.\n",
      "Time taken: 7.5084\n",
      "Function value obtained: -0.1694\n",
      "Current minimum: -0.1881\n",
      "Iteration No: 14 started. Evaluating function at random point.\n",
      "Iteration No: 14 ended. Evaluation done at random point.\n",
      "Time taken: 13.7039\n",
      "Function value obtained: -0.1853\n",
      "Current minimum: -0.1881\n",
      "Iteration No: 15 started. Evaluating function at random point.\n",
      "Iteration No: 15 ended. Evaluation done at random point.\n",
      "Time taken: 11.0324\n",
      "Function value obtained: -0.1809\n",
      "Current minimum: -0.1881\n",
      "Iteration No: 16 started. Evaluating function at random point.\n",
      "Iteration No: 16 ended. Evaluation done at random point.\n",
      "Time taken: 10.1254\n",
      "Function value obtained: -0.1846\n",
      "Current minimum: -0.1881\n",
      "Iteration No: 17 started. Evaluating function at random point.\n",
      "Iteration No: 17 ended. Evaluation done at random point.\n",
      "Time taken: 10.2620\n",
      "Function value obtained: -0.1703\n",
      "Current minimum: -0.1881\n",
      "Iteration No: 18 started. Evaluating function at random point.\n",
      "Iteration No: 18 ended. Evaluation done at random point.\n",
      "Time taken: 15.3790\n",
      "Function value obtained: -0.1641\n",
      "Current minimum: -0.1881\n",
      "Iteration No: 19 started. Evaluating function at random point.\n",
      "Iteration No: 19 ended. Evaluation done at random point.\n",
      "Time taken: 16.0002\n",
      "Function value obtained: -0.1216\n",
      "Current minimum: -0.1881\n",
      "Iteration No: 20 started. Evaluating function at random point.\n",
      "Iteration No: 20 ended. Evaluation done at random point.\n",
      "Time taken: 11.7488\n",
      "Function value obtained: -0.1837\n",
      "Current minimum: -0.1881\n",
      "Iteration No: 21 started. Evaluating function at random point.\n",
      "Iteration No: 21 ended. Evaluation done at random point.\n",
      "Time taken: 11.7509\n",
      "Function value obtained: -0.1556\n",
      "Current minimum: -0.1881\n",
      "Iteration No: 22 started. Searching for the next optimal point.\n",
      "Iteration No: 22 ended. Search finished for the next optimal point.\n",
      "Time taken: 9.9100\n",
      "Function value obtained: -0.1745\n",
      "Current minimum: -0.1881\n",
      "Iteration No: 23 started. Searching for the next optimal point.\n",
      "Iteration No: 23 ended. Search finished for the next optimal point.\n",
      "Time taken: 8.8367\n",
      "Function value obtained: -0.1726\n",
      "Current minimum: -0.1881\n",
      "Iteration No: 24 started. Searching for the next optimal point.\n",
      "Iteration No: 24 ended. Search finished for the next optimal point.\n",
      "Time taken: 10.0086\n",
      "Function value obtained: -0.1210\n",
      "Current minimum: -0.1881\n",
      "Iteration No: 25 started. Searching for the next optimal point.\n",
      "Iteration No: 25 ended. Search finished for the next optimal point.\n",
      "Time taken: 8.4052\n",
      "Function value obtained: -0.1676\n",
      "Current minimum: -0.1881\n",
      "Iteration No: 26 started. Searching for the next optimal point.\n",
      "Iteration No: 26 ended. Search finished for the next optimal point.\n",
      "Time taken: 7.6009\n",
      "Function value obtained: -0.1711\n",
      "Current minimum: -0.1881\n",
      "Iteration No: 27 started. Searching for the next optimal point.\n",
      "Iteration No: 27 ended. Search finished for the next optimal point.\n",
      "Time taken: 10.4810\n",
      "Function value obtained: -0.1848\n",
      "Current minimum: -0.1881\n",
      "Iteration No: 28 started. Searching for the next optimal point.\n",
      "Iteration No: 28 ended. Search finished for the next optimal point.\n",
      "Time taken: 14.9177\n",
      "Function value obtained: -0.1719\n",
      "Current minimum: -0.1881\n",
      "Iteration No: 29 started. Searching for the next optimal point.\n",
      "Iteration No: 29 ended. Search finished for the next optimal point.\n",
      "Time taken: 12.4875\n",
      "Function value obtained: -0.1685\n",
      "Current minimum: -0.1881\n",
      "Iteration No: 30 started. Searching for the next optimal point.\n",
      "Iteration No: 30 ended. Search finished for the next optimal point.\n",
      "Time taken: 11.8807\n",
      "Function value obtained: -0.1786\n",
      "Current minimum: -0.1881\n",
      "Iteration No: 31 started. Searching for the next optimal point.\n",
      "Iteration No: 31 ended. Search finished for the next optimal point.\n",
      "Time taken: 10.2036\n",
      "Function value obtained: -0.1855\n",
      "Current minimum: -0.1881\n",
      "Iteration No: 32 started. Searching for the next optimal point.\n",
      "Iteration No: 32 ended. Search finished for the next optimal point.\n",
      "Time taken: 7.2875\n",
      "Function value obtained: -0.1718\n",
      "Current minimum: -0.1881\n",
      "Iteration No: 33 started. Searching for the next optimal point.\n",
      "Iteration No: 33 ended. Search finished for the next optimal point.\n",
      "Time taken: 8.2615\n",
      "Function value obtained: -0.1720\n",
      "Current minimum: -0.1881\n",
      "Iteration No: 34 started. Searching for the next optimal point.\n",
      "Iteration No: 34 ended. Search finished for the next optimal point.\n",
      "Time taken: 13.6658\n",
      "Function value obtained: -0.1782\n",
      "Current minimum: -0.1881\n",
      "Iteration No: 35 started. Searching for the next optimal point.\n",
      "Iteration No: 35 ended. Search finished for the next optimal point.\n",
      "Time taken: 7.4943\n",
      "Function value obtained: -0.1762\n",
      "Current minimum: -0.1881\n",
      "Iteration No: 36 started. Searching for the next optimal point.\n",
      "Iteration No: 36 ended. Search finished for the next optimal point.\n",
      "Time taken: 10.4847\n",
      "Function value obtained: -0.1756\n",
      "Current minimum: -0.1881\n",
      "Iteration No: 37 started. Searching for the next optimal point.\n",
      "Iteration No: 37 ended. Search finished for the next optimal point.\n",
      "Time taken: 6.6885\n",
      "Function value obtained: -0.1409\n",
      "Current minimum: -0.1881\n",
      "Iteration No: 38 started. Searching for the next optimal point.\n",
      "Iteration No: 38 ended. Search finished for the next optimal point.\n",
      "Time taken: 131.4481\n",
      "Function value obtained: -0.0785\n",
      "Current minimum: -0.1881\n",
      "Iteration No: 39 started. Searching for the next optimal point.\n",
      "Iteration No: 39 ended. Search finished for the next optimal point.\n",
      "Time taken: 7.9430\n",
      "Function value obtained: -0.1731\n",
      "Current minimum: -0.1881\n",
      "Iteration No: 40 started. Searching for the next optimal point.\n",
      "Iteration No: 40 ended. Search finished for the next optimal point.\n",
      "Time taken: 14.1173\n",
      "Function value obtained: -0.1747\n",
      "Current minimum: -0.1881\n",
      "Iteration No: 41 started. Searching for the next optimal point.\n",
      "Iteration No: 41 ended. Search finished for the next optimal point.\n",
      "Time taken: 8.1494\n",
      "Function value obtained: -0.1733\n",
      "Current minimum: -0.1881\n",
      "Iteration No: 42 started. Searching for the next optimal point.\n",
      "Iteration No: 42 ended. Search finished for the next optimal point.\n",
      "Time taken: 10.8659\n",
      "Function value obtained: -0.1849\n",
      "Current minimum: -0.1881\n",
      "Iteration No: 43 started. Searching for the next optimal point.\n",
      "Iteration No: 43 ended. Search finished for the next optimal point.\n",
      "Time taken: 7.3380\n",
      "Function value obtained: -0.1630\n",
      "Current minimum: -0.1881\n",
      "Iteration No: 44 started. Searching for the next optimal point.\n",
      "Iteration No: 44 ended. Search finished for the next optimal point.\n",
      "Time taken: 10.4079\n",
      "Function value obtained: -0.1789\n",
      "Current minimum: -0.1881\n",
      "Iteration No: 45 started. Searching for the next optimal point.\n",
      "Iteration No: 45 ended. Search finished for the next optimal point.\n",
      "Time taken: 11.1683\n",
      "Function value obtained: -0.1799\n",
      "Current minimum: -0.1881\n",
      "Iteration No: 46 started. Searching for the next optimal point.\n",
      "Iteration No: 46 ended. Search finished for the next optimal point.\n",
      "Time taken: 7.3164\n",
      "Function value obtained: -0.1660\n",
      "Current minimum: -0.1881\n",
      "Iteration No: 47 started. Searching for the next optimal point.\n",
      "Iteration No: 47 ended. Search finished for the next optimal point.\n",
      "Time taken: 9.2577\n",
      "Function value obtained: -0.1676\n",
      "Current minimum: -0.1881\n",
      "Iteration No: 48 started. Searching for the next optimal point.\n",
      "Iteration No: 48 ended. Search finished for the next optimal point.\n",
      "Time taken: 32.1090\n",
      "Function value obtained: -0.1486\n",
      "Current minimum: -0.1881\n",
      "Iteration No: 49 started. Searching for the next optimal point.\n",
      "Iteration No: 49 ended. Search finished for the next optimal point.\n",
      "Time taken: 17.7722\n",
      "Function value obtained: -0.1835\n",
      "Current minimum: -0.1881\n",
      "Iteration No: 50 started. Searching for the next optimal point.\n",
      "Iteration No: 50 ended. Search finished for the next optimal point.\n",
      "Time taken: 15.4643\n",
      "Function value obtained: -0.1679\n",
      "Current minimum: -0.1881\n",
      "Iteration No: 51 ended. Search finished for the next optimal point.\n",
      "Time taken: 37.5418\n",
      "Function value obtained: -0.1732\n",
      "Current minimum: -0.1881\n"
     ]
    }
   ],
   "source": [
    "tuner = HistBoostTuner(\n",
    "    verbose=True, categorical_feature_mask=data_processor.categorical_features\n",
    ")\n",
    "tuner.tune(X, y)"
   ]
  },
  {
   "cell_type": "code",
   "execution_count": 7,
   "id": "51c9807f-eff6-4665-a203-8c0955a43168",
   "metadata": {},
   "outputs": [
    {
     "data": {
      "text/plain": [
       "array([0.16633246, 0.16091768, 0.13950934, 0.16728207, 0.16694231,\n",
       "       0.12037622, 0.14593816, 0.05695383, 0.03937143, 0.03761677,\n",
       "       0.18808337, 0.15751934, 0.16546009, 0.15968668, 0.16905286,\n",
       "       0.17290193, 0.1764619 , 0.18390476, 0.18279364, 0.17622084,\n",
       "       0.17318138, 0.1219467 , 0.16939796, 0.18529473, 0.18089733,\n",
       "       0.18462411, 0.17027441, 0.16414284, 0.12157661, 0.18369461,\n",
       "       0.15559279, 0.1744973 , 0.17262859, 0.12104075, 0.16758979,\n",
       "       0.17110757, 0.18483404, 0.17188303, 0.16849078, 0.17861191,\n",
       "       0.18546259, 0.17178743, 0.17199694, 0.17821552, 0.17622331,\n",
       "       0.17557217, 0.14085505, 0.07848005, 0.17311205, 0.17465492,\n",
       "       0.17329843, 0.18486658, 0.16300915, 0.17892909, 0.17987259,\n",
       "       0.16604272, 0.16761319, 0.14863762, 0.18350647, 0.16794418,\n",
       "       0.17322063])"
      ]
     },
     "execution_count": 7,
     "metadata": {},
     "output_type": "execute_result"
    }
   ],
   "source": [
    "-tuner.res_gp.func_vals"
   ]
  },
  {
   "cell_type": "code",
   "execution_count": 8,
   "id": "d81cf6ad-f99c-4d38-9f3a-d1855c512bbd",
   "metadata": {},
   "outputs": [
    {
     "data": {
      "text/plain": [
       "[[0.9807412289900471, 0.46003068044903095, 2, 50, 31],\n",
       " [0.015478974396671025, 0.0008700690210600545, 7, 47, 86],\n",
       " [0.008706037847015437, 0.004195085318955972, 5, 15, 58],\n",
       " [0.5519326346081447, 0.0019320752621429876, 5, 47, 80],\n",
       " [0.140576118573469, 0.10322562466964824, 2, 28, 88],\n",
       " [0.9411207450235306, 0.0009091272186646576, 1, 6, 83],\n",
       " [0.011314027385678655, 0.12547454048063264, 10, 50, 30],\n",
       " [0.0010114989173207183, 0.03800088790514866, 2, 8, 18],\n",
       " [0.0010879793134300766, 0.7352148794247115, 1, 43, 99],\n",
       " [0.0010045137961386004, 0.0019569974458949688, 1, 49, 79],\n",
       " [0.2889736014221303, 1.0, 4, 21, 100],\n",
       " [0.5932517736067934, 8.44265904315269, 9, 43, 128],\n",
       " [0.3849973255854072, 2.975353090098658, 2, 17, 101],\n",
       " [0.8123565600467179, 4.79977692397885, 5, 43, 74],\n",
       " [0.6485237001791461, 3.682421715990082, 10, 11, 175],\n",
       " [0.4741344372284369, 8.009109510688925, 6, 36, 147],\n",
       " [0.5824377722830322, 5.373736920757813, 8, 10, 100],\n",
       " [0.18714601098343323, 7.369184402107811, 3, 11, 72],\n",
       " [0.15052519231649952, 2.223221659301995, 4, 46, 95],\n",
       " [0.6134503944262484, 9.023486808254013, 2, 49, 134],\n",
       " [0.17173867555090913, 3.5815280881735814, 8, 32, 72],\n",
       " [1.0, 1.0505985885001659, 6, 50, 36],\n",
       " [0.671708658507295, 4.919849370688455, 6, 5, 188],\n",
       " [0.3126242079064852, 2.5679991554594515, 7, 5, 153],\n",
       " [0.2803271183260715, 6.737339141858467, 4, 26, 99],\n",
       " [0.3311399712848208, 1.3433830861845908, 4, 26, 159],\n",
       " [0.4091740516708992, 1e-05, 10, 5, 28],\n",
       " [0.19936827513059963, 1e-05, 5, 5, 182],\n",
       " [0.30356038935866975, 3.4258047777394176, 1, 5, 101],\n",
       " [0.37772448839456363, 1e-05, 6, 5, 110],\n",
       " [0.27422814180437816, 1e-05, 10, 50, 22],\n",
       " [0.3080181639748153, 1e-05, 5, 50, 33],\n",
       " [0.40085856990568636, 1e-05, 8, 18, 194],\n",
       " [0.5146485551759629, 10.0, 1, 5, 88],\n",
       " [0.6957015353399664, 9.055399071636984, 2, 50, 122],\n",
       " [0.7640238131193722, 1.3393978118641552, 10, 5, 13],\n",
       " [0.4989030041822035, 7.165475244734945, 8, 5, 37],\n",
       " [0.24153326667770011, 1e-05, 3, 5, 200],\n",
       " [0.31365275704450596, 0.8809060697453175, 5, 5, 18],\n",
       " [0.29601929996366294, 1e-05, 5, 49, 200],\n",
       " [0.4183025926748704, 1e-05, 4, 50, 187],\n",
       " [0.6419030850561983, 10.0, 4, 24, 27],\n",
       " [0.7221031515057564, 1e-05, 8, 5, 10],\n",
       " [0.2602957796652047, 10.0, 3, 50, 10],\n",
       " [0.9208037927628852, 7.247092128729092, 10, 5, 177],\n",
       " [0.7511408549980457, 2.643309987949144, 2, 28, 148],\n",
       " [0.8432696644975385, 10.0, 9, 46, 200],\n",
       " [0.001, 1e-05, 4, 18, 121],\n",
       " [1.0, 8.330817611969472, 10, 5, 12],\n",
       " [0.24976376503460435, 5.86625447787458, 7, 50, 192],\n",
       " [0.8481878996354442, 1.2669547348785068, 3, 50, 197],\n",
       " [0.5159821846662266, 3.9701666719019792, 3, 50, 192],\n",
       " [1.0, 5.132874110282747, 3, 5, 171],\n",
       " [0.43701498856108684, 0.006474833722555591, 3, 5, 188],\n",
       " [0.37087918951891147, 7.859396252045288, 3, 50, 166],\n",
       " [0.7494696267822386, 0.28132576674510856, 3, 5, 88],\n",
       " [0.5771847170184907, 0.5812273233330288, 3, 5, 156],\n",
       " [0.09326959453260454, 9.970168974896833, 8, 5, 85],\n",
       " [0.2181858779443318, 0.6918864663512451, 3, 50, 188],\n",
       " [0.2704041093203294, 3.1784319766763915, 8, 5, 35],\n",
       " [0.1477797679210326, 2.165959284457597, 6, 50, 47]]"
      ]
     },
     "execution_count": 8,
     "metadata": {},
     "output_type": "execute_result"
    }
   ],
   "source": [
    "tuner.res_gp.x_iters"
   ]
  },
  {
   "cell_type": "code",
   "execution_count": 9,
   "id": "d306ff47-5789-4a3b-afa1-0c531c3015be",
   "metadata": {},
   "outputs": [
    {
     "data": {
      "text/plain": [
       "{'score': -0.18808337,\n",
       " 'opt_parameters': {'learning_rate': 0.2889736014221303,\n",
       "  'l2_regularization': 1.0,\n",
       "  'max_depth': 4,\n",
       "  'max_leaf_nodes': 21,\n",
       "  'min_samples_leaf': 100}}"
      ]
     },
     "execution_count": 9,
     "metadata": {},
     "output_type": "execute_result"
    }
   ],
   "source": [
    "tuner.result"
   ]
  },
  {
   "cell_type": "code",
   "execution_count": 10,
   "id": "63b773de-1311-4beb-98b6-2e148d83712d",
   "metadata": {},
   "outputs": [
    {
     "data": {
      "image/png": "[encoded data removed]",
      "text/plain": [
       "<Figure size 640x480 with 1 Axes>"
      ]
     },
     "metadata": {},
     "output_type": "display_data"
    },
    {
     "data": {
      "image/png": "[encoded data removed]",
      "text/plain": [
       "<Figure size 640x480 with 1 Axes>"
      ]
     },
     "metadata": {},
     "output_type": "display_data"
    },
    {
     "data": {
      "image/png": "[encoded data removed]",
      "text/plain": [
       "<Figure size 640x480 with 1 Axes>"
      ]
     },
     "metadata": {},
     "output_type": "display_data"
    },
    {
     "data": {
      "image/png": "[encoded data removed]",
      "text/plain": [
       "<Figure size 640x480 with 1 Axes>"
      ]
     },
     "metadata": {},
     "output_type": "display_data"
    },
    {
     "data": {
      "image/png": "[encoded data removed]",
      "text/plain": [
       "<Figure size 640x480 with 1 Axes>"
      ]
     },
     "metadata": {},
     "output_type": "display_data"
    }
   ],
   "source": [
    "import matplotlib.pyplot as plt\n",
    "\n",
    "for which_param in range(5):\n",
    "    x = [i[which_param] for i in tuner.res_gp.x_iters]\n",
    "    plt.scatter(x, tuner.res_gp.func_vals)\n",
    "    plt.show()"
   ]
  },
  {
   "cell_type": "code",
   "execution_count": 11,
   "id": "b328c920-e5f9-4997-8e36-7d5e93951171",
   "metadata": {},
   "outputs": [
    {
     "ename": "NameError",
     "evalue": "name 'SAVED_PRIOR_RUNS' is not defined",
     "output_type": "error",
     "traceback": [
      "\u001b[0;31m---------------------------------------------------------------------------\u001b[0m",
      "\u001b[0;31mNameError\u001b[0m                                 Traceback (most recent call last)",
      "Cell \u001b[0;32mIn[11], line 1\u001b[0m\n\u001b[0;32m----> 1\u001b[0m \u001b[43mSAVED_PRIOR_RUNS\u001b[49m[\u001b[38;5;124m\"\u001b[39m\u001b[38;5;124mx0\u001b[39m\u001b[38;5;124m\"\u001b[39m][np\u001b[38;5;241m.\u001b[39marray(SAVED_PRIOR_RUNS[\u001b[38;5;124m\"\u001b[39m\u001b[38;5;124my0\u001b[39m\u001b[38;5;124m\"\u001b[39m])\u001b[38;5;241m.\u001b[39margmin()]\n",
      "\u001b[0;31mNameError\u001b[0m: name 'SAVED_PRIOR_RUNS' is not defined"
     ]
    }
   ],
   "source": [
    "SAVED_PRIOR_RUNS[\"x0\"][np.array(SAVED_PRIOR_RUNS[\"y0\"]).argmin()]"
   ]
  },
  {
   "cell_type": "code",
   "execution_count": null,
   "id": "e31d0780-ee84-49e1-889e-6582b3639b03",
   "metadata": {},
   "outputs": [],
   "source": [
    "# eim_validator = Validator(\"HistBoostRegressor\")\n",
    "# eim_validator.fit(data)\n",
    "# eim_validator.print_performance_summary()\n",
    "\n",
    "# lower, upper = eim_validator.predict_intervals(data)\n",
    "# lower_new, upper_new = eim_validator.predict_intervals(data_test)\n",
    "\n",
    "# plot_result(data[\"DBWT\"], lower, upper, lower_new, upper_new)"
   ]
  }
 ],
 "metadata": {
  "kernelspec": {
   "display_name": "Python 3 (ipykernel)",
   "language": "python",
   "name": "python3"
  },
  "language_info": {
   "codemirror_mode": {
    "name": "ipython",
    "version": 3
   },
   "file_extension": ".py",
   "mimetype": "text/x-python",
   "name": "python",
   "nbconvert_exporter": "python",
   "pygments_lexer": "ipython3",
   "version": "3.11.5"
  }
 },
 "nbformat": 4,
 "nbformat_minor": 5
}
