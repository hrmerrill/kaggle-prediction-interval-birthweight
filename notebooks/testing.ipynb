{
 "cells": [
  {
   "cell_type": "code",
   "execution_count": 1,
   "id": "5203d04c-3966-4837-b12b-67af07aba039",
   "metadata": {},
   "outputs": [],
   "source": [
    "%load_ext lab_black\n",
    "%load_ext autoreload\n",
    "%autoreload 2"
   ]
  },
  {
   "cell_type": "code",
   "execution_count": 2,
   "id": "b75dd941-74af-42c8-8734-da8768daed9d",
   "metadata": {},
   "outputs": [],
   "source": [
    "import pandas as pd\n",
    "import numpy as np\n",
    "import matplotlib.pyplot as plt\n",
    "from sklearn.linear_model import RidgeCV\n",
    "\n",
    "from kaggle_prediction_interval_birthweight.model.sampling_utils import (\n",
    "    compute_highest_density_interval,\n",
    ")\n",
    "from kaggle_prediction_interval_birthweight.workflow.metric import score\n",
    "from kaggle_prediction_interval_birthweight.data.data_processing import DataProcessor\n",
    "from kaggle_prediction_interval_birthweight.model.linear_regression import (\n",
    "    RidgeRegressor,\n",
    ")\n",
    "from kaggle_prediction_interval_birthweight.model.hist_gradient_boosting import (\n",
    "    HistBoostRegressor,\n",
    ")\n",
    "from kaggle_prediction_interval_birthweight.model.neural_network import (\n",
    "    MissingnessNeuralNet,\n",
    ")\n",
    "from kaggle_prediction_interval_birthweight.model.ensembler import (\n",
    "    Ensembler,\n",
    ")"
   ]
  },
  {
   "cell_type": "code",
   "execution_count": 3,
   "id": "eb4a8d1f-1cbb-478e-ae05-cdbde097536b",
   "metadata": {},
   "outputs": [],
   "source": [
    "data = pd.read_csv(\"../data/train.csv\")\n",
    "data_test = pd.read_csv(\"../data/test.csv\")"
   ]
  },
  {
   "cell_type": "code",
   "execution_count": null,
   "id": "c3c5597d-82a8-41dd-ac42-2b9edf013cdb",
   "metadata": {},
   "outputs": [
    {
     "name": "stdout",
     "output_type": "stream",
     "text": [
      "Ensembler fold 1 of 3 begins.\n",
      "Training the ridge regression model.\n",
      "Training the histogram boosting model.\n",
      "Fitting 5 folds for each of 9 candidates, totalling 45 fits\n",
      "Fitting 5 folds for each of 9 candidates, totalling 45 fits\n",
      "Training the neural network model.\n"
     ]
    }
   ],
   "source": [
    "ensembler = Ensembler()\n",
    "ensembler.fit(data)\n",
    "\n",
    "lower_ensemble, upper_ensemble = ensembler.predict_intervals(data)\n",
    "\n",
    "fig, ax = plt.subplots(1, 1, figsize=(6, 4))\n",
    "ax.vlines(x=data[\"DBWT\"], ymin=lower_ensemble, ymax=upper_ensemble, alpha=0.25)\n",
    "ax.plot([0, 1], [0, 1], transform=ax.transAxes, color=\"orange\")\n",
    "plt.show()"
   ]
  },
  {
   "cell_type": "code",
   "execution_count": null,
   "id": "60c22e3f-c586-4017-95a2-d1be6c2245f1",
   "metadata": {},
   "outputs": [],
   "source": [
    "train_processor = DataProcessor(model_type=\"linear regression\")\n",
    "X, y = train_processor(data)\n",
    "\n",
    "test_processor = DataProcessor(\n",
    "    model_type=\"linear regression\",\n",
    "    feature_categories=train_processor.feature_categories,\n",
    "    standardization_parameters=train_processor.standardization_parameters,\n",
    ")\n",
    "X_test = test_processor(data_test)\n",
    "\n",
    "ridge_regressor = RidgeRegressor().fit(X, y)\n",
    "\n",
    "\n",
    "lower_ridge, upper_ridge = ridge_regressor.predict_intervals(X)\n",
    "\n",
    "fig, ax = plt.subplots(1, 1, figsize=(6, 4))\n",
    "ax.vlines(x=data[\"DBWT\"], ymin=lower_ridge, ymax=upper_ridge, alpha=0.25)\n",
    "ax.plot([0, 1], [0, 1], transform=ax.transAxes, color=\"orange\")\n",
    "plt.show()"
   ]
  },
  {
   "cell_type": "code",
   "execution_count": null,
   "id": "28eb27b2-64e9-458e-abce-c690e1190900",
   "metadata": {},
   "outputs": [],
   "source": [
    "train_processor = DataProcessor(model_type=\"neural network\")\n",
    "X, y = train_processor(data)\n",
    "\n",
    "nn = MissingnessNeuralNet(units=10, n_layers=1, verbose=1, n_epochs=200)\n",
    "nn.fit(X, y)\n",
    "\n",
    "lower_nn, upper_nn = nn.predict_intervals(X)\n",
    "\n",
    "fig, ax = plt.subplots(1, 1, figsize=(6, 4))\n",
    "ax.vlines(x=data[\"DBWT\"], ymin=lower_nn, ymax=upper_nn, alpha=0.25)\n",
    "ax.plot([0, 1], [0, 1], transform=ax.transAxes, color=\"orange\")\n",
    "plt.show()"
   ]
  },
  {
   "cell_type": "code",
   "execution_count": null,
   "id": "1c448f92-af68-41d7-97f6-fcf8c2b09ca0",
   "metadata": {},
   "outputs": [],
   "source": [
    "train_processor = DataProcessor(model_type=\"xgboost\")\n",
    "X, y = train_processor(data)\n",
    "\n",
    "histboost_regressor = HistBoostRegressor()\n",
    "histboost_regressor.fit(X, y)\n",
    "\n",
    "lower_histboost, upper_histboost = histboost_regressor.predict_intervals(X)\n",
    "\n",
    "fig, ax = plt.subplots(1, 1, figsize=(6, 4))\n",
    "ax.vlines(x=data[\"DBWT\"], ymin=lower_histboost, ymax=upper_histboost, alpha=0.25)\n",
    "ax.plot([0, 1], [0, 1], transform=ax.transAxes, color=\"orange\")\n",
    "plt.show()"
   ]
  },
  {
   "cell_type": "code",
   "execution_count": null,
   "id": "9e42501b-4894-46e3-8821-e4e88c2a630d",
   "metadata": {},
   "outputs": [],
   "source": [
    "lower, upper = compute_highest_density_interval(data[\"DBWT\"])\n",
    "\n",
    "print(f\"Coverage is {data['DBWT'].between(lower, upper).mean() * 100:.1f}%\")\n",
    "\n",
    "data[\"DBWT\"].hist(bins=100)\n",
    "plt.axvline(lower, color=\"orange\")\n",
    "plt.axvline(upper, color=\"orange\")\n",
    "plt.show()"
   ]
  },
  {
   "cell_type": "code",
   "execution_count": null,
   "id": "98bb2083-3370-48db-b9cc-625d775a4378",
   "metadata": {},
   "outputs": [],
   "source": [
    "nois, coverage = score(data[\"DBWT\"].values, lower, upper, 0.9)\n",
    "\n",
    "print(f\"NOIS is {nois:.1f}, and coverage is {coverage*100:.1f}%\")"
   ]
  },
  {
   "cell_type": "code",
   "execution_count": null,
   "id": "97db4e26-8cf1-43d6-a22a-1ad73f5c42cd",
   "metadata": {},
   "outputs": [],
   "source": [
    "nois, coverage = score(data[\"DBWT\"].values, lower_ridge, upper_ridge, 0.9)\n",
    "\n",
    "print(f\"NOIS is {nois:.1f}, and coverage is {coverage*100:.1f}%\")"
   ]
  },
  {
   "cell_type": "code",
   "execution_count": null,
   "id": "4e97f00c-6992-4033-8829-5e7f75d0f70a",
   "metadata": {},
   "outputs": [],
   "source": [
    "nois, coverage = score(data[\"DBWT\"].values, lower_histboost, upper_histboost, 0.9)\n",
    "\n",
    "print(f\"NOIS is {nois:.1f}, and coverage is {coverage*100:.1f}%\")"
   ]
  },
  {
   "cell_type": "code",
   "execution_count": null,
   "id": "14d8771e-46a7-4db1-8784-ffb0bd0a80e0",
   "metadata": {},
   "outputs": [],
   "source": [
    "nois, coverage = score(data[\"DBWT\"].values, lower_nn, upper_nn, 0.9)\n",
    "\n",
    "print(f\"NOIS is {nois:.1f}, and coverage is {coverage*100:.1f}%\")"
   ]
  },
  {
   "cell_type": "code",
   "execution_count": null,
   "id": "02fb544e-0787-4a7d-b8a5-258640e1032e",
   "metadata": {},
   "outputs": [],
   "source": [
    "nois, coverage = score(data[\"DBWT\"].values, lower_ensemble, upper_ensemble, 0.9)\n",
    "\n",
    "print(f\"NOIS is {nois:.1f}, and coverage is {coverage*100:.1f}%\")"
   ]
  }
 ],
 "metadata": {
  "kernelspec": {
   "display_name": "Python 3 (ipykernel)",
   "language": "python",
   "name": "python3"
  },
  "language_info": {
   "codemirror_mode": {
    "name": "ipython",
    "version": 3
   },
   "file_extension": ".py",
   "mimetype": "text/x-python",
   "name": "python",
   "nbconvert_exporter": "python",
   "pygments_lexer": "ipython3",
   "version": "3.11.5"
  }
 },
 "nbformat": 4,
 "nbformat_minor": 5
}
