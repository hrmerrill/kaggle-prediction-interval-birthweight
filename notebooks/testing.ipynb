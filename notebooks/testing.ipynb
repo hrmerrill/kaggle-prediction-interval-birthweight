{
 "cells": [
  {
   "cell_type": "code",
   "execution_count": 1,
   "id": "5203d04c-3966-4837-b12b-67af07aba039",
   "metadata": {},
   "outputs": [],
   "source": [
    "%load_ext lab_black\n",
    "%load_ext autoreload\n",
    "%autoreload 2"
   ]
  },
  {
   "cell_type": "code",
   "execution_count": 2,
   "id": "b75dd941-74af-42c8-8734-da8768daed9d",
   "metadata": {},
   "outputs": [],
   "source": [
    "import pandas as pd\n",
    "import numpy as np\n",
    "import matplotlib.pyplot as plt\n",
    "from tensorflow.random import set_seed\n",
    "\n",
    "from kaggle_prediction_interval_birthweight.data.data_processing import DataProcessor\n",
    "from kaggle_prediction_interval_birthweight.workflow.validation import Validator\n",
    "from kaggle_prediction_interval_birthweight.workflow.wildwood_tuning import (\n",
    "    WildWoodTuner,\n",
    ")\n",
    "\n",
    "np.random.seed(1)\n",
    "set_seed(1)\n",
    "\n",
    "MODEL_TYPE = \"WildWoodRegressor\""
   ]
  },
  {
   "cell_type": "code",
   "execution_count": 5,
   "id": "eb4a8d1f-1cbb-478e-ae05-cdbde097536b",
   "metadata": {},
   "outputs": [],
   "source": [
    "# data = pd.read_csv(\"~/dev/data/kaggle-prediction-interval-birthweight/train.csv\")\n",
    "# data_test = pd.read_csv(\"~/dev/data/kaggle-prediction-interval-birthweight/test.csv\")\n",
    "\n",
    "# data_processor = DataProcessor(MODEL_TYPE)\n",
    "# X, y = data_processor(data)"
   ]
  },
  {
   "cell_type": "code",
   "execution_count": null,
   "id": "4f31cdeb-f89f-4226-94f3-4d654beb7a6c",
   "metadata": {},
   "outputs": [],
   "source": [
    "# tuner = WildWoodTuner(verbose=True)\n",
    "# tuner.tune(X, y)\n",
    "# tuner.result"
   ]
  },
  {
   "cell_type": "code",
   "execution_count": null,
   "id": "63b773de-1311-4beb-98b6-2e148d83712d",
   "metadata": {},
   "outputs": [],
   "source": [
    "# for which_param in range(2):\n",
    "#     x = [i[which_param] for i in tuner.res_gp.x_iters]\n",
    "#     plt.scatter(x, tuner.res_gp.func_vals)\n",
    "#     plt.show()"
   ]
  },
  {
   "cell_type": "code",
   "execution_count": null,
   "id": "45071e13-402b-4621-924d-120da35fabde",
   "metadata": {},
   "outputs": [],
   "source": [
    "# def plot_result(obs, lower, upper, lower_new, upper_new):\n",
    "#     fig, ax = plt.subplots(1, 3, figsize=(10, 3))\n",
    "#     ax[0].vlines(x=obs, ymin=lower, ymax=upper, alpha=0.25)\n",
    "#     ax[0].set_xlim(\n",
    "#         np.min(np.concatenate([obs, lower])), np.max(np.concatenate([obs, upper]))\n",
    "#     )\n",
    "#     ax[0].set_ylim(\n",
    "#         np.min(np.concatenate([obs, lower])), np.max(np.concatenate([obs, upper]))\n",
    "#     )\n",
    "#     ax[0].plot([0, 1], [0, 1], transform=ax[0].transAxes, color=\"orange\")\n",
    "#     ax[0].set_xlabel(\"observations\")\n",
    "#     ax[0].set_ylabel(\"predictions\")\n",
    "#     ax[1].hist(lower, bins=100, density=True, color=\"blue\", alpha=0.75, label=\"train\")\n",
    "#     ax[1].hist(\n",
    "#         lower_new, bins=100, density=True, color=\"orange\", alpha=0.75, label=\"test\"\n",
    "#     )\n",
    "#     ax[1].set_xlabel(\"predicted lower bounds\")\n",
    "#     ax[1].legend()\n",
    "#     ax[2].hist(upper, bins=100, density=True, color=\"blue\", alpha=0.75, label=\"train\")\n",
    "#     ax[2].hist(\n",
    "#         upper_new, bins=100, density=True, color=\"orange\", alpha=0.75, label=\"test\"\n",
    "#     )\n",
    "#     ax[2].set_xlabel(\"predicted upper bounds\")\n",
    "#     ax[2].legend()\n",
    "#     plt.show()\n",
    "\n",
    "\n",
    "# validator = Validator(MODEL_TYPE)\n",
    "# validator.fit(data)\n",
    "# validator.print_performance_summary()\n",
    "\n",
    "# lower, upper = validator.predict_intervals(data)\n",
    "# lower_new, upper_new = validator.predict_intervals(data_test)\n",
    "\n",
    "# plot_result(data[\"DBWT\"], lower, upper, lower_new, upper_new)"
   ]
  }
 ],
 "metadata": {
  "kernelspec": {
   "display_name": "Python 3 (ipykernel)",
   "language": "python",
   "name": "python3"
  },
  "language_info": {
   "codemirror_mode": {
    "name": "ipython",
    "version": 3
   },
   "file_extension": ".py",
   "mimetype": "text/x-python",
   "name": "python",
   "nbconvert_exporter": "python",
   "pygments_lexer": "ipython3",
   "version": "3.11.5"
  }
 },
 "nbformat": 4,
 "nbformat_minor": 5
}
