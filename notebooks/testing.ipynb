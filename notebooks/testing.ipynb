{
 "cells": [
  {
   "cell_type": "code",
   "execution_count": 1,
   "id": "5203d04c-3966-4837-b12b-67af07aba039",
   "metadata": {},
   "outputs": [],
   "source": [
    "%load_ext lab_black\n",
    "%load_ext autoreload\n",
    "%autoreload 2"
   ]
  },
  {
   "cell_type": "code",
   "execution_count": 2,
   "id": "b75dd941-74af-42c8-8734-da8768daed9d",
   "metadata": {},
   "outputs": [],
   "source": [
    "import pandas as pd\n",
    "import numpy as np\n",
    "import matplotlib.pyplot as plt\n",
    "\n",
    "from kaggle_prediction_interval_birthweight.model.sampling_utils import (\n",
    "    compute_highest_density_interval,\n",
    ")\n",
    "from kaggle_prediction_interval_birthweight.workflow.metric import score\n",
    "from kaggle_prediction_interval_birthweight.data.data_processing import DataProcessor"
   ]
  },
  {
   "cell_type": "code",
   "execution_count": 3,
   "id": "eb4a8d1f-1cbb-478e-ae05-cdbde097536b",
   "metadata": {},
   "outputs": [],
   "source": [
    "data = pd.read_csv(\"../data/train.csv\")\n",
    "data_test = pd.read_csv(\"../data/test.csv\")"
   ]
  },
  {
   "cell_type": "code",
   "execution_count": 4,
   "id": "60c22e3f-c586-4017-95a2-d1be6c2245f1",
   "metadata": {},
   "outputs": [
    {
     "ename": "KeyError",
     "evalue": "'sds'",
     "output_type": "error",
     "traceback": [
      "\u001b[0;31m---------------------------------------------------------------------------\u001b[0m",
      "\u001b[0;31mKeyError\u001b[0m                                  Traceback (most recent call last)",
      "Cell \u001b[0;32mIn[4], line 11\u001b[0m\n\u001b[1;32m      4\u001b[0m X, y \u001b[38;5;241m=\u001b[39m train_processor(data)\n\u001b[1;32m      6\u001b[0m test_processor \u001b[38;5;241m=\u001b[39m DataProcessor(\n\u001b[1;32m      7\u001b[0m     model_type\u001b[38;5;241m=\u001b[39m\u001b[38;5;124m\"\u001b[39m\u001b[38;5;124mneural network\u001b[39m\u001b[38;5;124m\"\u001b[39m,\n\u001b[1;32m      8\u001b[0m     feature_categories\u001b[38;5;241m=\u001b[39mtrain_processor\u001b[38;5;241m.\u001b[39mfeature_categories,\n\u001b[1;32m      9\u001b[0m     standardization_parameters\u001b[38;5;241m=\u001b[39mtrain_processor\u001b[38;5;241m.\u001b[39mstandardization_parameters,\n\u001b[1;32m     10\u001b[0m )\n\u001b[0;32m---> 11\u001b[0m X_test \u001b[38;5;241m=\u001b[39m \u001b[43mtest_processor\u001b[49m\u001b[43m(\u001b[49m\u001b[43mdata\u001b[49m\u001b[43m)\u001b[49m\n\u001b[1;32m     13\u001b[0m df \u001b[38;5;241m=\u001b[39m train_processor\u001b[38;5;241m.\u001b[39m_enforce_feature_types(data)\n\u001b[1;32m     14\u001b[0m df \u001b[38;5;241m=\u001b[39m train_processor\u001b[38;5;241m.\u001b[39m_process_missing_data(df)\n",
      "File \u001b[0;32m~/dev/repos/kaggle-prediction-interval-birthweight/kaggle_prediction_interval_birthweight/data/data_processing.py:281\u001b[0m, in \u001b[0;36mDataProcessor.__call__\u001b[0;34m(self, df)\u001b[0m\n\u001b[1;32m    279\u001b[0m df \u001b[38;5;241m=\u001b[39m \u001b[38;5;28mself\u001b[39m\u001b[38;5;241m.\u001b[39m_process_missing_data(df)\n\u001b[1;32m    280\u001b[0m df \u001b[38;5;241m=\u001b[39m \u001b[38;5;28mself\u001b[39m\u001b[38;5;241m.\u001b[39m_subset_and_binarize(df)\n\u001b[0;32m--> 281\u001b[0m X_numeric \u001b[38;5;241m=\u001b[39m \u001b[38;5;28;43mself\u001b[39;49m\u001b[38;5;241;43m.\u001b[39;49m\u001b[43m_prepare_numerical_features\u001b[49m\u001b[43m(\u001b[49m\u001b[43mdf\u001b[49m\u001b[43m)\u001b[49m\n\u001b[1;32m    282\u001b[0m X_categorical \u001b[38;5;241m=\u001b[39m \u001b[38;5;28mself\u001b[39m\u001b[38;5;241m.\u001b[39m_prepare_categorical_features(df)\n\u001b[1;32m    284\u001b[0m \u001b[38;5;28;01mif\u001b[39;00m \u001b[38;5;124m\"\u001b[39m\u001b[38;5;124mDBWT\u001b[39m\u001b[38;5;124m\"\u001b[39m \u001b[38;5;129;01min\u001b[39;00m df\u001b[38;5;241m.\u001b[39mcolumns:\n",
      "File \u001b[0;32m~/dev/repos/kaggle-prediction-interval-birthweight/kaggle_prediction_interval_birthweight/data/data_processing.py:219\u001b[0m, in \u001b[0;36mDataProcessor._prepare_numerical_features\u001b[0;34m(self, df)\u001b[0m\n\u001b[1;32m    214\u001b[0m         \u001b[38;5;28mself\u001b[39m\u001b[38;5;241m.\u001b[39mstandardization_parameters[\u001b[38;5;124m\"\u001b[39m\u001b[38;5;124mmeans\u001b[39m\u001b[38;5;124m\"\u001b[39m] \u001b[38;5;241m=\u001b[39m np\u001b[38;5;241m.\u001b[39mnanmean(x_numeric, axis\u001b[38;5;241m=\u001b[39m\u001b[38;5;241m0\u001b[39m)\n\u001b[1;32m    215\u001b[0m         \u001b[38;5;28mself\u001b[39m\u001b[38;5;241m.\u001b[39mstandardization_parameters[\u001b[38;5;124m\"\u001b[39m\u001b[38;5;124msds\u001b[39m\u001b[38;5;124m\"\u001b[39m] \u001b[38;5;241m=\u001b[39m np\u001b[38;5;241m.\u001b[39mnanstd(x_numeric, axis\u001b[38;5;241m=\u001b[39m\u001b[38;5;241m0\u001b[39m) \u001b[38;5;241m*\u001b[39m \u001b[38;5;241m3.0\u001b[39m\n\u001b[1;32m    217\u001b[0m     x_numeric \u001b[38;5;241m=\u001b[39m (\n\u001b[1;32m    218\u001b[0m         x_numeric \u001b[38;5;241m-\u001b[39m \u001b[38;5;28mself\u001b[39m\u001b[38;5;241m.\u001b[39mstandardization_parameters[\u001b[38;5;124m\"\u001b[39m\u001b[38;5;124mmeans\u001b[39m\u001b[38;5;124m\"\u001b[39m]\n\u001b[0;32m--> 219\u001b[0m     ) \u001b[38;5;241m/\u001b[39m \u001b[38;5;28;43mself\u001b[39;49m\u001b[38;5;241;43m.\u001b[39;49m\u001b[43mstandardization_parameters\u001b[49m\u001b[43m[\u001b[49m\u001b[38;5;124;43m\"\u001b[39;49m\u001b[38;5;124;43msds\u001b[39;49m\u001b[38;5;124;43m\"\u001b[39;49m\u001b[43m]\u001b[49m\n\u001b[1;32m    221\u001b[0m \u001b[38;5;66;03m# tell the neural network where the missing data are\u001b[39;00m\n\u001b[1;32m    222\u001b[0m \u001b[38;5;28;01mif\u001b[39;00m \u001b[38;5;28mself\u001b[39m\u001b[38;5;241m.\u001b[39mmodel_type \u001b[38;5;241m==\u001b[39m \u001b[38;5;124m\"\u001b[39m\u001b[38;5;124mneural network\u001b[39m\u001b[38;5;124m\"\u001b[39m:\n",
      "\u001b[0;31mKeyError\u001b[0m: 'sds'"
     ]
    }
   ],
   "source": [
    "model_type = \"linear regression\"\n",
    "\n",
    "train_processor = DataProcessor(model_type=model_type)\n",
    "X, y = train_processor(data)\n",
    "\n",
    "test_processor = DataProcessor(\n",
    "    model_type=\"neural network\",\n",
    "    feature_categories=train_processor.feature_categories,\n",
    "    standardization_parameters=train_processor.standardization_parameters,\n",
    ")\n",
    "X_test = test_processor(data)\n",
    "\n",
    "df = train_processor._enforce_feature_types(data)\n",
    "df = train_processor._process_missing_data(df)\n",
    "df = train_processor._subset_and_binarize(df)\n",
    "X_numeric = train_processor._prepare_numerical_features(df)\n",
    "X_categorical = train_processor._prepare_categorical_features(df)"
   ]
  },
  {
   "cell_type": "code",
   "execution_count": null,
   "id": "2cebfa4a-e57d-4ed8-a19e-2ff96948942e",
   "metadata": {},
   "outputs": [],
   "source": [
    "X_numeric"
   ]
  },
  {
   "cell_type": "code",
   "execution_count": null,
   "id": "9c265305-21f2-4080-bcb3-c1bdf7ecfc8e",
   "metadata": {},
   "outputs": [],
   "source": [
    "np.isnan(X_numeric).mean()"
   ]
  },
  {
   "cell_type": "code",
   "execution_count": null,
   "id": "69d6c584-fe4a-4d15-8c75-04350d7609f9",
   "metadata": {},
   "outputs": [],
   "source": [
    "print(X_numeric.shape)"
   ]
  },
  {
   "cell_type": "code",
   "execution_count": null,
   "id": "4bbe5a1c-6904-49d3-b3f9-1076f730b6fc",
   "metadata": {},
   "outputs": [],
   "source": [
    "np.nanmax(X_numeric, axis=0)"
   ]
  },
  {
   "cell_type": "code",
   "execution_count": null,
   "id": "91d5dabc-9b56-48b2-aac1-5ab9c177cc04",
   "metadata": {},
   "outputs": [],
   "source": [
    "X_categorical"
   ]
  },
  {
   "cell_type": "code",
   "execution_count": null,
   "id": "ad82d4be-2091-4a6d-80e0-08ba2a2f7861",
   "metadata": {},
   "outputs": [],
   "source": [
    "X_categorical.shape"
   ]
  },
  {
   "cell_type": "code",
   "execution_count": null,
   "id": "dacaf885-f892-4ab8-9eb6-a47d9659ae9a",
   "metadata": {},
   "outputs": [],
   "source": [
    "np.isnan(X_categorical).any()"
   ]
  },
  {
   "cell_type": "code",
   "execution_count": null,
   "id": "4fad1b86-ca4b-42da-bb3a-0fcfcc33dc4f",
   "metadata": {},
   "outputs": [],
   "source": [
    "X_categorical.max(axis=0)"
   ]
  },
  {
   "cell_type": "code",
   "execution_count": null,
   "id": "9ab6863b-dc35-4622-8bcd-ae3a91ee0b8a",
   "metadata": {},
   "outputs": [],
   "source": [
    "np.nanmax(X_categorical, axis=0)"
   ]
  },
  {
   "cell_type": "code",
   "execution_count": null,
   "id": "9e42501b-4894-46e3-8821-e4e88c2a630d",
   "metadata": {},
   "outputs": [],
   "source": [
    "lower, upper = compute_highest_density_interval(data[\"DBWT\"])\n",
    "\n",
    "print(f\"Coverage is {data['DBWT'].between(lower, upper).mean() * 100:.1f}%\")\n",
    "\n",
    "data[\"DBWT\"].hist(bins=100)\n",
    "plt.axvline(lower, color=\"orange\")\n",
    "plt.axvline(upper, color=\"orange\")\n",
    "plt.show()"
   ]
  },
  {
   "cell_type": "code",
   "execution_count": null,
   "id": "98bb2083-3370-48db-b9cc-625d775a4378",
   "metadata": {},
   "outputs": [],
   "source": [
    "nois, coverage = score(data[\"DBWT\"].values, lower, upper, 0.9)\n",
    "\n",
    "print(f\"NOIS is {nois:.1f}, and coverage is {coverage*100:.1f}%\")"
   ]
  }
 ],
 "metadata": {
  "kernelspec": {
   "display_name": "Python 3 (ipykernel)",
   "language": "python",
   "name": "python3"
  },
  "language_info": {
   "codemirror_mode": {
    "name": "ipython",
    "version": 3
   },
   "file_extension": ".py",
   "mimetype": "text/x-python",
   "name": "python",
   "nbconvert_exporter": "python",
   "pygments_lexer": "ipython3",
   "version": "3.11.5"
  }
 },
 "nbformat": 4,
 "nbformat_minor": 5
}
