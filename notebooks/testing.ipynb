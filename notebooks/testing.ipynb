{
 "cells": [
  {
   "cell_type": "code",
   "execution_count": 1,
   "id": "5203d04c-3966-4837-b12b-67af07aba039",
   "metadata": {},
   "outputs": [],
   "source": [
    "%load_ext lab_black\n",
    "%load_ext autoreload\n",
    "%autoreload 2"
   ]
  },
  {
   "cell_type": "code",
   "execution_count": 2,
   "id": "b75dd941-74af-42c8-8734-da8768daed9d",
   "metadata": {},
   "outputs": [],
   "source": [
    "import pandas as pd\n",
    "import numpy as np\n",
    "import matplotlib.pyplot as plt\n",
    "from tensorflow.random import set_seed\n",
    "\n",
    "from kaggle_prediction_interval_birthweight.workflow.validation import Validator\n",
    "\n",
    "np.random.seed(1)\n",
    "set_seed(1)"
   ]
  },
  {
   "cell_type": "code",
   "execution_count": 3,
   "id": "0cf4c542-592f-45ec-9c01-747c0f7d1f0d",
   "metadata": {},
   "outputs": [],
   "source": [
    "def plot_result(obs, lower, upper, lower_new, upper_new):\n",
    "    fig, ax = plt.subplots(1, 3, figsize=(10, 3))\n",
    "    ax[0].vlines(x=obs, ymin=lower, ymax=upper, alpha=0.25)\n",
    "    ax[0].set_xlim(\n",
    "        np.min(np.concatenate([obs, lower])), np.max(np.concatenate([obs, upper]))\n",
    "    )\n",
    "    ax[0].set_ylim(\n",
    "        np.min(np.concatenate([obs, lower])), np.max(np.concatenate([obs, upper]))\n",
    "    )\n",
    "    ax[0].plot([0, 1], [0, 1], transform=ax[0].transAxes, color=\"orange\")\n",
    "    ax[0].set_xlabel(\"observations\")\n",
    "    ax[0].set_ylabel(\"predictions\")\n",
    "    ax[1].hist(lower, bins=100, density=True, color=\"blue\", alpha=0.75, label=\"train\")\n",
    "    ax[1].hist(\n",
    "        lower_new, bins=100, density=True, color=\"orange\", alpha=0.75, label=\"test\"\n",
    "    )\n",
    "    ax[1].set_xlabel(\"predicted lower bounds\")\n",
    "    ax[1].legend()\n",
    "    ax[2].hist(upper, bins=100, density=True, color=\"blue\", alpha=0.75, label=\"train\")\n",
    "    ax[2].hist(\n",
    "        upper_new, bins=100, density=True, color=\"orange\", alpha=0.75, label=\"test\"\n",
    "    )\n",
    "    ax[2].set_xlabel(\"predicted upper bounds\")\n",
    "    ax[2].legend()\n",
    "    plt.show()"
   ]
  },
  {
   "cell_type": "code",
   "execution_count": 4,
   "id": "eb4a8d1f-1cbb-478e-ae05-cdbde097536b",
   "metadata": {},
   "outputs": [],
   "source": [
    "data = pd.read_csv(\"~/dev/data/kaggle-prediction-interval-birthweight/train.csv\")\n",
    "data_test = pd.read_csv(\"~/dev/data/kaggle-prediction-interval-birthweight/test.csv\")"
   ]
  },
  {
   "cell_type": "code",
   "execution_count": null,
   "id": "e7686f6d-3053-4c28-ba7e-e8ca4d915544",
   "metadata": {},
   "outputs": [
    {
     "name": "stdout",
     "output_type": "stream",
     "text": [
      "Validation on fold 1 of 2 begins.\n",
      "Ensembler fold 1 of 3 begins.\n",
      "Training the ridge regression model.\n",
      "Training the histogram boosting model.\n",
      "Fitting 5 folds for each of 9 candidates, totalling 45 fits\n",
      "Fitting 5 folds for each of 9 candidates, totalling 45 fits\n",
      "Training the neural network regressor.\n"
     ]
    }
   ],
   "source": [
    "nnens_validator = Validator(\"NeuralNetEnsembler\")\n",
    "nnens_validator.fit(data)\n",
    "nnens_validator.print_performance_summary()\n",
    "\n",
    "lower, upper = nnens_validator.predict_intervals(data)\n",
    "lower_new, upper_new = nnens_validator.predict_intervals(data_test)\n",
    "\n",
    "plot_result(data[\"DBWT\"], lower, upper, lower_new, upper_new)\n",
    "\n",
    "data_test[[\"id\"]].assign(pi_lower=lower_new, pi_upper=upper_new).to_csv(\n",
    "    \"~/dev/data/kaggle-prediction-interval-birthweight/submission_nnens.csv\",\n",
    "    index=False,\n",
    ")"
   ]
  },
  {
   "cell_type": "code",
   "execution_count": null,
   "id": "a23bfce4-28fc-47af-9516-a8e08cc43832",
   "metadata": {},
   "outputs": [],
   "source": [
    "hbens_validator = Validator(\"HistBoostEnsembler\")\n",
    "hbens_validator.fit(data)\n",
    "hbens_validator.print_performance_summary()\n",
    "\n",
    "lower, upper = hbens_validator.predict_intervals(data)\n",
    "lower_new, upper_new = hbens_validator.predict_intervals(data_test)\n",
    "\n",
    "plot_result(data[\"DBWT\"], lower, upper, lower_new, upper_new)\n",
    "\n",
    "data_test[[\"id\"]].assign(pi_lower=lower_new, pi_upper=upper_new).to_csv(\n",
    "    \"~/dev/data/kaggle-prediction-interval-birthweight/submission_hbens.csv\",\n",
    "    index=False,\n",
    ")"
   ]
  },
  {
   "cell_type": "code",
   "execution_count": null,
   "id": "2893415e-13f6-4e9b-81c9-9ea740fe00da",
   "metadata": {},
   "outputs": [],
   "source": [
    "nnc_validator = Validator(\"MissingnessNeuralNetClassifier\")\n",
    "nnc_validator.fit(data)\n",
    "nnc_validator.print_performance_summary()\n",
    "\n",
    "lower, upper = nnc_validator.predict_intervals(data)\n",
    "lower_new, upper_new = nnc_validator.predict_intervals(data_test)\n",
    "\n",
    "plot_result(data[\"DBWT\"], lower, upper, lower_new, upper_new)\n",
    "\n",
    "data_test[[\"id\"]].assign(pi_lower=lower_new, pi_upper=upper_new).to_csv(\n",
    "    \"~/dev/data/kaggle-prediction-interval-birthweight/submission_nnc.csv\",\n",
    "    index=False,\n",
    ")"
   ]
  },
  {
   "cell_type": "code",
   "execution_count": null,
   "id": "e31d0780-ee84-49e1-889e-6582b3639b03",
   "metadata": {},
   "outputs": [],
   "source": [
    "rr_validator = Validator(\"RidgeRegressor\")\n",
    "rr_validator.fit(data)\n",
    "rr_validator.print_performance_summary()\n",
    "\n",
    "lower, upper = rr_validator.predict_intervals(data)\n",
    "lower_new, upper_new = rr_validator.predict_intervals(data_test)\n",
    "\n",
    "plot_result(data[\"DBWT\"], lower, upper, lower_new, upper_new)\n",
    "\n",
    "data_test[[\"id\"]].assign(pi_lower=lower_new, pi_upper=upper_new).to_csv(\n",
    "    \"~/dev/data/kaggle-prediction-interval-birthweight/submission_rr.csv\",\n",
    "    index=False,\n",
    ")"
   ]
  },
  {
   "cell_type": "code",
   "execution_count": null,
   "id": "4665a8bd-310e-4f1c-b582-e7959a786d5c",
   "metadata": {},
   "outputs": [],
   "source": [
    "nn_validator = Validator(\"MissingnessNeuralNetRegressor\", bayesian=False)\n",
    "nn_validator.fit(data)\n",
    "nn_validator.print_performance_summary()\n",
    "\n",
    "lower, upper = nn_validator.predict_intervals(data)\n",
    "lower_new, upper_new = nn_validator.predict_intervals(data_test)\n",
    "\n",
    "plot_result(data[\"DBWT\"], lower, upper, lower_new, upper_new)\n",
    "\n",
    "data_test[[\"id\"]].assign(pi_lower=lower_new, pi_upper=upper_new).to_csv(\n",
    "    \"~/dev/data/kaggle-prediction-interval-birthweight/submission_nn.csv\",\n",
    "    index=False,\n",
    ")"
   ]
  },
  {
   "cell_type": "code",
   "execution_count": null,
   "id": "60c22e3f-c586-4017-95a2-d1be6c2245f1",
   "metadata": {},
   "outputs": [],
   "source": [
    "hbr_validator = Validator(\"HistBoostRegressor\")\n",
    "hbr_validator.fit(data)\n",
    "hbr_validator.print_performance_summary()\n",
    "\n",
    "lower, upper = hbr_validator.predict_intervals(data)\n",
    "lower_new, upper_new = hbr_validator.predict_intervals(data_test)\n",
    "\n",
    "plot_result(data[\"DBWT\"], lower, upper, lower_new, upper_new)\n",
    "\n",
    "data_test[[\"id\"]].assign(pi_lower=lower_new, pi_upper=upper_new).to_csv(\n",
    "    \"~/dev/data/kaggle-prediction-interval-birthweight/submission_hbr.csv\",\n",
    "    index=False,\n",
    ")"
   ]
  }
 ],
 "metadata": {
  "kernelspec": {
   "display_name": "Python 3 (ipykernel)",
   "language": "python",
   "name": "python3"
  },
  "language_info": {
   "codemirror_mode": {
    "name": "ipython",
    "version": 3
   },
   "file_extension": ".py",
   "mimetype": "text/x-python",
   "name": "python",
   "nbconvert_exporter": "python",
   "pygments_lexer": "ipython3",
   "version": "3.11.5"
  }
 },
 "nbformat": 4,
 "nbformat_minor": 5
}
