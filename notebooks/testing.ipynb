{
 "cells": [
  {
   "cell_type": "code",
   "execution_count": 1,
   "id": "5203d04c-3966-4837-b12b-67af07aba039",
   "metadata": {},
   "outputs": [],
   "source": [
    "%load_ext lab_black\n",
    "%load_ext autoreload\n",
    "%autoreload 2"
   ]
  },
  {
   "cell_type": "code",
   "execution_count": 2,
   "id": "b75dd941-74af-42c8-8734-da8768daed9d",
   "metadata": {},
   "outputs": [],
   "source": [
    "import pandas as pd\n",
    "import numpy as np\n",
    "import matplotlib.pyplot as plt\n",
    "from tensorflow.random import set_seed\n",
    "\n",
    "from kaggle_prediction_interval_birthweight.data.data_processing import DataProcessor\n",
    "from kaggle_prediction_interval_birthweight.workflow.validation import Validator\n",
    "from kaggle_prediction_interval_birthweight.workflow.histboost_tuning import (\n",
    "    HistBoostTuner,\n",
    ")\n",
    "\n",
    "np.random.seed(1)\n",
    "set_seed(1)"
   ]
  },
  {
   "cell_type": "code",
   "execution_count": 3,
   "id": "0cf4c542-592f-45ec-9c01-747c0f7d1f0d",
   "metadata": {},
   "outputs": [],
   "source": [
    "def plot_result(obs, lower, upper, lower_new, upper_new):\n",
    "    fig, ax = plt.subplots(1, 3, figsize=(10, 3))\n",
    "    ax[0].vlines(x=obs, ymin=lower, ymax=upper, alpha=0.25)\n",
    "    ax[0].set_xlim(\n",
    "        np.min(np.concatenate([obs, lower])), np.max(np.concatenate([obs, upper]))\n",
    "    )\n",
    "    ax[0].set_ylim(\n",
    "        np.min(np.concatenate([obs, lower])), np.max(np.concatenate([obs, upper]))\n",
    "    )\n",
    "    ax[0].plot([0, 1], [0, 1], transform=ax[0].transAxes, color=\"orange\")\n",
    "    ax[0].set_xlabel(\"observations\")\n",
    "    ax[0].set_ylabel(\"predictions\")\n",
    "    ax[1].hist(lower, bins=100, density=True, color=\"blue\", alpha=0.75, label=\"train\")\n",
    "    ax[1].hist(\n",
    "        lower_new, bins=100, density=True, color=\"orange\", alpha=0.75, label=\"test\"\n",
    "    )\n",
    "    ax[1].set_xlabel(\"predicted lower bounds\")\n",
    "    ax[1].legend()\n",
    "    ax[2].hist(upper, bins=100, density=True, color=\"blue\", alpha=0.75, label=\"train\")\n",
    "    ax[2].hist(\n",
    "        upper_new, bins=100, density=True, color=\"orange\", alpha=0.75, label=\"test\"\n",
    "    )\n",
    "    ax[2].set_xlabel(\"predicted upper bounds\")\n",
    "    ax[2].legend()\n",
    "    plt.show()"
   ]
  },
  {
   "cell_type": "code",
   "execution_count": 4,
   "id": "eb4a8d1f-1cbb-478e-ae05-cdbde097536b",
   "metadata": {},
   "outputs": [],
   "source": [
    "data = pd.read_csv(\"~/dev/data/kaggle-prediction-interval-birthweight/train.csv\")\n",
    "data_test = pd.read_csv(\"~/dev/data/kaggle-prediction-interval-birthweight/test.csv\")"
   ]
  },
  {
   "cell_type": "code",
   "execution_count": 5,
   "id": "4f31cdeb-f89f-4226-94f3-4d654beb7a6c",
   "metadata": {},
   "outputs": [],
   "source": [
    "data_processor = DataProcessor(\"HistBoostRegressor\")\n",
    "X, y = data_processor(data)"
   ]
  },
  {
   "cell_type": "code",
   "execution_count": 6,
   "id": "ccce5d3a-edca-4f49-809c-5b88d202e11b",
   "metadata": {},
   "outputs": [
    {
     "name": "stdout",
     "output_type": "stream",
     "text": [
      "Iteration No: 1 started. Evaluating function at random point.\n",
      "Iteration No: 1 ended. Evaluation done at random point.\n",
      "Time taken: 0.0002\n",
      "Function value obtained: 1682.9838\n",
      "Current minimum: 1664.0651\n",
      "Iteration No: 2 started. Evaluating function at random point.\n"
     ]
    },
    {
     "name": "stderr",
     "output_type": "stream",
     "text": [
      "/Users/hunter.merrill/Library/Caches/pypoetry/virtualenvs/kaggle-prediction-interval-birthweight-irFUtOWA-py3.11/lib/python3.11/site-packages/mapie/regression/quantile_regression.py:201: UserWarning: WARNING: The alpha that is set needs to be the same as the alpha of your prefitted model in the following order [alpha/2, 1 - alpha/2, 0.5]\n",
      "  warnings.warn(\n",
      "/Users/hunter.merrill/Library/Caches/pypoetry/virtualenvs/kaggle-prediction-interval-birthweight-irFUtOWA-py3.11/lib/python3.11/site-packages/mapie/utils.py:519: UserWarning: WARNING: The predictions of the quantile regression have issues.\n",
      "The upper quantile predictions are lower\n",
      "than the lower quantile predictions\n",
      "at some points.\n",
      "  warnings.warn(\n",
      "/Users/hunter.merrill/Library/Caches/pypoetry/virtualenvs/kaggle-prediction-interval-birthweight-irFUtOWA-py3.11/lib/python3.11/site-packages/mapie/utils.py:537: UserWarning: WARNING: The predictions have issues.\n",
      "The upper predictions are lower thanthe lower predictions at some points.\n",
      "  warnings.warn(\n"
     ]
    },
    {
     "name": "stdout",
     "output_type": "stream",
     "text": [
      "Iteration No: 2 ended. Evaluation done at random point.\n",
      "Time taken: 2.5587\n",
      "Function value obtained: 1666.6727\n",
      "Current minimum: 1664.0651\n",
      "Iteration No: 3 started. Evaluating function at random point.\n"
     ]
    },
    {
     "name": "stderr",
     "output_type": "stream",
     "text": [
      "/Users/hunter.merrill/Library/Caches/pypoetry/virtualenvs/kaggle-prediction-interval-birthweight-irFUtOWA-py3.11/lib/python3.11/site-packages/mapie/regression/quantile_regression.py:201: UserWarning: WARNING: The alpha that is set needs to be the same as the alpha of your prefitted model in the following order [alpha/2, 1 - alpha/2, 0.5]\n",
      "  warnings.warn(\n",
      "/Users/hunter.merrill/Library/Caches/pypoetry/virtualenvs/kaggle-prediction-interval-birthweight-irFUtOWA-py3.11/lib/python3.11/site-packages/mapie/utils.py:537: UserWarning: WARNING: The predictions have issues.\n",
      "The upper predictions are lower thanthe lower predictions at some points.\n",
      "  warnings.warn(\n"
     ]
    },
    {
     "name": "stdout",
     "output_type": "stream",
     "text": [
      "Iteration No: 3 ended. Evaluation done at random point.\n",
      "Time taken: 21.1828\n",
      "Function value obtained: 1676.4680\n",
      "Current minimum: 1664.0651\n",
      "Iteration No: 4 started. Evaluating function at random point.\n"
     ]
    },
    {
     "name": "stderr",
     "output_type": "stream",
     "text": [
      "/Users/hunter.merrill/Library/Caches/pypoetry/virtualenvs/kaggle-prediction-interval-birthweight-irFUtOWA-py3.11/lib/python3.11/site-packages/mapie/regression/quantile_regression.py:201: UserWarning: WARNING: The alpha that is set needs to be the same as the alpha of your prefitted model in the following order [alpha/2, 1 - alpha/2, 0.5]\n",
      "  warnings.warn(\n",
      "/Users/hunter.merrill/Library/Caches/pypoetry/virtualenvs/kaggle-prediction-interval-birthweight-irFUtOWA-py3.11/lib/python3.11/site-packages/mapie/utils.py:537: UserWarning: WARNING: The predictions have issues.\n",
      "The upper predictions are lower thanthe lower predictions at some points.\n",
      "  warnings.warn(\n"
     ]
    },
    {
     "name": "stdout",
     "output_type": "stream",
     "text": [
      "Iteration No: 4 ended. Evaluation done at random point.\n",
      "Time taken: 18.6495\n",
      "Function value obtained: 1693.2273\n",
      "Current minimum: 1664.0651\n",
      "Iteration No: 5 started. Evaluating function at random point.\n"
     ]
    },
    {
     "name": "stderr",
     "output_type": "stream",
     "text": [
      "/Users/hunter.merrill/Library/Caches/pypoetry/virtualenvs/kaggle-prediction-interval-birthweight-irFUtOWA-py3.11/lib/python3.11/site-packages/mapie/regression/quantile_regression.py:201: UserWarning: WARNING: The alpha that is set needs to be the same as the alpha of your prefitted model in the following order [alpha/2, 1 - alpha/2, 0.5]\n",
      "  warnings.warn(\n",
      "/Users/hunter.merrill/Library/Caches/pypoetry/virtualenvs/kaggle-prediction-interval-birthweight-irFUtOWA-py3.11/lib/python3.11/site-packages/mapie/utils.py:519: UserWarning: WARNING: The predictions of the quantile regression have issues.\n",
      "The upper quantile predictions are lower\n",
      "than the lower quantile predictions\n",
      "at some points.\n",
      "  warnings.warn(\n",
      "/Users/hunter.merrill/Library/Caches/pypoetry/virtualenvs/kaggle-prediction-interval-birthweight-irFUtOWA-py3.11/lib/python3.11/site-packages/mapie/utils.py:537: UserWarning: WARNING: The predictions have issues.\n",
      "The upper predictions are lower thanthe lower predictions at some points.\n",
      "  warnings.warn(\n"
     ]
    },
    {
     "name": "stdout",
     "output_type": "stream",
     "text": [
      "Iteration No: 5 ended. Evaluation done at random point.\n",
      "Time taken: 2.3425\n",
      "Function value obtained: 1755.1341\n",
      "Current minimum: 1664.0651\n",
      "Iteration No: 6 started. Evaluating function at random point.\n"
     ]
    },
    {
     "name": "stderr",
     "output_type": "stream",
     "text": [
      "/Users/hunter.merrill/Library/Caches/pypoetry/virtualenvs/kaggle-prediction-interval-birthweight-irFUtOWA-py3.11/lib/python3.11/site-packages/mapie/regression/quantile_regression.py:201: UserWarning: WARNING: The alpha that is set needs to be the same as the alpha of your prefitted model in the following order [alpha/2, 1 - alpha/2, 0.5]\n",
      "  warnings.warn(\n",
      "/Users/hunter.merrill/Library/Caches/pypoetry/virtualenvs/kaggle-prediction-interval-birthweight-irFUtOWA-py3.11/lib/python3.11/site-packages/mapie/utils.py:537: UserWarning: WARNING: The predictions have issues.\n",
      "The upper predictions are lower thanthe lower predictions at some points.\n",
      "  warnings.warn(\n"
     ]
    },
    {
     "name": "stdout",
     "output_type": "stream",
     "text": [
      "Iteration No: 6 ended. Evaluation done at random point.\n",
      "Time taken: 4.1314\n",
      "Function value obtained: 1674.2554\n",
      "Current minimum: 1664.0651\n",
      "Iteration No: 7 started. Evaluating function at random point.\n"
     ]
    },
    {
     "name": "stderr",
     "output_type": "stream",
     "text": [
      "/Users/hunter.merrill/Library/Caches/pypoetry/virtualenvs/kaggle-prediction-interval-birthweight-irFUtOWA-py3.11/lib/python3.11/site-packages/mapie/regression/quantile_regression.py:201: UserWarning: WARNING: The alpha that is set needs to be the same as the alpha of your prefitted model in the following order [alpha/2, 1 - alpha/2, 0.5]\n",
      "  warnings.warn(\n",
      "/Users/hunter.merrill/Library/Caches/pypoetry/virtualenvs/kaggle-prediction-interval-birthweight-irFUtOWA-py3.11/lib/python3.11/site-packages/mapie/utils.py:519: UserWarning: WARNING: The predictions of the quantile regression have issues.\n",
      "The upper quantile predictions are lower\n",
      "than the lower quantile predictions\n",
      "at some points.\n",
      "  warnings.warn(\n",
      "/Users/hunter.merrill/Library/Caches/pypoetry/virtualenvs/kaggle-prediction-interval-birthweight-irFUtOWA-py3.11/lib/python3.11/site-packages/mapie/utils.py:537: UserWarning: WARNING: The predictions have issues.\n",
      "The upper predictions are lower thanthe lower predictions at some points.\n",
      "  warnings.warn(\n"
     ]
    },
    {
     "name": "stdout",
     "output_type": "stream",
     "text": [
      "Iteration No: 7 ended. Evaluation done at random point.\n",
      "Time taken: 2.4912\n",
      "Function value obtained: 1723.9683\n",
      "Current minimum: 1664.0651\n",
      "Iteration No: 8 started. Evaluating function at random point.\n"
     ]
    },
    {
     "name": "stderr",
     "output_type": "stream",
     "text": [
      "/Users/hunter.merrill/Library/Caches/pypoetry/virtualenvs/kaggle-prediction-interval-birthweight-irFUtOWA-py3.11/lib/python3.11/site-packages/mapie/regression/quantile_regression.py:201: UserWarning: WARNING: The alpha that is set needs to be the same as the alpha of your prefitted model in the following order [alpha/2, 1 - alpha/2, 0.5]\n",
      "  warnings.warn(\n",
      "/Users/hunter.merrill/Library/Caches/pypoetry/virtualenvs/kaggle-prediction-interval-birthweight-irFUtOWA-py3.11/lib/python3.11/site-packages/mapie/utils.py:537: UserWarning: WARNING: The predictions have issues.\n",
      "The upper predictions are lower thanthe lower predictions at some points.\n",
      "  warnings.warn(\n"
     ]
    },
    {
     "name": "stdout",
     "output_type": "stream",
     "text": [
      "Iteration No: 8 ended. Evaluation done at random point.\n",
      "Time taken: 5.1719\n",
      "Function value obtained: 1714.7201\n",
      "Current minimum: 1664.0651\n",
      "Iteration No: 9 started. Evaluating function at random point.\n"
     ]
    },
    {
     "name": "stderr",
     "output_type": "stream",
     "text": [
      "/Users/hunter.merrill/Library/Caches/pypoetry/virtualenvs/kaggle-prediction-interval-birthweight-irFUtOWA-py3.11/lib/python3.11/site-packages/mapie/regression/quantile_regression.py:201: UserWarning: WARNING: The alpha that is set needs to be the same as the alpha of your prefitted model in the following order [alpha/2, 1 - alpha/2, 0.5]\n",
      "  warnings.warn(\n"
     ]
    },
    {
     "name": "stdout",
     "output_type": "stream",
     "text": [
      "Iteration No: 9 ended. Evaluation done at random point.\n",
      "Time taken: 15.7966\n",
      "Function value obtained: 1771.6823\n",
      "Current minimum: 1664.0651\n",
      "Iteration No: 10 started. Evaluating function at random point.\n"
     ]
    },
    {
     "name": "stderr",
     "output_type": "stream",
     "text": [
      "/Users/hunter.merrill/Library/Caches/pypoetry/virtualenvs/kaggle-prediction-interval-birthweight-irFUtOWA-py3.11/lib/python3.11/site-packages/mapie/regression/quantile_regression.py:201: UserWarning: WARNING: The alpha that is set needs to be the same as the alpha of your prefitted model in the following order [alpha/2, 1 - alpha/2, 0.5]\n",
      "  warnings.warn(\n",
      "/Users/hunter.merrill/Library/Caches/pypoetry/virtualenvs/kaggle-prediction-interval-birthweight-irFUtOWA-py3.11/lib/python3.11/site-packages/mapie/utils.py:537: UserWarning: WARNING: The predictions have issues.\n",
      "The upper predictions are lower thanthe lower predictions at some points.\n",
      "  warnings.warn(\n"
     ]
    },
    {
     "name": "stdout",
     "output_type": "stream",
     "text": [
      "Iteration No: 10 ended. Evaluation done at random point.\n",
      "Time taken: 4.6725\n",
      "Function value obtained: 1665.6424\n",
      "Current minimum: 1664.0651\n",
      "Iteration No: 11 started. Evaluating function at random point.\n"
     ]
    },
    {
     "name": "stderr",
     "output_type": "stream",
     "text": [
      "/Users/hunter.merrill/Library/Caches/pypoetry/virtualenvs/kaggle-prediction-interval-birthweight-irFUtOWA-py3.11/lib/python3.11/site-packages/mapie/regression/quantile_regression.py:201: UserWarning: WARNING: The alpha that is set needs to be the same as the alpha of your prefitted model in the following order [alpha/2, 1 - alpha/2, 0.5]\n",
      "  warnings.warn(\n",
      "/Users/hunter.merrill/Library/Caches/pypoetry/virtualenvs/kaggle-prediction-interval-birthweight-irFUtOWA-py3.11/lib/python3.11/site-packages/mapie/utils.py:537: UserWarning: WARNING: The predictions have issues.\n",
      "The upper predictions are lower thanthe lower predictions at some points.\n",
      "  warnings.warn(\n"
     ]
    },
    {
     "name": "stdout",
     "output_type": "stream",
     "text": [
      "Iteration No: 11 ended. Evaluation done at random point.\n",
      "Time taken: 9.6887\n",
      "Function value obtained: 1682.9838\n",
      "Current minimum: 1664.0651\n",
      "Iteration No: 12 started. Evaluating function at random point.\n"
     ]
    },
    {
     "name": "stderr",
     "output_type": "stream",
     "text": [
      "/Users/hunter.merrill/Library/Caches/pypoetry/virtualenvs/kaggle-prediction-interval-birthweight-irFUtOWA-py3.11/lib/python3.11/site-packages/mapie/regression/quantile_regression.py:201: UserWarning: WARNING: The alpha that is set needs to be the same as the alpha of your prefitted model in the following order [alpha/2, 1 - alpha/2, 0.5]\n",
      "  warnings.warn(\n",
      "/Users/hunter.merrill/Library/Caches/pypoetry/virtualenvs/kaggle-prediction-interval-birthweight-irFUtOWA-py3.11/lib/python3.11/site-packages/mapie/utils.py:537: UserWarning: WARNING: The predictions have issues.\n",
      "The upper predictions are lower thanthe lower predictions at some points.\n",
      "  warnings.warn(\n"
     ]
    },
    {
     "name": "stdout",
     "output_type": "stream",
     "text": [
      "Iteration No: 12 ended. Evaluation done at random point.\n",
      "Time taken: 15.7692\n",
      "Function value obtained: 1700.7893\n",
      "Current minimum: 1664.0651\n",
      "Iteration No: 13 started. Evaluating function at random point.\n"
     ]
    },
    {
     "name": "stderr",
     "output_type": "stream",
     "text": [
      "/Users/hunter.merrill/Library/Caches/pypoetry/virtualenvs/kaggle-prediction-interval-birthweight-irFUtOWA-py3.11/lib/python3.11/site-packages/mapie/regression/quantile_regression.py:201: UserWarning: WARNING: The alpha that is set needs to be the same as the alpha of your prefitted model in the following order [alpha/2, 1 - alpha/2, 0.5]\n",
      "  warnings.warn(\n",
      "/Users/hunter.merrill/Library/Caches/pypoetry/virtualenvs/kaggle-prediction-interval-birthweight-irFUtOWA-py3.11/lib/python3.11/site-packages/mapie/utils.py:537: UserWarning: WARNING: The predictions have issues.\n",
      "The upper predictions are lower thanthe lower predictions at some points.\n",
      "  warnings.warn(\n"
     ]
    },
    {
     "name": "stdout",
     "output_type": "stream",
     "text": [
      "Iteration No: 13 ended. Evaluation done at random point.\n",
      "Time taken: 37.5914\n",
      "Function value obtained: 1716.8765\n",
      "Current minimum: 1664.0651\n",
      "Iteration No: 14 started. Evaluating function at random point.\n"
     ]
    },
    {
     "name": "stderr",
     "output_type": "stream",
     "text": [
      "/Users/hunter.merrill/Library/Caches/pypoetry/virtualenvs/kaggle-prediction-interval-birthweight-irFUtOWA-py3.11/lib/python3.11/site-packages/mapie/regression/quantile_regression.py:201: UserWarning: WARNING: The alpha that is set needs to be the same as the alpha of your prefitted model in the following order [alpha/2, 1 - alpha/2, 0.5]\n",
      "  warnings.warn(\n",
      "/Users/hunter.merrill/Library/Caches/pypoetry/virtualenvs/kaggle-prediction-interval-birthweight-irFUtOWA-py3.11/lib/python3.11/site-packages/mapie/utils.py:519: UserWarning: WARNING: The predictions of the quantile regression have issues.\n",
      "The upper quantile predictions are lower\n",
      "than the lower quantile predictions\n",
      "at some points.\n",
      "  warnings.warn(\n",
      "/Users/hunter.merrill/Library/Caches/pypoetry/virtualenvs/kaggle-prediction-interval-birthweight-irFUtOWA-py3.11/lib/python3.11/site-packages/mapie/utils.py:537: UserWarning: WARNING: The predictions have issues.\n",
      "The upper predictions are lower thanthe lower predictions at some points.\n",
      "  warnings.warn(\n"
     ]
    },
    {
     "name": "stdout",
     "output_type": "stream",
     "text": [
      "Iteration No: 14 ended. Evaluation done at random point.\n",
      "Time taken: 2.7001\n",
      "Function value obtained: 1717.2354\n",
      "Current minimum: 1664.0651\n",
      "Iteration No: 15 started. Evaluating function at random point.\n"
     ]
    },
    {
     "name": "stderr",
     "output_type": "stream",
     "text": [
      "/Users/hunter.merrill/Library/Caches/pypoetry/virtualenvs/kaggle-prediction-interval-birthweight-irFUtOWA-py3.11/lib/python3.11/site-packages/mapie/regression/quantile_regression.py:201: UserWarning: WARNING: The alpha that is set needs to be the same as the alpha of your prefitted model in the following order [alpha/2, 1 - alpha/2, 0.5]\n",
      "  warnings.warn(\n",
      "/Users/hunter.merrill/Library/Caches/pypoetry/virtualenvs/kaggle-prediction-interval-birthweight-irFUtOWA-py3.11/lib/python3.11/site-packages/mapie/utils.py:537: UserWarning: WARNING: The predictions have issues.\n",
      "The upper predictions are lower thanthe lower predictions at some points.\n",
      "  warnings.warn(\n"
     ]
    },
    {
     "name": "stdout",
     "output_type": "stream",
     "text": [
      "Iteration No: 15 ended. Evaluation done at random point.\n",
      "Time taken: 6.5257\n",
      "Function value obtained: 1718.4355\n",
      "Current minimum: 1664.0651\n",
      "Iteration No: 16 started. Evaluating function at random point.\n"
     ]
    },
    {
     "name": "stderr",
     "output_type": "stream",
     "text": [
      "/Users/hunter.merrill/Library/Caches/pypoetry/virtualenvs/kaggle-prediction-interval-birthweight-irFUtOWA-py3.11/lib/python3.11/site-packages/mapie/regression/quantile_regression.py:201: UserWarning: WARNING: The alpha that is set needs to be the same as the alpha of your prefitted model in the following order [alpha/2, 1 - alpha/2, 0.5]\n",
      "  warnings.warn(\n",
      "/Users/hunter.merrill/Library/Caches/pypoetry/virtualenvs/kaggle-prediction-interval-birthweight-irFUtOWA-py3.11/lib/python3.11/site-packages/mapie/utils.py:537: UserWarning: WARNING: The predictions have issues.\n",
      "The upper predictions are lower thanthe lower predictions at some points.\n",
      "  warnings.warn(\n"
     ]
    },
    {
     "name": "stdout",
     "output_type": "stream",
     "text": [
      "Iteration No: 16 ended. Evaluation done at random point.\n",
      "Time taken: 4.3920\n",
      "Function value obtained: 1639.6033\n",
      "Current minimum: 1639.6033\n",
      "Iteration No: 17 started. Evaluating function at random point.\n"
     ]
    },
    {
     "name": "stderr",
     "output_type": "stream",
     "text": [
      "/Users/hunter.merrill/Library/Caches/pypoetry/virtualenvs/kaggle-prediction-interval-birthweight-irFUtOWA-py3.11/lib/python3.11/site-packages/mapie/regression/quantile_regression.py:201: UserWarning: WARNING: The alpha that is set needs to be the same as the alpha of your prefitted model in the following order [alpha/2, 1 - alpha/2, 0.5]\n",
      "  warnings.warn(\n",
      "/Users/hunter.merrill/Library/Caches/pypoetry/virtualenvs/kaggle-prediction-interval-birthweight-irFUtOWA-py3.11/lib/python3.11/site-packages/mapie/utils.py:537: UserWarning: WARNING: The predictions have issues.\n",
      "The upper predictions are lower thanthe lower predictions at some points.\n",
      "  warnings.warn(\n"
     ]
    },
    {
     "name": "stdout",
     "output_type": "stream",
     "text": [
      "Iteration No: 17 ended. Evaluation done at random point.\n",
      "Time taken: 4.1165\n",
      "Function value obtained: 1664.0432\n",
      "Current minimum: 1639.6033\n",
      "Iteration No: 18 started. Evaluating function at random point.\n"
     ]
    },
    {
     "name": "stderr",
     "output_type": "stream",
     "text": [
      "/Users/hunter.merrill/Library/Caches/pypoetry/virtualenvs/kaggle-prediction-interval-birthweight-irFUtOWA-py3.11/lib/python3.11/site-packages/mapie/regression/quantile_regression.py:201: UserWarning: WARNING: The alpha that is set needs to be the same as the alpha of your prefitted model in the following order [alpha/2, 1 - alpha/2, 0.5]\n",
      "  warnings.warn(\n",
      "/Users/hunter.merrill/Library/Caches/pypoetry/virtualenvs/kaggle-prediction-interval-birthweight-irFUtOWA-py3.11/lib/python3.11/site-packages/mapie/utils.py:519: UserWarning: WARNING: The predictions of the quantile regression have issues.\n",
      "The upper quantile predictions are lower\n",
      "than the lower quantile predictions\n",
      "at some points.\n",
      "  warnings.warn(\n",
      "/Users/hunter.merrill/Library/Caches/pypoetry/virtualenvs/kaggle-prediction-interval-birthweight-irFUtOWA-py3.11/lib/python3.11/site-packages/mapie/utils.py:537: UserWarning: WARNING: The predictions have issues.\n",
      "The upper predictions are lower thanthe lower predictions at some points.\n",
      "  warnings.warn(\n"
     ]
    },
    {
     "name": "stdout",
     "output_type": "stream",
     "text": [
      "Iteration No: 18 ended. Evaluation done at random point.\n",
      "Time taken: 2.7713\n",
      "Function value obtained: 1650.3600\n",
      "Current minimum: 1639.6033\n",
      "Iteration No: 19 started. Evaluating function at random point.\n"
     ]
    },
    {
     "name": "stderr",
     "output_type": "stream",
     "text": [
      "/Users/hunter.merrill/Library/Caches/pypoetry/virtualenvs/kaggle-prediction-interval-birthweight-irFUtOWA-py3.11/lib/python3.11/site-packages/mapie/regression/quantile_regression.py:201: UserWarning: WARNING: The alpha that is set needs to be the same as the alpha of your prefitted model in the following order [alpha/2, 1 - alpha/2, 0.5]\n",
      "  warnings.warn(\n"
     ]
    },
    {
     "name": "stdout",
     "output_type": "stream",
     "text": [
      "Iteration No: 19 ended. Evaluation done at random point.\n",
      "Time taken: 12.5509\n",
      "Function value obtained: 1846.6014\n",
      "Current minimum: 1639.6033\n",
      "Iteration No: 20 started. Evaluating function at random point.\n"
     ]
    },
    {
     "name": "stderr",
     "output_type": "stream",
     "text": [
      "/Users/hunter.merrill/Library/Caches/pypoetry/virtualenvs/kaggle-prediction-interval-birthweight-irFUtOWA-py3.11/lib/python3.11/site-packages/mapie/regression/quantile_regression.py:201: UserWarning: WARNING: The alpha that is set needs to be the same as the alpha of your prefitted model in the following order [alpha/2, 1 - alpha/2, 0.5]\n",
      "  warnings.warn(\n",
      "/Users/hunter.merrill/Library/Caches/pypoetry/virtualenvs/kaggle-prediction-interval-birthweight-irFUtOWA-py3.11/lib/python3.11/site-packages/mapie/utils.py:519: UserWarning: WARNING: The predictions of the quantile regression have issues.\n",
      "The upper quantile predictions are lower\n",
      "than the lower quantile predictions\n",
      "at some points.\n",
      "  warnings.warn(\n",
      "/Users/hunter.merrill/Library/Caches/pypoetry/virtualenvs/kaggle-prediction-interval-birthweight-irFUtOWA-py3.11/lib/python3.11/site-packages/mapie/utils.py:537: UserWarning: WARNING: The predictions have issues.\n",
      "The upper predictions are lower thanthe lower predictions at some points.\n",
      "  warnings.warn(\n"
     ]
    },
    {
     "name": "stdout",
     "output_type": "stream",
     "text": [
      "Iteration No: 20 ended. Evaluation done at random point.\n",
      "Time taken: 2.5894\n",
      "Function value obtained: 1677.7789\n",
      "Current minimum: 1639.6033\n",
      "Iteration No: 21 started. Searching for the next optimal point.\n"
     ]
    },
    {
     "name": "stderr",
     "output_type": "stream",
     "text": [
      "/Users/hunter.merrill/Library/Caches/pypoetry/virtualenvs/kaggle-prediction-interval-birthweight-irFUtOWA-py3.11/lib/python3.11/site-packages/mapie/regression/quantile_regression.py:201: UserWarning: WARNING: The alpha that is set needs to be the same as the alpha of your prefitted model in the following order [alpha/2, 1 - alpha/2, 0.5]\n",
      "  warnings.warn(\n",
      "/Users/hunter.merrill/Library/Caches/pypoetry/virtualenvs/kaggle-prediction-interval-birthweight-irFUtOWA-py3.11/lib/python3.11/site-packages/mapie/utils.py:537: UserWarning: WARNING: The predictions have issues.\n",
      "The upper predictions are lower thanthe lower predictions at some points.\n",
      "  warnings.warn(\n"
     ]
    },
    {
     "name": "stdout",
     "output_type": "stream",
     "text": [
      "Iteration No: 21 ended. Search finished for the next optimal point.\n",
      "Time taken: 6.4073\n",
      "Function value obtained: 1763.9070\n",
      "Current minimum: 1639.6033\n",
      "Iteration No: 22 started. Searching for the next optimal point.\n"
     ]
    },
    {
     "name": "stderr",
     "output_type": "stream",
     "text": [
      "/Users/hunter.merrill/Library/Caches/pypoetry/virtualenvs/kaggle-prediction-interval-birthweight-irFUtOWA-py3.11/lib/python3.11/site-packages/mapie/regression/quantile_regression.py:201: UserWarning: WARNING: The alpha that is set needs to be the same as the alpha of your prefitted model in the following order [alpha/2, 1 - alpha/2, 0.5]\n",
      "  warnings.warn(\n",
      "/Users/hunter.merrill/Library/Caches/pypoetry/virtualenvs/kaggle-prediction-interval-birthweight-irFUtOWA-py3.11/lib/python3.11/site-packages/mapie/utils.py:519: UserWarning: WARNING: The predictions of the quantile regression have issues.\n",
      "The upper quantile predictions are lower\n",
      "than the lower quantile predictions\n",
      "at some points.\n",
      "  warnings.warn(\n",
      "/Users/hunter.merrill/Library/Caches/pypoetry/virtualenvs/kaggle-prediction-interval-birthweight-irFUtOWA-py3.11/lib/python3.11/site-packages/mapie/utils.py:537: UserWarning: WARNING: The predictions have issues.\n",
      "The upper predictions are lower thanthe lower predictions at some points.\n",
      "  warnings.warn(\n"
     ]
    },
    {
     "name": "stdout",
     "output_type": "stream",
     "text": [
      "Iteration No: 22 ended. Search finished for the next optimal point.\n",
      "Time taken: 12.0869\n",
      "Function value obtained: 1704.4623\n",
      "Current minimum: 1639.6033\n",
      "Iteration No: 23 started. Searching for the next optimal point.\n"
     ]
    },
    {
     "name": "stderr",
     "output_type": "stream",
     "text": [
      "/Users/hunter.merrill/Library/Caches/pypoetry/virtualenvs/kaggle-prediction-interval-birthweight-irFUtOWA-py3.11/lib/python3.11/site-packages/mapie/regression/quantile_regression.py:201: UserWarning: WARNING: The alpha that is set needs to be the same as the alpha of your prefitted model in the following order [alpha/2, 1 - alpha/2, 0.5]\n",
      "  warnings.warn(\n",
      "/Users/hunter.merrill/Library/Caches/pypoetry/virtualenvs/kaggle-prediction-interval-birthweight-irFUtOWA-py3.11/lib/python3.11/site-packages/mapie/utils.py:519: UserWarning: WARNING: The predictions of the quantile regression have issues.\n",
      "The upper quantile predictions are lower\n",
      "than the lower quantile predictions\n",
      "at some points.\n",
      "  warnings.warn(\n",
      "/Users/hunter.merrill/Library/Caches/pypoetry/virtualenvs/kaggle-prediction-interval-birthweight-irFUtOWA-py3.11/lib/python3.11/site-packages/mapie/utils.py:537: UserWarning: WARNING: The predictions have issues.\n",
      "The upper predictions are lower thanthe lower predictions at some points.\n",
      "  warnings.warn(\n"
     ]
    },
    {
     "name": "stdout",
     "output_type": "stream",
     "text": [
      "Iteration No: 23 ended. Search finished for the next optimal point.\n",
      "Time taken: 2.6620\n",
      "Function value obtained: 1769.5936\n",
      "Current minimum: 1639.6033\n",
      "Iteration No: 24 started. Searching for the next optimal point.\n"
     ]
    },
    {
     "name": "stderr",
     "output_type": "stream",
     "text": [
      "/Users/hunter.merrill/Library/Caches/pypoetry/virtualenvs/kaggle-prediction-interval-birthweight-irFUtOWA-py3.11/lib/python3.11/site-packages/mapie/regression/quantile_regression.py:201: UserWarning: WARNING: The alpha that is set needs to be the same as the alpha of your prefitted model in the following order [alpha/2, 1 - alpha/2, 0.5]\n",
      "  warnings.warn(\n",
      "/Users/hunter.merrill/Library/Caches/pypoetry/virtualenvs/kaggle-prediction-interval-birthweight-irFUtOWA-py3.11/lib/python3.11/site-packages/mapie/utils.py:519: UserWarning: WARNING: The predictions of the quantile regression have issues.\n",
      "The upper quantile predictions are lower\n",
      "than the lower quantile predictions\n",
      "at some points.\n",
      "  warnings.warn(\n",
      "/Users/hunter.merrill/Library/Caches/pypoetry/virtualenvs/kaggle-prediction-interval-birthweight-irFUtOWA-py3.11/lib/python3.11/site-packages/mapie/utils.py:537: UserWarning: WARNING: The predictions have issues.\n",
      "The upper predictions are lower thanthe lower predictions at some points.\n",
      "  warnings.warn(\n"
     ]
    },
    {
     "name": "stdout",
     "output_type": "stream",
     "text": [
      "Iteration No: 24 ended. Search finished for the next optimal point.\n",
      "Time taken: 2.9237\n",
      "Function value obtained: 1650.1851\n",
      "Current minimum: 1639.6033\n",
      "Iteration No: 25 started. Searching for the next optimal point.\n"
     ]
    },
    {
     "name": "stderr",
     "output_type": "stream",
     "text": [
      "/Users/hunter.merrill/Library/Caches/pypoetry/virtualenvs/kaggle-prediction-interval-birthweight-irFUtOWA-py3.11/lib/python3.11/site-packages/mapie/regression/quantile_regression.py:201: UserWarning: WARNING: The alpha that is set needs to be the same as the alpha of your prefitted model in the following order [alpha/2, 1 - alpha/2, 0.5]\n",
      "  warnings.warn(\n",
      "/Users/hunter.merrill/Library/Caches/pypoetry/virtualenvs/kaggle-prediction-interval-birthweight-irFUtOWA-py3.11/lib/python3.11/site-packages/mapie/utils.py:519: UserWarning: WARNING: The predictions of the quantile regression have issues.\n",
      "The upper quantile predictions are lower\n",
      "than the lower quantile predictions\n",
      "at some points.\n",
      "  warnings.warn(\n",
      "/Users/hunter.merrill/Library/Caches/pypoetry/virtualenvs/kaggle-prediction-interval-birthweight-irFUtOWA-py3.11/lib/python3.11/site-packages/mapie/utils.py:537: UserWarning: WARNING: The predictions have issues.\n",
      "The upper predictions are lower thanthe lower predictions at some points.\n",
      "  warnings.warn(\n"
     ]
    },
    {
     "name": "stdout",
     "output_type": "stream",
     "text": [
      "Iteration No: 25 ended. Search finished for the next optimal point.\n",
      "Time taken: 2.4835\n",
      "Function value obtained: 1682.0170\n",
      "Current minimum: 1639.6033\n",
      "Iteration No: 26 started. Searching for the next optimal point.\n"
     ]
    },
    {
     "name": "stderr",
     "output_type": "stream",
     "text": [
      "/Users/hunter.merrill/Library/Caches/pypoetry/virtualenvs/kaggle-prediction-interval-birthweight-irFUtOWA-py3.11/lib/python3.11/site-packages/mapie/regression/quantile_regression.py:201: UserWarning: WARNING: The alpha that is set needs to be the same as the alpha of your prefitted model in the following order [alpha/2, 1 - alpha/2, 0.5]\n",
      "  warnings.warn(\n",
      "/Users/hunter.merrill/Library/Caches/pypoetry/virtualenvs/kaggle-prediction-interval-birthweight-irFUtOWA-py3.11/lib/python3.11/site-packages/mapie/utils.py:519: UserWarning: WARNING: The predictions of the quantile regression have issues.\n",
      "The upper quantile predictions are lower\n",
      "than the lower quantile predictions\n",
      "at some points.\n",
      "  warnings.warn(\n",
      "/Users/hunter.merrill/Library/Caches/pypoetry/virtualenvs/kaggle-prediction-interval-birthweight-irFUtOWA-py3.11/lib/python3.11/site-packages/mapie/utils.py:537: UserWarning: WARNING: The predictions have issues.\n",
      "The upper predictions are lower thanthe lower predictions at some points.\n",
      "  warnings.warn(\n"
     ]
    },
    {
     "name": "stdout",
     "output_type": "stream",
     "text": [
      "Iteration No: 26 ended. Search finished for the next optimal point.\n",
      "Time taken: 3.3551\n",
      "Function value obtained: 1668.6096\n",
      "Current minimum: 1639.6033\n",
      "Iteration No: 27 started. Searching for the next optimal point.\n"
     ]
    },
    {
     "name": "stderr",
     "output_type": "stream",
     "text": [
      "/Users/hunter.merrill/Library/Caches/pypoetry/virtualenvs/kaggle-prediction-interval-birthweight-irFUtOWA-py3.11/lib/python3.11/site-packages/mapie/regression/quantile_regression.py:201: UserWarning: WARNING: The alpha that is set needs to be the same as the alpha of your prefitted model in the following order [alpha/2, 1 - alpha/2, 0.5]\n",
      "  warnings.warn(\n"
     ]
    },
    {
     "name": "stdout",
     "output_type": "stream",
     "text": [
      "Iteration No: 27 ended. Search finished for the next optimal point.\n",
      "Time taken: 10.1447\n",
      "Function value obtained: 1884.5480\n",
      "Current minimum: 1639.6033\n",
      "Iteration No: 28 started. Searching for the next optimal point.\n"
     ]
    },
    {
     "name": "stderr",
     "output_type": "stream",
     "text": [
      "/Users/hunter.merrill/Library/Caches/pypoetry/virtualenvs/kaggle-prediction-interval-birthweight-irFUtOWA-py3.11/lib/python3.11/site-packages/mapie/regression/quantile_regression.py:201: UserWarning: WARNING: The alpha that is set needs to be the same as the alpha of your prefitted model in the following order [alpha/2, 1 - alpha/2, 0.5]\n",
      "  warnings.warn(\n",
      "/Users/hunter.merrill/Library/Caches/pypoetry/virtualenvs/kaggle-prediction-interval-birthweight-irFUtOWA-py3.11/lib/python3.11/site-packages/mapie/utils.py:537: UserWarning: WARNING: The predictions have issues.\n",
      "The upper predictions are lower thanthe lower predictions at some points.\n",
      "  warnings.warn(\n"
     ]
    },
    {
     "name": "stdout",
     "output_type": "stream",
     "text": [
      "Iteration No: 28 ended. Search finished for the next optimal point.\n",
      "Time taken: 7.0830\n",
      "Function value obtained: 1677.4401\n",
      "Current minimum: 1639.6033\n",
      "Iteration No: 29 started. Searching for the next optimal point.\n"
     ]
    },
    {
     "name": "stderr",
     "output_type": "stream",
     "text": [
      "/Users/hunter.merrill/Library/Caches/pypoetry/virtualenvs/kaggle-prediction-interval-birthweight-irFUtOWA-py3.11/lib/python3.11/site-packages/mapie/regression/quantile_regression.py:201: UserWarning: WARNING: The alpha that is set needs to be the same as the alpha of your prefitted model in the following order [alpha/2, 1 - alpha/2, 0.5]\n",
      "  warnings.warn(\n",
      "/Users/hunter.merrill/Library/Caches/pypoetry/virtualenvs/kaggle-prediction-interval-birthweight-irFUtOWA-py3.11/lib/python3.11/site-packages/mapie/utils.py:537: UserWarning: WARNING: The predictions have issues.\n",
      "The upper predictions are lower thanthe lower predictions at some points.\n",
      "  warnings.warn(\n"
     ]
    },
    {
     "name": "stdout",
     "output_type": "stream",
     "text": [
      "Iteration No: 29 ended. Search finished for the next optimal point.\n",
      "Time taken: 2.6197\n",
      "Function value obtained: 1775.6825\n",
      "Current minimum: 1639.6033\n",
      "Iteration No: 30 started. Searching for the next optimal point.\n"
     ]
    },
    {
     "name": "stderr",
     "output_type": "stream",
     "text": [
      "/Users/hunter.merrill/Library/Caches/pypoetry/virtualenvs/kaggle-prediction-interval-birthweight-irFUtOWA-py3.11/lib/python3.11/site-packages/mapie/regression/quantile_regression.py:201: UserWarning: WARNING: The alpha that is set needs to be the same as the alpha of your prefitted model in the following order [alpha/2, 1 - alpha/2, 0.5]\n",
      "  warnings.warn(\n",
      "/Users/hunter.merrill/Library/Caches/pypoetry/virtualenvs/kaggle-prediction-interval-birthweight-irFUtOWA-py3.11/lib/python3.11/site-packages/mapie/utils.py:519: UserWarning: WARNING: The predictions of the quantile regression have issues.\n",
      "The upper quantile predictions are lower\n",
      "than the lower quantile predictions\n",
      "at some points.\n",
      "  warnings.warn(\n",
      "/Users/hunter.merrill/Library/Caches/pypoetry/virtualenvs/kaggle-prediction-interval-birthweight-irFUtOWA-py3.11/lib/python3.11/site-packages/mapie/utils.py:537: UserWarning: WARNING: The predictions have issues.\n",
      "The upper predictions are lower thanthe lower predictions at some points.\n",
      "  warnings.warn(\n"
     ]
    },
    {
     "name": "stdout",
     "output_type": "stream",
     "text": [
      "Iteration No: 30 ended. Search finished for the next optimal point.\n",
      "Time taken: 2.7345\n",
      "Function value obtained: 1777.2025\n",
      "Current minimum: 1639.6033\n",
      "Iteration No: 31 started. Searching for the next optimal point.\n"
     ]
    },
    {
     "name": "stderr",
     "output_type": "stream",
     "text": [
      "/Users/hunter.merrill/Library/Caches/pypoetry/virtualenvs/kaggle-prediction-interval-birthweight-irFUtOWA-py3.11/lib/python3.11/site-packages/mapie/regression/quantile_regression.py:201: UserWarning: WARNING: The alpha that is set needs to be the same as the alpha of your prefitted model in the following order [alpha/2, 1 - alpha/2, 0.5]\n",
      "  warnings.warn(\n",
      "/Users/hunter.merrill/Library/Caches/pypoetry/virtualenvs/kaggle-prediction-interval-birthweight-irFUtOWA-py3.11/lib/python3.11/site-packages/mapie/utils.py:519: UserWarning: WARNING: The predictions of the quantile regression have issues.\n",
      "The upper quantile predictions are lower\n",
      "than the lower quantile predictions\n",
      "at some points.\n",
      "  warnings.warn(\n",
      "/Users/hunter.merrill/Library/Caches/pypoetry/virtualenvs/kaggle-prediction-interval-birthweight-irFUtOWA-py3.11/lib/python3.11/site-packages/mapie/utils.py:537: UserWarning: WARNING: The predictions have issues.\n",
      "The upper predictions are lower thanthe lower predictions at some points.\n",
      "  warnings.warn(\n"
     ]
    },
    {
     "name": "stdout",
     "output_type": "stream",
     "text": [
      "Iteration No: 31 ended. Search finished for the next optimal point.\n",
      "Time taken: 4.7000\n",
      "Function value obtained: 1660.2006\n",
      "Current minimum: 1639.6033\n",
      "Iteration No: 32 started. Searching for the next optimal point.\n"
     ]
    },
    {
     "name": "stderr",
     "output_type": "stream",
     "text": [
      "/Users/hunter.merrill/Library/Caches/pypoetry/virtualenvs/kaggle-prediction-interval-birthweight-irFUtOWA-py3.11/lib/python3.11/site-packages/mapie/regression/quantile_regression.py:201: UserWarning: WARNING: The alpha that is set needs to be the same as the alpha of your prefitted model in the following order [alpha/2, 1 - alpha/2, 0.5]\n",
      "  warnings.warn(\n",
      "/Users/hunter.merrill/Library/Caches/pypoetry/virtualenvs/kaggle-prediction-interval-birthweight-irFUtOWA-py3.11/lib/python3.11/site-packages/mapie/utils.py:537: UserWarning: WARNING: The predictions have issues.\n",
      "The upper predictions are lower thanthe lower predictions at some points.\n",
      "  warnings.warn(\n"
     ]
    },
    {
     "name": "stdout",
     "output_type": "stream",
     "text": [
      "Iteration No: 32 ended. Search finished for the next optimal point.\n",
      "Time taken: 3.0775\n",
      "Function value obtained: 1683.6722\n",
      "Current minimum: 1639.6033\n",
      "Iteration No: 33 started. Searching for the next optimal point.\n"
     ]
    },
    {
     "name": "stderr",
     "output_type": "stream",
     "text": [
      "/Users/hunter.merrill/Library/Caches/pypoetry/virtualenvs/kaggle-prediction-interval-birthweight-irFUtOWA-py3.11/lib/python3.11/site-packages/mapie/regression/quantile_regression.py:201: UserWarning: WARNING: The alpha that is set needs to be the same as the alpha of your prefitted model in the following order [alpha/2, 1 - alpha/2, 0.5]\n",
      "  warnings.warn(\n",
      "/Users/hunter.merrill/Library/Caches/pypoetry/virtualenvs/kaggle-prediction-interval-birthweight-irFUtOWA-py3.11/lib/python3.11/site-packages/mapie/utils.py:519: UserWarning: WARNING: The predictions of the quantile regression have issues.\n",
      "The upper quantile predictions are lower\n",
      "than the lower quantile predictions\n",
      "at some points.\n",
      "  warnings.warn(\n",
      "/Users/hunter.merrill/Library/Caches/pypoetry/virtualenvs/kaggle-prediction-interval-birthweight-irFUtOWA-py3.11/lib/python3.11/site-packages/mapie/utils.py:537: UserWarning: WARNING: The predictions have issues.\n",
      "The upper predictions are lower thanthe lower predictions at some points.\n",
      "  warnings.warn(\n"
     ]
    },
    {
     "name": "stdout",
     "output_type": "stream",
     "text": [
      "Iteration No: 33 ended. Search finished for the next optimal point.\n",
      "Time taken: 2.6404\n",
      "Function value obtained: 1785.5072\n",
      "Current minimum: 1639.6033\n",
      "Iteration No: 34 started. Searching for the next optimal point.\n"
     ]
    },
    {
     "name": "stderr",
     "output_type": "stream",
     "text": [
      "/Users/hunter.merrill/Library/Caches/pypoetry/virtualenvs/kaggle-prediction-interval-birthweight-irFUtOWA-py3.11/lib/python3.11/site-packages/mapie/regression/quantile_regression.py:201: UserWarning: WARNING: The alpha that is set needs to be the same as the alpha of your prefitted model in the following order [alpha/2, 1 - alpha/2, 0.5]\n",
      "  warnings.warn(\n",
      "/Users/hunter.merrill/Library/Caches/pypoetry/virtualenvs/kaggle-prediction-interval-birthweight-irFUtOWA-py3.11/lib/python3.11/site-packages/mapie/utils.py:537: UserWarning: WARNING: The predictions have issues.\n",
      "The upper predictions are lower thanthe lower predictions at some points.\n",
      "  warnings.warn(\n"
     ]
    },
    {
     "name": "stdout",
     "output_type": "stream",
     "text": [
      "Iteration No: 34 ended. Search finished for the next optimal point.\n",
      "Time taken: 3.9243\n",
      "Function value obtained: 1723.2560\n",
      "Current minimum: 1639.6033\n",
      "Iteration No: 35 started. Searching for the next optimal point.\n"
     ]
    },
    {
     "name": "stderr",
     "output_type": "stream",
     "text": [
      "/Users/hunter.merrill/Library/Caches/pypoetry/virtualenvs/kaggle-prediction-interval-birthweight-irFUtOWA-py3.11/lib/python3.11/site-packages/mapie/regression/quantile_regression.py:201: UserWarning: WARNING: The alpha that is set needs to be the same as the alpha of your prefitted model in the following order [alpha/2, 1 - alpha/2, 0.5]\n",
      "  warnings.warn(\n",
      "/Users/hunter.merrill/Library/Caches/pypoetry/virtualenvs/kaggle-prediction-interval-birthweight-irFUtOWA-py3.11/lib/python3.11/site-packages/mapie/utils.py:519: UserWarning: WARNING: The predictions of the quantile regression have issues.\n",
      "The upper quantile predictions are lower\n",
      "than the lower quantile predictions\n",
      "at some points.\n",
      "  warnings.warn(\n",
      "/Users/hunter.merrill/Library/Caches/pypoetry/virtualenvs/kaggle-prediction-interval-birthweight-irFUtOWA-py3.11/lib/python3.11/site-packages/mapie/utils.py:537: UserWarning: WARNING: The predictions have issues.\n",
      "The upper predictions are lower thanthe lower predictions at some points.\n",
      "  warnings.warn(\n"
     ]
    },
    {
     "name": "stdout",
     "output_type": "stream",
     "text": [
      "Iteration No: 35 ended. Search finished for the next optimal point.\n",
      "Time taken: 4.5654\n",
      "Function value obtained: 1652.0507\n",
      "Current minimum: 1639.6033\n",
      "Iteration No: 36 started. Searching for the next optimal point.\n"
     ]
    },
    {
     "name": "stderr",
     "output_type": "stream",
     "text": [
      "/Users/hunter.merrill/Library/Caches/pypoetry/virtualenvs/kaggle-prediction-interval-birthweight-irFUtOWA-py3.11/lib/python3.11/site-packages/mapie/regression/quantile_regression.py:201: UserWarning: WARNING: The alpha that is set needs to be the same as the alpha of your prefitted model in the following order [alpha/2, 1 - alpha/2, 0.5]\n",
      "  warnings.warn(\n",
      "/Users/hunter.merrill/Library/Caches/pypoetry/virtualenvs/kaggle-prediction-interval-birthweight-irFUtOWA-py3.11/lib/python3.11/site-packages/mapie/utils.py:519: UserWarning: WARNING: The predictions of the quantile regression have issues.\n",
      "The upper quantile predictions are lower\n",
      "than the lower quantile predictions\n",
      "at some points.\n",
      "  warnings.warn(\n",
      "/Users/hunter.merrill/Library/Caches/pypoetry/virtualenvs/kaggle-prediction-interval-birthweight-irFUtOWA-py3.11/lib/python3.11/site-packages/mapie/utils.py:537: UserWarning: WARNING: The predictions have issues.\n",
      "The upper predictions are lower thanthe lower predictions at some points.\n",
      "  warnings.warn(\n"
     ]
    },
    {
     "name": "stdout",
     "output_type": "stream",
     "text": [
      "Iteration No: 36 ended. Search finished for the next optimal point.\n",
      "Time taken: 5.3295\n",
      "Function value obtained: 1654.8681\n",
      "Current minimum: 1639.6033\n",
      "Iteration No: 37 started. Searching for the next optimal point.\n"
     ]
    },
    {
     "name": "stderr",
     "output_type": "stream",
     "text": [
      "/Users/hunter.merrill/Library/Caches/pypoetry/virtualenvs/kaggle-prediction-interval-birthweight-irFUtOWA-py3.11/lib/python3.11/site-packages/mapie/regression/quantile_regression.py:201: UserWarning: WARNING: The alpha that is set needs to be the same as the alpha of your prefitted model in the following order [alpha/2, 1 - alpha/2, 0.5]\n",
      "  warnings.warn(\n",
      "/Users/hunter.merrill/Library/Caches/pypoetry/virtualenvs/kaggle-prediction-interval-birthweight-irFUtOWA-py3.11/lib/python3.11/site-packages/mapie/utils.py:537: UserWarning: WARNING: The predictions have issues.\n",
      "The upper predictions are lower thanthe lower predictions at some points.\n",
      "  warnings.warn(\n"
     ]
    },
    {
     "name": "stdout",
     "output_type": "stream",
     "text": [
      "Iteration No: 37 ended. Search finished for the next optimal point.\n",
      "Time taken: 7.1283\n",
      "Function value obtained: 1706.2740\n",
      "Current minimum: 1639.6033\n",
      "Iteration No: 38 started. Searching for the next optimal point.\n"
     ]
    },
    {
     "name": "stderr",
     "output_type": "stream",
     "text": [
      "/Users/hunter.merrill/Library/Caches/pypoetry/virtualenvs/kaggle-prediction-interval-birthweight-irFUtOWA-py3.11/lib/python3.11/site-packages/mapie/regression/quantile_regression.py:201: UserWarning: WARNING: The alpha that is set needs to be the same as the alpha of your prefitted model in the following order [alpha/2, 1 - alpha/2, 0.5]\n",
      "  warnings.warn(\n",
      "/Users/hunter.merrill/Library/Caches/pypoetry/virtualenvs/kaggle-prediction-interval-birthweight-irFUtOWA-py3.11/lib/python3.11/site-packages/mapie/utils.py:519: UserWarning: WARNING: The predictions of the quantile regression have issues.\n",
      "The upper quantile predictions are lower\n",
      "than the lower quantile predictions\n",
      "at some points.\n",
      "  warnings.warn(\n",
      "/Users/hunter.merrill/Library/Caches/pypoetry/virtualenvs/kaggle-prediction-interval-birthweight-irFUtOWA-py3.11/lib/python3.11/site-packages/mapie/utils.py:537: UserWarning: WARNING: The predictions have issues.\n",
      "The upper predictions are lower thanthe lower predictions at some points.\n",
      "  warnings.warn(\n"
     ]
    },
    {
     "name": "stdout",
     "output_type": "stream",
     "text": [
      "Iteration No: 38 ended. Search finished for the next optimal point.\n",
      "Time taken: 4.3857\n",
      "Function value obtained: 1647.3303\n",
      "Current minimum: 1639.6033\n",
      "Iteration No: 39 started. Searching for the next optimal point.\n"
     ]
    },
    {
     "name": "stderr",
     "output_type": "stream",
     "text": [
      "/Users/hunter.merrill/Library/Caches/pypoetry/virtualenvs/kaggle-prediction-interval-birthweight-irFUtOWA-py3.11/lib/python3.11/site-packages/mapie/regression/quantile_regression.py:201: UserWarning: WARNING: The alpha that is set needs to be the same as the alpha of your prefitted model in the following order [alpha/2, 1 - alpha/2, 0.5]\n",
      "  warnings.warn(\n",
      "/Users/hunter.merrill/Library/Caches/pypoetry/virtualenvs/kaggle-prediction-interval-birthweight-irFUtOWA-py3.11/lib/python3.11/site-packages/mapie/utils.py:519: UserWarning: WARNING: The predictions of the quantile regression have issues.\n",
      "The upper quantile predictions are lower\n",
      "than the lower quantile predictions\n",
      "at some points.\n",
      "  warnings.warn(\n",
      "/Users/hunter.merrill/Library/Caches/pypoetry/virtualenvs/kaggle-prediction-interval-birthweight-irFUtOWA-py3.11/lib/python3.11/site-packages/mapie/utils.py:537: UserWarning: WARNING: The predictions have issues.\n",
      "The upper predictions are lower thanthe lower predictions at some points.\n",
      "  warnings.warn(\n"
     ]
    },
    {
     "name": "stdout",
     "output_type": "stream",
     "text": [
      "Iteration No: 39 ended. Search finished for the next optimal point.\n",
      "Time taken: 2.6771\n",
      "Function value obtained: 1781.3615\n",
      "Current minimum: 1639.6033\n",
      "Iteration No: 40 started. Searching for the next optimal point.\n"
     ]
    },
    {
     "name": "stderr",
     "output_type": "stream",
     "text": [
      "/Users/hunter.merrill/Library/Caches/pypoetry/virtualenvs/kaggle-prediction-interval-birthweight-irFUtOWA-py3.11/lib/python3.11/site-packages/mapie/regression/quantile_regression.py:201: UserWarning: WARNING: The alpha that is set needs to be the same as the alpha of your prefitted model in the following order [alpha/2, 1 - alpha/2, 0.5]\n",
      "  warnings.warn(\n",
      "/Users/hunter.merrill/Library/Caches/pypoetry/virtualenvs/kaggle-prediction-interval-birthweight-irFUtOWA-py3.11/lib/python3.11/site-packages/mapie/utils.py:519: UserWarning: WARNING: The predictions of the quantile regression have issues.\n",
      "The upper quantile predictions are lower\n",
      "than the lower quantile predictions\n",
      "at some points.\n",
      "  warnings.warn(\n",
      "/Users/hunter.merrill/Library/Caches/pypoetry/virtualenvs/kaggle-prediction-interval-birthweight-irFUtOWA-py3.11/lib/python3.11/site-packages/mapie/utils.py:537: UserWarning: WARNING: The predictions have issues.\n",
      "The upper predictions are lower thanthe lower predictions at some points.\n",
      "  warnings.warn(\n"
     ]
    },
    {
     "name": "stdout",
     "output_type": "stream",
     "text": [
      "Iteration No: 40 ended. Search finished for the next optimal point.\n",
      "Time taken: 4.6218\n",
      "Function value obtained: 1655.6811\n",
      "Current minimum: 1639.6033\n",
      "Iteration No: 41 started. Searching for the next optimal point.\n"
     ]
    },
    {
     "name": "stderr",
     "output_type": "stream",
     "text": [
      "/Users/hunter.merrill/Library/Caches/pypoetry/virtualenvs/kaggle-prediction-interval-birthweight-irFUtOWA-py3.11/lib/python3.11/site-packages/mapie/regression/quantile_regression.py:201: UserWarning: WARNING: The alpha that is set needs to be the same as the alpha of your prefitted model in the following order [alpha/2, 1 - alpha/2, 0.5]\n",
      "  warnings.warn(\n"
     ]
    },
    {
     "name": "stdout",
     "output_type": "stream",
     "text": [
      "Iteration No: 41 ended. Search finished for the next optimal point.\n",
      "Time taken: 41.2127\n",
      "Function value obtained: 1798.3140\n",
      "Current minimum: 1639.6033\n",
      "Iteration No: 42 started. Searching for the next optimal point.\n"
     ]
    },
    {
     "name": "stderr",
     "output_type": "stream",
     "text": [
      "/Users/hunter.merrill/Library/Caches/pypoetry/virtualenvs/kaggle-prediction-interval-birthweight-irFUtOWA-py3.11/lib/python3.11/site-packages/mapie/regression/quantile_regression.py:201: UserWarning: WARNING: The alpha that is set needs to be the same as the alpha of your prefitted model in the following order [alpha/2, 1 - alpha/2, 0.5]\n",
      "  warnings.warn(\n"
     ]
    },
    {
     "name": "stdout",
     "output_type": "stream",
     "text": [
      "Iteration No: 42 ended. Search finished for the next optimal point.\n",
      "Time taken: 14.9615\n",
      "Function value obtained: 1845.5839\n",
      "Current minimum: 1639.6033\n",
      "Iteration No: 43 started. Searching for the next optimal point.\n"
     ]
    },
    {
     "name": "stderr",
     "output_type": "stream",
     "text": [
      "/Users/hunter.merrill/Library/Caches/pypoetry/virtualenvs/kaggle-prediction-interval-birthweight-irFUtOWA-py3.11/lib/python3.11/site-packages/mapie/regression/quantile_regression.py:201: UserWarning: WARNING: The alpha that is set needs to be the same as the alpha of your prefitted model in the following order [alpha/2, 1 - alpha/2, 0.5]\n",
      "  warnings.warn(\n",
      "/Users/hunter.merrill/Library/Caches/pypoetry/virtualenvs/kaggle-prediction-interval-birthweight-irFUtOWA-py3.11/lib/python3.11/site-packages/mapie/utils.py:537: UserWarning: WARNING: The predictions have issues.\n",
      "The upper predictions are lower thanthe lower predictions at some points.\n",
      "  warnings.warn(\n"
     ]
    },
    {
     "name": "stdout",
     "output_type": "stream",
     "text": [
      "Iteration No: 43 ended. Search finished for the next optimal point.\n",
      "Time taken: 5.7417\n",
      "Function value obtained: 1658.9778\n",
      "Current minimum: 1639.6033\n",
      "Iteration No: 44 started. Searching for the next optimal point.\n"
     ]
    },
    {
     "name": "stderr",
     "output_type": "stream",
     "text": [
      "/Users/hunter.merrill/Library/Caches/pypoetry/virtualenvs/kaggle-prediction-interval-birthweight-irFUtOWA-py3.11/lib/python3.11/site-packages/mapie/regression/quantile_regression.py:201: UserWarning: WARNING: The alpha that is set needs to be the same as the alpha of your prefitted model in the following order [alpha/2, 1 - alpha/2, 0.5]\n",
      "  warnings.warn(\n",
      "/Users/hunter.merrill/Library/Caches/pypoetry/virtualenvs/kaggle-prediction-interval-birthweight-irFUtOWA-py3.11/lib/python3.11/site-packages/mapie/utils.py:537: UserWarning: WARNING: The predictions have issues.\n",
      "The upper predictions are lower thanthe lower predictions at some points.\n",
      "  warnings.warn(\n"
     ]
    },
    {
     "name": "stdout",
     "output_type": "stream",
     "text": [
      "Iteration No: 44 ended. Search finished for the next optimal point.\n",
      "Time taken: 3.4676\n",
      "Function value obtained: 1665.7114\n",
      "Current minimum: 1639.6033\n",
      "Iteration No: 45 started. Searching for the next optimal point.\n"
     ]
    },
    {
     "name": "stderr",
     "output_type": "stream",
     "text": [
      "/Users/hunter.merrill/Library/Caches/pypoetry/virtualenvs/kaggle-prediction-interval-birthweight-irFUtOWA-py3.11/lib/python3.11/site-packages/mapie/regression/quantile_regression.py:201: UserWarning: WARNING: The alpha that is set needs to be the same as the alpha of your prefitted model in the following order [alpha/2, 1 - alpha/2, 0.5]\n",
      "  warnings.warn(\n",
      "/Users/hunter.merrill/Library/Caches/pypoetry/virtualenvs/kaggle-prediction-interval-birthweight-irFUtOWA-py3.11/lib/python3.11/site-packages/mapie/utils.py:519: UserWarning: WARNING: The predictions of the quantile regression have issues.\n",
      "The upper quantile predictions are lower\n",
      "than the lower quantile predictions\n",
      "at some points.\n",
      "  warnings.warn(\n",
      "/Users/hunter.merrill/Library/Caches/pypoetry/virtualenvs/kaggle-prediction-interval-birthweight-irFUtOWA-py3.11/lib/python3.11/site-packages/mapie/utils.py:537: UserWarning: WARNING: The predictions have issues.\n",
      "The upper predictions are lower thanthe lower predictions at some points.\n",
      "  warnings.warn(\n"
     ]
    },
    {
     "name": "stdout",
     "output_type": "stream",
     "text": [
      "Iteration No: 45 ended. Search finished for the next optimal point.\n",
      "Time taken: 2.5170\n",
      "Function value obtained: 1777.1792\n",
      "Current minimum: 1639.6033\n",
      "Iteration No: 46 started. Searching for the next optimal point.\n"
     ]
    },
    {
     "name": "stderr",
     "output_type": "stream",
     "text": [
      "/Users/hunter.merrill/Library/Caches/pypoetry/virtualenvs/kaggle-prediction-interval-birthweight-irFUtOWA-py3.11/lib/python3.11/site-packages/mapie/regression/quantile_regression.py:201: UserWarning: WARNING: The alpha that is set needs to be the same as the alpha of your prefitted model in the following order [alpha/2, 1 - alpha/2, 0.5]\n",
      "  warnings.warn(\n",
      "/Users/hunter.merrill/Library/Caches/pypoetry/virtualenvs/kaggle-prediction-interval-birthweight-irFUtOWA-py3.11/lib/python3.11/site-packages/mapie/utils.py:519: UserWarning: WARNING: The predictions of the quantile regression have issues.\n",
      "The upper quantile predictions are lower\n",
      "than the lower quantile predictions\n",
      "at some points.\n",
      "  warnings.warn(\n",
      "/Users/hunter.merrill/Library/Caches/pypoetry/virtualenvs/kaggle-prediction-interval-birthweight-irFUtOWA-py3.11/lib/python3.11/site-packages/mapie/utils.py:537: UserWarning: WARNING: The predictions have issues.\n",
      "The upper predictions are lower thanthe lower predictions at some points.\n",
      "  warnings.warn(\n"
     ]
    },
    {
     "name": "stdout",
     "output_type": "stream",
     "text": [
      "Iteration No: 46 ended. Search finished for the next optimal point.\n",
      "Time taken: 7.9060\n",
      "Function value obtained: 1677.1758\n",
      "Current minimum: 1639.6033\n",
      "Iteration No: 47 started. Searching for the next optimal point.\n"
     ]
    },
    {
     "name": "stderr",
     "output_type": "stream",
     "text": [
      "/Users/hunter.merrill/Library/Caches/pypoetry/virtualenvs/kaggle-prediction-interval-birthweight-irFUtOWA-py3.11/lib/python3.11/site-packages/mapie/regression/quantile_regression.py:201: UserWarning: WARNING: The alpha that is set needs to be the same as the alpha of your prefitted model in the following order [alpha/2, 1 - alpha/2, 0.5]\n",
      "  warnings.warn(\n",
      "/Users/hunter.merrill/Library/Caches/pypoetry/virtualenvs/kaggle-prediction-interval-birthweight-irFUtOWA-py3.11/lib/python3.11/site-packages/mapie/utils.py:537: UserWarning: WARNING: The predictions have issues.\n",
      "The upper predictions are lower thanthe lower predictions at some points.\n",
      "  warnings.warn(\n"
     ]
    },
    {
     "name": "stdout",
     "output_type": "stream",
     "text": [
      "Iteration No: 47 ended. Search finished for the next optimal point.\n",
      "Time taken: 9.3285\n",
      "Function value obtained: 1680.8898\n",
      "Current minimum: 1639.6033\n",
      "Iteration No: 48 started. Searching for the next optimal point.\n"
     ]
    },
    {
     "name": "stderr",
     "output_type": "stream",
     "text": [
      "/Users/hunter.merrill/Library/Caches/pypoetry/virtualenvs/kaggle-prediction-interval-birthweight-irFUtOWA-py3.11/lib/python3.11/site-packages/mapie/regression/quantile_regression.py:201: UserWarning: WARNING: The alpha that is set needs to be the same as the alpha of your prefitted model in the following order [alpha/2, 1 - alpha/2, 0.5]\n",
      "  warnings.warn(\n",
      "/Users/hunter.merrill/Library/Caches/pypoetry/virtualenvs/kaggle-prediction-interval-birthweight-irFUtOWA-py3.11/lib/python3.11/site-packages/mapie/utils.py:519: UserWarning: WARNING: The predictions of the quantile regression have issues.\n",
      "The upper quantile predictions are lower\n",
      "than the lower quantile predictions\n",
      "at some points.\n",
      "  warnings.warn(\n",
      "/Users/hunter.merrill/Library/Caches/pypoetry/virtualenvs/kaggle-prediction-interval-birthweight-irFUtOWA-py3.11/lib/python3.11/site-packages/mapie/utils.py:537: UserWarning: WARNING: The predictions have issues.\n",
      "The upper predictions are lower thanthe lower predictions at some points.\n",
      "  warnings.warn(\n"
     ]
    },
    {
     "name": "stdout",
     "output_type": "stream",
     "text": [
      "Iteration No: 48 ended. Search finished for the next optimal point.\n",
      "Time taken: 3.6914\n",
      "Function value obtained: 1723.8624\n",
      "Current minimum: 1639.6033\n",
      "Iteration No: 49 started. Searching for the next optimal point.\n"
     ]
    },
    {
     "name": "stderr",
     "output_type": "stream",
     "text": [
      "/Users/hunter.merrill/Library/Caches/pypoetry/virtualenvs/kaggle-prediction-interval-birthweight-irFUtOWA-py3.11/lib/python3.11/site-packages/mapie/regression/quantile_regression.py:201: UserWarning: WARNING: The alpha that is set needs to be the same as the alpha of your prefitted model in the following order [alpha/2, 1 - alpha/2, 0.5]\n",
      "  warnings.warn(\n",
      "/Users/hunter.merrill/Library/Caches/pypoetry/virtualenvs/kaggle-prediction-interval-birthweight-irFUtOWA-py3.11/lib/python3.11/site-packages/mapie/utils.py:519: UserWarning: WARNING: The predictions of the quantile regression have issues.\n",
      "The upper quantile predictions are lower\n",
      "than the lower quantile predictions\n",
      "at some points.\n",
      "  warnings.warn(\n",
      "/Users/hunter.merrill/Library/Caches/pypoetry/virtualenvs/kaggle-prediction-interval-birthweight-irFUtOWA-py3.11/lib/python3.11/site-packages/mapie/utils.py:537: UserWarning: WARNING: The predictions have issues.\n",
      "The upper predictions are lower thanthe lower predictions at some points.\n",
      "  warnings.warn(\n"
     ]
    },
    {
     "name": "stdout",
     "output_type": "stream",
     "text": [
      "Iteration No: 49 ended. Search finished for the next optimal point.\n",
      "Time taken: 5.8378\n",
      "Function value obtained: 1711.5217\n",
      "Current minimum: 1639.6033\n",
      "Iteration No: 50 started. Searching for the next optimal point.\n"
     ]
    },
    {
     "name": "stderr",
     "output_type": "stream",
     "text": [
      "/Users/hunter.merrill/Library/Caches/pypoetry/virtualenvs/kaggle-prediction-interval-birthweight-irFUtOWA-py3.11/lib/python3.11/site-packages/mapie/regression/quantile_regression.py:201: UserWarning: WARNING: The alpha that is set needs to be the same as the alpha of your prefitted model in the following order [alpha/2, 1 - alpha/2, 0.5]\n",
      "  warnings.warn(\n",
      "/Users/hunter.merrill/Library/Caches/pypoetry/virtualenvs/kaggle-prediction-interval-birthweight-irFUtOWA-py3.11/lib/python3.11/site-packages/mapie/utils.py:537: UserWarning: WARNING: The predictions have issues.\n",
      "The upper predictions are lower thanthe lower predictions at some points.\n",
      "  warnings.warn(\n"
     ]
    },
    {
     "name": "stdout",
     "output_type": "stream",
     "text": [
      "Iteration No: 50 ended. Search finished for the next optimal point.\n",
      "Time taken: 9.3312\n",
      "Function value obtained: 1676.7453\n",
      "Current minimum: 1639.6033\n"
     ]
    },
    {
     "name": "stderr",
     "output_type": "stream",
     "text": [
      "/Users/hunter.merrill/Library/Caches/pypoetry/virtualenvs/kaggle-prediction-interval-birthweight-irFUtOWA-py3.11/lib/python3.11/site-packages/mapie/regression/quantile_regression.py:201: UserWarning: WARNING: The alpha that is set needs to be the same as the alpha of your prefitted model in the following order [alpha/2, 1 - alpha/2, 0.5]\n",
      "  warnings.warn(\n",
      "/Users/hunter.merrill/Library/Caches/pypoetry/virtualenvs/kaggle-prediction-interval-birthweight-irFUtOWA-py3.11/lib/python3.11/site-packages/mapie/utils.py:519: UserWarning: WARNING: The predictions of the quantile regression have issues.\n",
      "The upper quantile predictions are lower\n",
      "than the lower quantile predictions\n",
      "at some points.\n",
      "  warnings.warn(\n",
      "/Users/hunter.merrill/Library/Caches/pypoetry/virtualenvs/kaggle-prediction-interval-birthweight-irFUtOWA-py3.11/lib/python3.11/site-packages/mapie/utils.py:537: UserWarning: WARNING: The predictions have issues.\n",
      "The upper predictions are lower thanthe lower predictions at some points.\n",
      "  warnings.warn(\n"
     ]
    },
    {
     "name": "stdout",
     "output_type": "stream",
     "text": [
      "Iteration No: 51 ended. Search finished for the next optimal point.\n",
      "Time taken: 13.7498\n",
      "Function value obtained: 1670.3116\n",
      "Current minimum: 1639.6033\n"
     ]
    }
   ],
   "source": [
    "tuner = HistBoostTuner(\n",
    "    verbose=True, categorical_feature_mask=data_processor.categorical_features\n",
    ")\n",
    "tuner.tune(X, y)"
   ]
  },
  {
   "cell_type": "code",
   "execution_count": 7,
   "id": "51c9807f-eff6-4665-a203-8c0955a43168",
   "metadata": {},
   "outputs": [
    {
     "data": {
      "text/plain": [
       "array([1681.11592994, 1677.99559318, 1699.64182955, 1665.34872695,\n",
       "       1674.25537926, 1723.968289  , 1664.06507615, 1771.68227481,\n",
       "       1715.00671317, 1682.98376227, 1666.67270747, 1676.46796599,\n",
       "       1693.22731249, 1755.13412205, 1674.25537926, 1723.968289  ,\n",
       "       1714.72009921, 1771.68227481, 1665.64239566, 1682.98376227,\n",
       "       1700.78931628, 1716.87646397, 1717.23543074, 1718.43550673,\n",
       "       1639.60334937, 1664.04324278, 1650.35996966, 1846.60140044,\n",
       "       1677.77890218, 1763.90696602, 1704.46234277, 1769.59357574,\n",
       "       1650.18508719, 1682.0170287 , 1668.60955183, 1884.54799407,\n",
       "       1677.44007698, 1775.68250949, 1777.20246101, 1660.20057607,\n",
       "       1683.67216205, 1785.50719861, 1723.25600721, 1652.05074065,\n",
       "       1654.86813483, 1706.27399281, 1647.33030166, 1781.36151133,\n",
       "       1655.68113493, 1798.31402117, 1845.58394512, 1658.97776319,\n",
       "       1665.71143858, 1777.17920677, 1677.17584851, 1680.88982416,\n",
       "       1723.86236214, 1711.52171457, 1676.74532402, 1670.31162895])"
      ]
     },
     "execution_count": 7,
     "metadata": {},
     "output_type": "execute_result"
    }
   ],
   "source": [
    "tuner.res_gp.func_vals"
   ]
  },
  {
   "cell_type": "code",
   "execution_count": 8,
   "id": "d81cf6ad-f99c-4d38-9f3a-d1855c512bbd",
   "metadata": {},
   "outputs": [
    {
     "data": {
      "text/plain": [
       "[[0.9807412289900471, 0.46003068044903095, 2, 50, 31],\n",
       " [0.015478974396671025, 0.0008700690210600545, 7, 47, 86],\n",
       " [0.008706037847015437, 0.004195085318955972, 5, 15, 58],\n",
       " [0.5519326346081447, 0.0019320752621429876, 5, 47, 80],\n",
       " [0.140576118573469, 0.10322562466964824, 2, 28, 88],\n",
       " [0.30721380131411513, 0.1406101906115138, 3, 8, 70],\n",
       " [0.06014458808993631, 0.022817627560812234, 5, 14, 36],\n",
       " [0.0026690727196422457, 0.08252249755325355, 5, 7, 66],\n",
       " [0.09591956282799739, 0.0003107967535980341, 5, 15, 17],\n",
       " [0.02556910810331702, 3.0259468970108244e-05, 9, 10, 57],\n",
       " [0.9807412289900471, 0.46003068044903095, 2, 50, 31],\n",
       " [0.015478974396671025, 0.0008700690210600545, 7, 47, 86],\n",
       " [0.008706037847015437, 0.004195085318955972, 5, 15, 58],\n",
       " [0.5519326346081447, 0.0019320752621429876, 5, 47, 80],\n",
       " [0.140576118573469, 0.10322562466964824, 2, 28, 88],\n",
       " [0.30721380131411513, 0.1406101906115138, 3, 8, 70],\n",
       " [0.06014458808993631, 0.022817627560812234, 5, 14, 36],\n",
       " [0.0026690727196422457, 0.08252249755325355, 5, 7, 66],\n",
       " [0.09591956282799739, 0.0003107967535980341, 5, 15, 17],\n",
       " [0.02556910810331702, 3.0259468970108244e-05, 9, 10, 57],\n",
       " [0.011487413563645375, 6.656529901482718e-05, 9, 12, 27],\n",
       " [0.004237124997175173, 1.3378510516574276e-05, 10, 44, 92],\n",
       " [0.6405148851128355, 1.4084176942415922e-05, 9, 35, 52],\n",
       " [0.03803538564004676, 2.6544148705697226e-05, 8, 7, 33],\n",
       " [0.14772745761339162, 0.009648963330761146, 3, 26, 83],\n",
       " [0.1375547627342226, 0.004988944459412543, 7, 25, 89],\n",
       " [0.7933389816992069, 1.2414615504390699e-05, 2, 26, 52],\n",
       " [0.001, 1e-05, 2, 26, 20],\n",
       " [1.0, 1e-05, 10, 5, 100],\n",
       " [0.08572645948001609, 1e-05, 1, 50, 100],\n",
       " [0.02891605279756118, 0.00016286118188405026, 6, 28, 84],\n",
       " [1.0, 0.05212929693108323, 1, 19, 10],\n",
       " [0.35808457630151236, 5.4501514685803266e-05, 3, 26, 50],\n",
       " [0.8591128635953332, 0.5644181350130352, 3, 28, 66],\n",
       " [0.3495569901783248, 1.1962139315372835e-05, 10, 25, 29],\n",
       " [0.001, 1.0, 1, 50, 10],\n",
       " [0.08625329079761115, 1.0, 10, 37, 10],\n",
       " [1.0, 1e-05, 1, 24, 100],\n",
       " [1.0, 1.0, 1, 7, 44],\n",
       " [0.17052033586156487, 1e-05, 3, 50, 27],\n",
       " [0.25215133819099383, 1e-05, 3, 42, 10],\n",
       " [1.0, 1.0, 7, 50, 100],\n",
       " [0.12120806596034549, 1.0, 10, 5, 10],\n",
       " [0.11007507789254686, 1.0, 5, 34, 51],\n",
       " [0.12023898365368267, 1e-05, 4, 33, 51],\n",
       " [0.05313118571017494, 1.0, 10, 33, 55],\n",
       " [0.17606615181599594, 1e-05, 4, 32, 50],\n",
       " [1.0, 1e-05, 7, 50, 10],\n",
       " [0.10042685951456871, 0.3032895932249942, 4, 34, 100],\n",
       " [0.001, 1.0, 7, 50, 10],\n",
       " [0.001, 1e-05, 10, 5, 100],\n",
       " [0.07023265652012275, 1.0, 4, 36, 10],\n",
       " [0.22645270808053813, 1.0, 3, 34, 100],\n",
       " [1.0, 1e-05, 7, 5, 94],\n",
       " [0.05114526348030876, 1e-05, 4, 50, 100],\n",
       " [0.03850216578055902, 1e-05, 9, 50, 100],\n",
       " [0.18707703090653818, 1.0, 3, 38, 10],\n",
       " [0.0584482505776911, 1e-05, 4, 50, 100],\n",
       " [0.04061748774271965, 1e-05, 8, 34, 100],\n",
       " [0.16763960509887035, 1e-05, 10, 50, 100]]"
      ]
     },
     "execution_count": 8,
     "metadata": {},
     "output_type": "execute_result"
    }
   ],
   "source": [
    "tuner.res_gp.x_iters"
   ]
  },
  {
   "cell_type": "code",
   "execution_count": 9,
   "id": "d306ff47-5789-4a3b-afa1-0c531c3015be",
   "metadata": {},
   "outputs": [
    {
     "data": {
      "text/plain": [
       "{'NOIS': 1639.6033493654973,\n",
       " 'opt_parameters': {'learning_rate': 0.14772745761339162,\n",
       "  'l2_regularization': 0.009648963330761146,\n",
       "  'max_depth': 3,\n",
       "  'max_leaf_nodes': 26,\n",
       "  'min_samples_leaf': 83}}"
      ]
     },
     "execution_count": 9,
     "metadata": {},
     "output_type": "execute_result"
    }
   ],
   "source": [
    "tuner.result"
   ]
  },
  {
   "cell_type": "code",
   "execution_count": 10,
   "id": "e31d0780-ee84-49e1-889e-6582b3639b03",
   "metadata": {},
   "outputs": [],
   "source": [
    "# eim_validator = Validator(\"HistBoostRegressor\")\n",
    "# eim_validator.fit(data)\n",
    "# eim_validator.print_performance_summary()\n",
    "\n",
    "# lower, upper = eim_validator.predict_intervals(data)\n",
    "# lower_new, upper_new = eim_validator.predict_intervals(data_test)\n",
    "\n",
    "# plot_result(data[\"DBWT\"], lower, upper, lower_new, upper_new)"
   ]
  }
 ],
 "metadata": {
  "kernelspec": {
   "display_name": "Python 3 (ipykernel)",
   "language": "python",
   "name": "python3"
  },
  "language_info": {
   "codemirror_mode": {
    "name": "ipython",
    "version": 3
   },
   "file_extension": ".py",
   "mimetype": "text/x-python",
   "name": "python",
   "nbconvert_exporter": "python",
   "pygments_lexer": "ipython3",
   "version": "3.11.5"
  }
 },
 "nbformat": 4,
 "nbformat_minor": 5
}
