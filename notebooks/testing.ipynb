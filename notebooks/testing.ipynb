{
 "cells": [
  {
   "cell_type": "code",
   "execution_count": 1,
   "id": "5203d04c-3966-4837-b12b-67af07aba039",
   "metadata": {},
   "outputs": [],
   "source": [
    "%load_ext lab_black\n",
    "%load_ext autoreload\n",
    "%autoreload 2"
   ]
  },
  {
   "cell_type": "code",
   "execution_count": 2,
   "id": "b75dd941-74af-42c8-8734-da8768daed9d",
   "metadata": {},
   "outputs": [],
   "source": [
    "import pandas as pd\n",
    "import numpy as np\n",
    "import matplotlib.pyplot as plt\n",
    "from tensorflow.random import set_seed\n",
    "\n",
    "from kaggle_prediction_interval_birthweight.data.data_processing import DataProcessor\n",
    "from kaggle_prediction_interval_birthweight.workflow.validation import Validator\n",
    "from kaggle_prediction_interval_birthweight.workflow.histboost_tuning import (\n",
    "    HistBoostTuner,\n",
    ")\n",
    "\n",
    "np.random.seed(1)\n",
    "set_seed(1)"
   ]
  },
  {
   "cell_type": "code",
   "execution_count": 3,
   "id": "0cf4c542-592f-45ec-9c01-747c0f7d1f0d",
   "metadata": {},
   "outputs": [],
   "source": [
    "def plot_result(obs, lower, upper, lower_new, upper_new):\n",
    "    fig, ax = plt.subplots(1, 3, figsize=(10, 3))\n",
    "    ax[0].vlines(x=obs, ymin=lower, ymax=upper, alpha=0.25)\n",
    "    ax[0].set_xlim(\n",
    "        np.min(np.concatenate([obs, lower])), np.max(np.concatenate([obs, upper]))\n",
    "    )\n",
    "    ax[0].set_ylim(\n",
    "        np.min(np.concatenate([obs, lower])), np.max(np.concatenate([obs, upper]))\n",
    "    )\n",
    "    ax[0].plot([0, 1], [0, 1], transform=ax[0].transAxes, color=\"orange\")\n",
    "    ax[0].set_xlabel(\"observations\")\n",
    "    ax[0].set_ylabel(\"predictions\")\n",
    "    ax[1].hist(lower, bins=100, density=True, color=\"blue\", alpha=0.75, label=\"train\")\n",
    "    ax[1].hist(\n",
    "        lower_new, bins=100, density=True, color=\"orange\", alpha=0.75, label=\"test\"\n",
    "    )\n",
    "    ax[1].set_xlabel(\"predicted lower bounds\")\n",
    "    ax[1].legend()\n",
    "    ax[2].hist(upper, bins=100, density=True, color=\"blue\", alpha=0.75, label=\"train\")\n",
    "    ax[2].hist(\n",
    "        upper_new, bins=100, density=True, color=\"orange\", alpha=0.75, label=\"test\"\n",
    "    )\n",
    "    ax[2].set_xlabel(\"predicted upper bounds\")\n",
    "    ax[2].legend()\n",
    "    plt.show()"
   ]
  },
  {
   "cell_type": "code",
   "execution_count": 4,
   "id": "eb4a8d1f-1cbb-478e-ae05-cdbde097536b",
   "metadata": {},
   "outputs": [],
   "source": [
    "data = pd.read_csv(\"~/dev/data/kaggle-prediction-interval-birthweight/train.csv\")\n",
    "data_test = pd.read_csv(\"~/dev/data/kaggle-prediction-interval-birthweight/test.csv\")"
   ]
  },
  {
   "cell_type": "code",
   "execution_count": 5,
   "id": "31bd3a29-5f1b-492c-8e07-cc3a8e27a8e1",
   "metadata": {},
   "outputs": [
    {
     "name": "stdout",
     "output_type": "stream",
     "text": [
      "Iteration No: 1 started. Evaluating function at random point.\n",
      "Iteration No: 1 ended. Evaluation done at random point.\n",
      "Time taken: 0.0001\n",
      "Function value obtained: 1665.0659\n",
      "Current minimum: 1641.5339\n",
      "Iteration No: 2 started. Evaluating function at random point.\n"
     ]
    },
    {
     "name": "stderr",
     "output_type": "stream",
     "text": [
      "/Users/hunter.merrill/Library/Caches/pypoetry/virtualenvs/kaggle-prediction-interval-birthweight-irFUtOWA-py3.11/lib/python3.11/site-packages/mapie/regression/quantile_regression.py:201: UserWarning: WARNING: The alpha that is set needs to be the same as the alpha of your prefitted model in the following order [alpha/2, 1 - alpha/2, 0.5]\n",
      "  warnings.warn(\n",
      "/Users/hunter.merrill/Library/Caches/pypoetry/virtualenvs/kaggle-prediction-interval-birthweight-irFUtOWA-py3.11/lib/python3.11/site-packages/mapie/utils.py:519: UserWarning: WARNING: The predictions of the quantile regression have issues.\n",
      "The upper quantile predictions are lower\n",
      "than the lower quantile predictions\n",
      "at some points.\n",
      "  warnings.warn(\n",
      "/Users/hunter.merrill/Library/Caches/pypoetry/virtualenvs/kaggle-prediction-interval-birthweight-irFUtOWA-py3.11/lib/python3.11/site-packages/mapie/utils.py:537: UserWarning: WARNING: The predictions have issues.\n",
      "The upper predictions are lower thanthe lower predictions at some points.\n",
      "  warnings.warn(\n"
     ]
    },
    {
     "name": "stdout",
     "output_type": "stream",
     "text": [
      "Iteration No: 2 ended. Evaluation done at random point.\n",
      "Time taken: 3.2870\n",
      "Function value obtained: 1683.1585\n",
      "Current minimum: 1641.5339\n",
      "Iteration No: 3 started. Evaluating function at random point.\n"
     ]
    },
    {
     "name": "stderr",
     "output_type": "stream",
     "text": [
      "/Users/hunter.merrill/Library/Caches/pypoetry/virtualenvs/kaggle-prediction-interval-birthweight-irFUtOWA-py3.11/lib/python3.11/site-packages/mapie/regression/quantile_regression.py:201: UserWarning: WARNING: The alpha that is set needs to be the same as the alpha of your prefitted model in the following order [alpha/2, 1 - alpha/2, 0.5]\n",
      "  warnings.warn(\n",
      "/Users/hunter.merrill/Library/Caches/pypoetry/virtualenvs/kaggle-prediction-interval-birthweight-irFUtOWA-py3.11/lib/python3.11/site-packages/mapie/utils.py:519: UserWarning: WARNING: The predictions of the quantile regression have issues.\n",
      "The upper quantile predictions are lower\n",
      "than the lower quantile predictions\n",
      "at some points.\n",
      "  warnings.warn(\n",
      "/Users/hunter.merrill/Library/Caches/pypoetry/virtualenvs/kaggle-prediction-interval-birthweight-irFUtOWA-py3.11/lib/python3.11/site-packages/mapie/utils.py:537: UserWarning: WARNING: The predictions have issues.\n",
      "The upper predictions are lower thanthe lower predictions at some points.\n",
      "  warnings.warn(\n"
     ]
    },
    {
     "name": "stdout",
     "output_type": "stream",
     "text": [
      "Iteration No: 3 ended. Evaluation done at random point.\n",
      "Time taken: 27.3568\n",
      "Function value obtained: 1675.1641\n",
      "Current minimum: 1641.5339\n",
      "Iteration No: 4 started. Evaluating function at random point.\n"
     ]
    },
    {
     "name": "stderr",
     "output_type": "stream",
     "text": [
      "/Users/hunter.merrill/Library/Caches/pypoetry/virtualenvs/kaggle-prediction-interval-birthweight-irFUtOWA-py3.11/lib/python3.11/site-packages/mapie/regression/quantile_regression.py:201: UserWarning: WARNING: The alpha that is set needs to be the same as the alpha of your prefitted model in the following order [alpha/2, 1 - alpha/2, 0.5]\n",
      "  warnings.warn(\n",
      "/Users/hunter.merrill/Library/Caches/pypoetry/virtualenvs/kaggle-prediction-interval-birthweight-irFUtOWA-py3.11/lib/python3.11/site-packages/mapie/utils.py:537: UserWarning: WARNING: The predictions have issues.\n",
      "The upper predictions are lower thanthe lower predictions at some points.\n",
      "  warnings.warn(\n"
     ]
    },
    {
     "name": "stdout",
     "output_type": "stream",
     "text": [
      "Iteration No: 4 ended. Evaluation done at random point.\n",
      "Time taken: 25.2749\n",
      "Function value obtained: 1687.5518\n",
      "Current minimum: 1641.5339\n",
      "Iteration No: 5 started. Evaluating function at random point.\n"
     ]
    },
    {
     "name": "stderr",
     "output_type": "stream",
     "text": [
      "/Users/hunter.merrill/Library/Caches/pypoetry/virtualenvs/kaggle-prediction-interval-birthweight-irFUtOWA-py3.11/lib/python3.11/site-packages/mapie/regression/quantile_regression.py:201: UserWarning: WARNING: The alpha that is set needs to be the same as the alpha of your prefitted model in the following order [alpha/2, 1 - alpha/2, 0.5]\n",
      "  warnings.warn(\n",
      "/Users/hunter.merrill/Library/Caches/pypoetry/virtualenvs/kaggle-prediction-interval-birthweight-irFUtOWA-py3.11/lib/python3.11/site-packages/mapie/utils.py:519: UserWarning: WARNING: The predictions of the quantile regression have issues.\n",
      "The upper quantile predictions are lower\n",
      "than the lower quantile predictions\n",
      "at some points.\n",
      "  warnings.warn(\n",
      "/Users/hunter.merrill/Library/Caches/pypoetry/virtualenvs/kaggle-prediction-interval-birthweight-irFUtOWA-py3.11/lib/python3.11/site-packages/mapie/utils.py:537: UserWarning: WARNING: The predictions have issues.\n",
      "The upper predictions are lower thanthe lower predictions at some points.\n",
      "  warnings.warn(\n"
     ]
    },
    {
     "name": "stdout",
     "output_type": "stream",
     "text": [
      "Iteration No: 5 ended. Evaluation done at random point.\n",
      "Time taken: 2.9434\n",
      "Function value obtained: 1672.8078\n",
      "Current minimum: 1641.5339\n",
      "Iteration No: 6 started. Evaluating function at random point.\n"
     ]
    },
    {
     "name": "stderr",
     "output_type": "stream",
     "text": [
      "/Users/hunter.merrill/Library/Caches/pypoetry/virtualenvs/kaggle-prediction-interval-birthweight-irFUtOWA-py3.11/lib/python3.11/site-packages/mapie/regression/quantile_regression.py:201: UserWarning: WARNING: The alpha that is set needs to be the same as the alpha of your prefitted model in the following order [alpha/2, 1 - alpha/2, 0.5]\n",
      "  warnings.warn(\n",
      "/Users/hunter.merrill/Library/Caches/pypoetry/virtualenvs/kaggle-prediction-interval-birthweight-irFUtOWA-py3.11/lib/python3.11/site-packages/mapie/utils.py:537: UserWarning: WARNING: The predictions have issues.\n",
      "The upper predictions are lower thanthe lower predictions at some points.\n",
      "  warnings.warn(\n"
     ]
    },
    {
     "name": "stdout",
     "output_type": "stream",
     "text": [
      "Iteration No: 6 ended. Evaluation done at random point.\n",
      "Time taken: 5.6320\n",
      "Function value obtained: 1692.4718\n",
      "Current minimum: 1641.5339\n",
      "Iteration No: 7 started. Evaluating function at random point.\n"
     ]
    },
    {
     "name": "stderr",
     "output_type": "stream",
     "text": [
      "/Users/hunter.merrill/Library/Caches/pypoetry/virtualenvs/kaggle-prediction-interval-birthweight-irFUtOWA-py3.11/lib/python3.11/site-packages/mapie/regression/quantile_regression.py:201: UserWarning: WARNING: The alpha that is set needs to be the same as the alpha of your prefitted model in the following order [alpha/2, 1 - alpha/2, 0.5]\n",
      "  warnings.warn(\n",
      "/Users/hunter.merrill/Library/Caches/pypoetry/virtualenvs/kaggle-prediction-interval-birthweight-irFUtOWA-py3.11/lib/python3.11/site-packages/mapie/utils.py:519: UserWarning: WARNING: The predictions of the quantile regression have issues.\n",
      "The upper quantile predictions are lower\n",
      "than the lower quantile predictions\n",
      "at some points.\n",
      "  warnings.warn(\n",
      "/Users/hunter.merrill/Library/Caches/pypoetry/virtualenvs/kaggle-prediction-interval-birthweight-irFUtOWA-py3.11/lib/python3.11/site-packages/mapie/utils.py:537: UserWarning: WARNING: The predictions have issues.\n",
      "The upper predictions are lower thanthe lower predictions at some points.\n",
      "  warnings.warn(\n"
     ]
    },
    {
     "name": "stdout",
     "output_type": "stream",
     "text": [
      "Iteration No: 7 ended. Evaluation done at random point.\n",
      "Time taken: 4.3802\n",
      "Function value obtained: 1657.7525\n",
      "Current minimum: 1641.5339\n",
      "Iteration No: 8 started. Evaluating function at random point.\n"
     ]
    },
    {
     "name": "stderr",
     "output_type": "stream",
     "text": [
      "/Users/hunter.merrill/Library/Caches/pypoetry/virtualenvs/kaggle-prediction-interval-birthweight-irFUtOWA-py3.11/lib/python3.11/site-packages/mapie/regression/quantile_regression.py:201: UserWarning: WARNING: The alpha that is set needs to be the same as the alpha of your prefitted model in the following order [alpha/2, 1 - alpha/2, 0.5]\n",
      "  warnings.warn(\n",
      "/Users/hunter.merrill/Library/Caches/pypoetry/virtualenvs/kaggle-prediction-interval-birthweight-irFUtOWA-py3.11/lib/python3.11/site-packages/mapie/utils.py:537: UserWarning: WARNING: The predictions have issues.\n",
      "The upper predictions are lower thanthe lower predictions at some points.\n",
      "  warnings.warn(\n"
     ]
    },
    {
     "name": "stdout",
     "output_type": "stream",
     "text": [
      "Iteration No: 8 ended. Evaluation done at random point.\n",
      "Time taken: 6.7556\n",
      "Function value obtained: 1681.5429\n",
      "Current minimum: 1641.5339\n",
      "Iteration No: 9 started. Evaluating function at random point.\n"
     ]
    },
    {
     "name": "stderr",
     "output_type": "stream",
     "text": [
      "/Users/hunter.merrill/Library/Caches/pypoetry/virtualenvs/kaggle-prediction-interval-birthweight-irFUtOWA-py3.11/lib/python3.11/site-packages/mapie/regression/quantile_regression.py:201: UserWarning: WARNING: The alpha that is set needs to be the same as the alpha of your prefitted model in the following order [alpha/2, 1 - alpha/2, 0.5]\n",
      "  warnings.warn(\n"
     ]
    },
    {
     "name": "stdout",
     "output_type": "stream",
     "text": [
      "Iteration No: 9 ended. Evaluation done at random point.\n",
      "Time taken: 24.0108\n",
      "Function value obtained: 1767.3171\n",
      "Current minimum: 1641.5339\n",
      "Iteration No: 10 started. Evaluating function at random point.\n"
     ]
    },
    {
     "name": "stderr",
     "output_type": "stream",
     "text": [
      "/Users/hunter.merrill/Library/Caches/pypoetry/virtualenvs/kaggle-prediction-interval-birthweight-irFUtOWA-py3.11/lib/python3.11/site-packages/mapie/regression/quantile_regression.py:201: UserWarning: WARNING: The alpha that is set needs to be the same as the alpha of your prefitted model in the following order [alpha/2, 1 - alpha/2, 0.5]\n",
      "  warnings.warn(\n",
      "/Users/hunter.merrill/Library/Caches/pypoetry/virtualenvs/kaggle-prediction-interval-birthweight-irFUtOWA-py3.11/lib/python3.11/site-packages/mapie/utils.py:537: UserWarning: WARNING: The predictions have issues.\n",
      "The upper predictions are lower thanthe lower predictions at some points.\n",
      "  warnings.warn(\n"
     ]
    },
    {
     "name": "stdout",
     "output_type": "stream",
     "text": [
      "Iteration No: 10 ended. Evaluation done at random point.\n",
      "Time taken: 6.3750\n",
      "Function value obtained: 1660.1251\n",
      "Current minimum: 1641.5339\n",
      "Iteration No: 11 started. Evaluating function at random point.\n"
     ]
    },
    {
     "name": "stderr",
     "output_type": "stream",
     "text": [
      "/Users/hunter.merrill/Library/Caches/pypoetry/virtualenvs/kaggle-prediction-interval-birthweight-irFUtOWA-py3.11/lib/python3.11/site-packages/mapie/regression/quantile_regression.py:201: UserWarning: WARNING: The alpha that is set needs to be the same as the alpha of your prefitted model in the following order [alpha/2, 1 - alpha/2, 0.5]\n",
      "  warnings.warn(\n",
      "/Users/hunter.merrill/Library/Caches/pypoetry/virtualenvs/kaggle-prediction-interval-birthweight-irFUtOWA-py3.11/lib/python3.11/site-packages/mapie/utils.py:537: UserWarning: WARNING: The predictions have issues.\n",
      "The upper predictions are lower thanthe lower predictions at some points.\n",
      "  warnings.warn(\n"
     ]
    },
    {
     "name": "stdout",
     "output_type": "stream",
     "text": [
      "Iteration No: 11 ended. Evaluation done at random point.\n",
      "Time taken: 13.6331\n",
      "Function value obtained: 1678.6408\n",
      "Current minimum: 1641.5339\n",
      "Iteration No: 12 started. Evaluating function at random point.\n"
     ]
    },
    {
     "name": "stderr",
     "output_type": "stream",
     "text": [
      "/Users/hunter.merrill/Library/Caches/pypoetry/virtualenvs/kaggle-prediction-interval-birthweight-irFUtOWA-py3.11/lib/python3.11/site-packages/mapie/regression/quantile_regression.py:201: UserWarning: WARNING: The alpha that is set needs to be the same as the alpha of your prefitted model in the following order [alpha/2, 1 - alpha/2, 0.5]\n",
      "  warnings.warn(\n",
      "/Users/hunter.merrill/Library/Caches/pypoetry/virtualenvs/kaggle-prediction-interval-birthweight-irFUtOWA-py3.11/lib/python3.11/site-packages/mapie/utils.py:537: UserWarning: WARNING: The predictions have issues.\n",
      "The upper predictions are lower thanthe lower predictions at some points.\n",
      "  warnings.warn(\n"
     ]
    },
    {
     "name": "stdout",
     "output_type": "stream",
     "text": [
      "Iteration No: 12 ended. Evaluation done at random point.\n",
      "Time taken: 9.8746\n",
      "Function value obtained: 1676.2817\n",
      "Current minimum: 1641.5339\n",
      "Iteration No: 13 started. Evaluating function at random point.\n"
     ]
    },
    {
     "name": "stderr",
     "output_type": "stream",
     "text": [
      "/Users/hunter.merrill/Library/Caches/pypoetry/virtualenvs/kaggle-prediction-interval-birthweight-irFUtOWA-py3.11/lib/python3.11/site-packages/mapie/regression/quantile_regression.py:201: UserWarning: WARNING: The alpha that is set needs to be the same as the alpha of your prefitted model in the following order [alpha/2, 1 - alpha/2, 0.5]\n",
      "  warnings.warn(\n",
      "/Users/hunter.merrill/Library/Caches/pypoetry/virtualenvs/kaggle-prediction-interval-birthweight-irFUtOWA-py3.11/lib/python3.11/site-packages/mapie/utils.py:537: UserWarning: WARNING: The predictions have issues.\n",
      "The upper predictions are lower thanthe lower predictions at some points.\n",
      "  warnings.warn(\n"
     ]
    },
    {
     "name": "stdout",
     "output_type": "stream",
     "text": [
      "Iteration No: 13 ended. Evaluation done at random point.\n",
      "Time taken: 3.8774\n",
      "Function value obtained: 1654.8322\n",
      "Current minimum: 1641.5339\n",
      "Iteration No: 14 started. Evaluating function at random point.\n"
     ]
    },
    {
     "name": "stderr",
     "output_type": "stream",
     "text": [
      "/Users/hunter.merrill/Library/Caches/pypoetry/virtualenvs/kaggle-prediction-interval-birthweight-irFUtOWA-py3.11/lib/python3.11/site-packages/mapie/regression/quantile_regression.py:201: UserWarning: WARNING: The alpha that is set needs to be the same as the alpha of your prefitted model in the following order [alpha/2, 1 - alpha/2, 0.5]\n",
      "  warnings.warn(\n",
      "/Users/hunter.merrill/Library/Caches/pypoetry/virtualenvs/kaggle-prediction-interval-birthweight-irFUtOWA-py3.11/lib/python3.11/site-packages/mapie/utils.py:537: UserWarning: WARNING: The predictions have issues.\n",
      "The upper predictions are lower thanthe lower predictions at some points.\n",
      "  warnings.warn(\n"
     ]
    },
    {
     "name": "stdout",
     "output_type": "stream",
     "text": [
      "Iteration No: 14 ended. Evaluation done at random point.\n",
      "Time taken: 4.6594\n",
      "Function value obtained: 1688.2535\n",
      "Current minimum: 1641.5339\n",
      "Iteration No: 15 started. Evaluating function at random point.\n"
     ]
    },
    {
     "name": "stderr",
     "output_type": "stream",
     "text": [
      "/Users/hunter.merrill/Library/Caches/pypoetry/virtualenvs/kaggle-prediction-interval-birthweight-irFUtOWA-py3.11/lib/python3.11/site-packages/mapie/regression/quantile_regression.py:201: UserWarning: WARNING: The alpha that is set needs to be the same as the alpha of your prefitted model in the following order [alpha/2, 1 - alpha/2, 0.5]\n",
      "  warnings.warn(\n",
      "/Users/hunter.merrill/Library/Caches/pypoetry/virtualenvs/kaggle-prediction-interval-birthweight-irFUtOWA-py3.11/lib/python3.11/site-packages/mapie/utils.py:537: UserWarning: WARNING: The predictions have issues.\n",
      "The upper predictions are lower thanthe lower predictions at some points.\n",
      "  warnings.warn(\n"
     ]
    },
    {
     "name": "stdout",
     "output_type": "stream",
     "text": [
      "Iteration No: 15 ended. Evaluation done at random point.\n",
      "Time taken: 3.7872\n",
      "Function value obtained: 1741.5792\n",
      "Current minimum: 1641.5339\n",
      "Iteration No: 16 started. Evaluating function at random point.\n"
     ]
    },
    {
     "name": "stderr",
     "output_type": "stream",
     "text": [
      "/Users/hunter.merrill/Library/Caches/pypoetry/virtualenvs/kaggle-prediction-interval-birthweight-irFUtOWA-py3.11/lib/python3.11/site-packages/mapie/regression/quantile_regression.py:201: UserWarning: WARNING: The alpha that is set needs to be the same as the alpha of your prefitted model in the following order [alpha/2, 1 - alpha/2, 0.5]\n",
      "  warnings.warn(\n",
      "/Users/hunter.merrill/Library/Caches/pypoetry/virtualenvs/kaggle-prediction-interval-birthweight-irFUtOWA-py3.11/lib/python3.11/site-packages/mapie/utils.py:537: UserWarning: WARNING: The predictions have issues.\n",
      "The upper predictions are lower thanthe lower predictions at some points.\n",
      "  warnings.warn(\n"
     ]
    },
    {
     "name": "stdout",
     "output_type": "stream",
     "text": [
      "Iteration No: 16 ended. Evaluation done at random point.\n",
      "Time taken: 4.1832\n",
      "Function value obtained: 1659.3865\n",
      "Current minimum: 1641.5339\n",
      "Iteration No: 17 started. Evaluating function at random point.\n"
     ]
    },
    {
     "name": "stderr",
     "output_type": "stream",
     "text": [
      "/Users/hunter.merrill/Library/Caches/pypoetry/virtualenvs/kaggle-prediction-interval-birthweight-irFUtOWA-py3.11/lib/python3.11/site-packages/mapie/regression/quantile_regression.py:201: UserWarning: WARNING: The alpha that is set needs to be the same as the alpha of your prefitted model in the following order [alpha/2, 1 - alpha/2, 0.5]\n",
      "  warnings.warn(\n",
      "/Users/hunter.merrill/Library/Caches/pypoetry/virtualenvs/kaggle-prediction-interval-birthweight-irFUtOWA-py3.11/lib/python3.11/site-packages/mapie/utils.py:537: UserWarning: WARNING: The predictions have issues.\n",
      "The upper predictions are lower thanthe lower predictions at some points.\n",
      "  warnings.warn(\n"
     ]
    },
    {
     "name": "stdout",
     "output_type": "stream",
     "text": [
      "Iteration No: 17 ended. Evaluation done at random point.\n",
      "Time taken: 4.8613\n",
      "Function value obtained: 1740.3901\n",
      "Current minimum: 1641.5339\n",
      "Iteration No: 18 started. Evaluating function at random point.\n"
     ]
    },
    {
     "name": "stderr",
     "output_type": "stream",
     "text": [
      "/Users/hunter.merrill/Library/Caches/pypoetry/virtualenvs/kaggle-prediction-interval-birthweight-irFUtOWA-py3.11/lib/python3.11/site-packages/mapie/regression/quantile_regression.py:201: UserWarning: WARNING: The alpha that is set needs to be the same as the alpha of your prefitted model in the following order [alpha/2, 1 - alpha/2, 0.5]\n",
      "  warnings.warn(\n",
      "/Users/hunter.merrill/Library/Caches/pypoetry/virtualenvs/kaggle-prediction-interval-birthweight-irFUtOWA-py3.11/lib/python3.11/site-packages/mapie/utils.py:519: UserWarning: WARNING: The predictions of the quantile regression have issues.\n",
      "The upper quantile predictions are lower\n",
      "than the lower quantile predictions\n",
      "at some points.\n",
      "  warnings.warn(\n",
      "/Users/hunter.merrill/Library/Caches/pypoetry/virtualenvs/kaggle-prediction-interval-birthweight-irFUtOWA-py3.11/lib/python3.11/site-packages/mapie/utils.py:537: UserWarning: WARNING: The predictions have issues.\n",
      "The upper predictions are lower thanthe lower predictions at some points.\n",
      "  warnings.warn(\n"
     ]
    },
    {
     "name": "stdout",
     "output_type": "stream",
     "text": [
      "Iteration No: 18 ended. Evaluation done at random point.\n",
      "Time taken: 2.8825\n",
      "Function value obtained: 1724.2679\n",
      "Current minimum: 1641.5339\n",
      "Iteration No: 19 started. Evaluating function at random point.\n"
     ]
    },
    {
     "name": "stderr",
     "output_type": "stream",
     "text": [
      "/Users/hunter.merrill/Library/Caches/pypoetry/virtualenvs/kaggle-prediction-interval-birthweight-irFUtOWA-py3.11/lib/python3.11/site-packages/mapie/regression/quantile_regression.py:201: UserWarning: WARNING: The alpha that is set needs to be the same as the alpha of your prefitted model in the following order [alpha/2, 1 - alpha/2, 0.5]\n",
      "  warnings.warn(\n",
      "/Users/hunter.merrill/Library/Caches/pypoetry/virtualenvs/kaggle-prediction-interval-birthweight-irFUtOWA-py3.11/lib/python3.11/site-packages/mapie/utils.py:537: UserWarning: WARNING: The predictions have issues.\n",
      "The upper predictions are lower thanthe lower predictions at some points.\n",
      "  warnings.warn(\n"
     ]
    },
    {
     "name": "stdout",
     "output_type": "stream",
     "text": [
      "Iteration No: 19 ended. Evaluation done at random point.\n",
      "Time taken: 3.8258\n",
      "Function value obtained: 1655.5603\n",
      "Current minimum: 1641.5339\n",
      "Iteration No: 20 started. Evaluating function at random point.\n"
     ]
    },
    {
     "name": "stderr",
     "output_type": "stream",
     "text": [
      "/Users/hunter.merrill/Library/Caches/pypoetry/virtualenvs/kaggle-prediction-interval-birthweight-irFUtOWA-py3.11/lib/python3.11/site-packages/mapie/regression/quantile_regression.py:201: UserWarning: WARNING: The alpha that is set needs to be the same as the alpha of your prefitted model in the following order [alpha/2, 1 - alpha/2, 0.5]\n",
      "  warnings.warn(\n",
      "/Users/hunter.merrill/Library/Caches/pypoetry/virtualenvs/kaggle-prediction-interval-birthweight-irFUtOWA-py3.11/lib/python3.11/site-packages/mapie/utils.py:519: UserWarning: WARNING: The predictions of the quantile regression have issues.\n",
      "The upper quantile predictions are lower\n",
      "than the lower quantile predictions\n",
      "at some points.\n",
      "  warnings.warn(\n",
      "/Users/hunter.merrill/Library/Caches/pypoetry/virtualenvs/kaggle-prediction-interval-birthweight-irFUtOWA-py3.11/lib/python3.11/site-packages/mapie/utils.py:537: UserWarning: WARNING: The predictions have issues.\n",
      "The upper predictions are lower thanthe lower predictions at some points.\n",
      "  warnings.warn(\n"
     ]
    },
    {
     "name": "stdout",
     "output_type": "stream",
     "text": [
      "Iteration No: 20 ended. Evaluation done at random point.\n",
      "Time taken: 3.3129\n",
      "Function value obtained: 1700.8272\n",
      "Current minimum: 1641.5339\n",
      "Iteration No: 21 started. Evaluating function at random point.\n"
     ]
    },
    {
     "name": "stderr",
     "output_type": "stream",
     "text": [
      "/Users/hunter.merrill/Library/Caches/pypoetry/virtualenvs/kaggle-prediction-interval-birthweight-irFUtOWA-py3.11/lib/python3.11/site-packages/mapie/regression/quantile_regression.py:201: UserWarning: WARNING: The alpha that is set needs to be the same as the alpha of your prefitted model in the following order [alpha/2, 1 - alpha/2, 0.5]\n",
      "  warnings.warn(\n",
      "/Users/hunter.merrill/Library/Caches/pypoetry/virtualenvs/kaggle-prediction-interval-birthweight-irFUtOWA-py3.11/lib/python3.11/site-packages/mapie/utils.py:519: UserWarning: WARNING: The predictions of the quantile regression have issues.\n",
      "The upper quantile predictions are lower\n",
      "than the lower quantile predictions\n",
      "at some points.\n",
      "  warnings.warn(\n",
      "/Users/hunter.merrill/Library/Caches/pypoetry/virtualenvs/kaggle-prediction-interval-birthweight-irFUtOWA-py3.11/lib/python3.11/site-packages/mapie/utils.py:537: UserWarning: WARNING: The predictions have issues.\n",
      "The upper predictions are lower thanthe lower predictions at some points.\n",
      "  warnings.warn(\n"
     ]
    },
    {
     "name": "stdout",
     "output_type": "stream",
     "text": [
      "Iteration No: 21 ended. Evaluation done at random point.\n",
      "Time taken: 5.5860\n",
      "Function value obtained: 1688.4401\n",
      "Current minimum: 1641.5339\n",
      "Iteration No: 22 started. Evaluating function at random point.\n"
     ]
    },
    {
     "name": "stderr",
     "output_type": "stream",
     "text": [
      "/Users/hunter.merrill/Library/Caches/pypoetry/virtualenvs/kaggle-prediction-interval-birthweight-irFUtOWA-py3.11/lib/python3.11/site-packages/mapie/regression/quantile_regression.py:201: UserWarning: WARNING: The alpha that is set needs to be the same as the alpha of your prefitted model in the following order [alpha/2, 1 - alpha/2, 0.5]\n",
      "  warnings.warn(\n",
      "/Users/hunter.merrill/Library/Caches/pypoetry/virtualenvs/kaggle-prediction-interval-birthweight-irFUtOWA-py3.11/lib/python3.11/site-packages/mapie/utils.py:519: UserWarning: WARNING: The predictions of the quantile regression have issues.\n",
      "The upper quantile predictions are lower\n",
      "than the lower quantile predictions\n",
      "at some points.\n",
      "  warnings.warn(\n",
      "/Users/hunter.merrill/Library/Caches/pypoetry/virtualenvs/kaggle-prediction-interval-birthweight-irFUtOWA-py3.11/lib/python3.11/site-packages/mapie/utils.py:537: UserWarning: WARNING: The predictions have issues.\n",
      "The upper predictions are lower thanthe lower predictions at some points.\n",
      "  warnings.warn(\n"
     ]
    },
    {
     "name": "stdout",
     "output_type": "stream",
     "text": [
      "Iteration No: 22 ended. Evaluation done at random point.\n",
      "Time taken: 3.6506\n",
      "Function value obtained: 1652.5405\n",
      "Current minimum: 1641.5339\n",
      "Iteration No: 23 started. Evaluating function at random point.\n"
     ]
    },
    {
     "name": "stderr",
     "output_type": "stream",
     "text": [
      "/Users/hunter.merrill/Library/Caches/pypoetry/virtualenvs/kaggle-prediction-interval-birthweight-irFUtOWA-py3.11/lib/python3.11/site-packages/mapie/regression/quantile_regression.py:201: UserWarning: WARNING: The alpha that is set needs to be the same as the alpha of your prefitted model in the following order [alpha/2, 1 - alpha/2, 0.5]\n",
      "  warnings.warn(\n",
      "/Users/hunter.merrill/Library/Caches/pypoetry/virtualenvs/kaggle-prediction-interval-birthweight-irFUtOWA-py3.11/lib/python3.11/site-packages/mapie/utils.py:519: UserWarning: WARNING: The predictions of the quantile regression have issues.\n",
      "The upper quantile predictions are lower\n",
      "than the lower quantile predictions\n",
      "at some points.\n",
      "  warnings.warn(\n",
      "/Users/hunter.merrill/Library/Caches/pypoetry/virtualenvs/kaggle-prediction-interval-birthweight-irFUtOWA-py3.11/lib/python3.11/site-packages/mapie/utils.py:537: UserWarning: WARNING: The predictions have issues.\n",
      "The upper predictions are lower thanthe lower predictions at some points.\n",
      "  warnings.warn(\n"
     ]
    },
    {
     "name": "stdout",
     "output_type": "stream",
     "text": [
      "Iteration No: 23 ended. Evaluation done at random point.\n",
      "Time taken: 10.8925\n",
      "Function value obtained: 1663.2220\n",
      "Current minimum: 1641.5339\n",
      "Iteration No: 24 started. Evaluating function at random point.\n"
     ]
    },
    {
     "name": "stderr",
     "output_type": "stream",
     "text": [
      "/Users/hunter.merrill/Library/Caches/pypoetry/virtualenvs/kaggle-prediction-interval-birthweight-irFUtOWA-py3.11/lib/python3.11/site-packages/mapie/regression/quantile_regression.py:201: UserWarning: WARNING: The alpha that is set needs to be the same as the alpha of your prefitted model in the following order [alpha/2, 1 - alpha/2, 0.5]\n",
      "  warnings.warn(\n",
      "/Users/hunter.merrill/Library/Caches/pypoetry/virtualenvs/kaggle-prediction-interval-birthweight-irFUtOWA-py3.11/lib/python3.11/site-packages/mapie/utils.py:519: UserWarning: WARNING: The predictions of the quantile regression have issues.\n",
      "The upper quantile predictions are lower\n",
      "than the lower quantile predictions\n",
      "at some points.\n",
      "  warnings.warn(\n",
      "/Users/hunter.merrill/Library/Caches/pypoetry/virtualenvs/kaggle-prediction-interval-birthweight-irFUtOWA-py3.11/lib/python3.11/site-packages/mapie/utils.py:537: UserWarning: WARNING: The predictions have issues.\n",
      "The upper predictions are lower thanthe lower predictions at some points.\n",
      "  warnings.warn(\n"
     ]
    },
    {
     "name": "stdout",
     "output_type": "stream",
     "text": [
      "Iteration No: 24 ended. Evaluation done at random point.\n",
      "Time taken: 6.2026\n",
      "Function value obtained: 1660.0548\n",
      "Current minimum: 1641.5339\n",
      "Iteration No: 25 started. Evaluating function at random point.\n"
     ]
    },
    {
     "name": "stderr",
     "output_type": "stream",
     "text": [
      "/Users/hunter.merrill/Library/Caches/pypoetry/virtualenvs/kaggle-prediction-interval-birthweight-irFUtOWA-py3.11/lib/python3.11/site-packages/mapie/regression/quantile_regression.py:201: UserWarning: WARNING: The alpha that is set needs to be the same as the alpha of your prefitted model in the following order [alpha/2, 1 - alpha/2, 0.5]\n",
      "  warnings.warn(\n",
      "/Users/hunter.merrill/Library/Caches/pypoetry/virtualenvs/kaggle-prediction-interval-birthweight-irFUtOWA-py3.11/lib/python3.11/site-packages/mapie/utils.py:537: UserWarning: WARNING: The predictions have issues.\n",
      "The upper predictions are lower thanthe lower predictions at some points.\n",
      "  warnings.warn(\n"
     ]
    },
    {
     "name": "stdout",
     "output_type": "stream",
     "text": [
      "Iteration No: 25 ended. Evaluation done at random point.\n",
      "Time taken: 9.1584\n",
      "Function value obtained: 1652.9216\n",
      "Current minimum: 1641.5339\n",
      "Iteration No: 26 started. Evaluating function at random point.\n"
     ]
    },
    {
     "name": "stderr",
     "output_type": "stream",
     "text": [
      "/Users/hunter.merrill/Library/Caches/pypoetry/virtualenvs/kaggle-prediction-interval-birthweight-irFUtOWA-py3.11/lib/python3.11/site-packages/mapie/regression/quantile_regression.py:201: UserWarning: WARNING: The alpha that is set needs to be the same as the alpha of your prefitted model in the following order [alpha/2, 1 - alpha/2, 0.5]\n",
      "  warnings.warn(\n",
      "/Users/hunter.merrill/Library/Caches/pypoetry/virtualenvs/kaggle-prediction-interval-birthweight-irFUtOWA-py3.11/lib/python3.11/site-packages/mapie/utils.py:519: UserWarning: WARNING: The predictions of the quantile regression have issues.\n",
      "The upper quantile predictions are lower\n",
      "than the lower quantile predictions\n",
      "at some points.\n",
      "  warnings.warn(\n",
      "/Users/hunter.merrill/Library/Caches/pypoetry/virtualenvs/kaggle-prediction-interval-birthweight-irFUtOWA-py3.11/lib/python3.11/site-packages/mapie/utils.py:537: UserWarning: WARNING: The predictions have issues.\n",
      "The upper predictions are lower thanthe lower predictions at some points.\n",
      "  warnings.warn(\n"
     ]
    },
    {
     "name": "stdout",
     "output_type": "stream",
     "text": [
      "Iteration No: 26 ended. Evaluation done at random point.\n",
      "Time taken: 7.1353\n",
      "Function value obtained: 1659.0164\n",
      "Current minimum: 1641.5339\n",
      "Iteration No: 27 started. Evaluating function at random point.\n"
     ]
    },
    {
     "name": "stderr",
     "output_type": "stream",
     "text": [
      "/Users/hunter.merrill/Library/Caches/pypoetry/virtualenvs/kaggle-prediction-interval-birthweight-irFUtOWA-py3.11/lib/python3.11/site-packages/mapie/regression/quantile_regression.py:201: UserWarning: WARNING: The alpha that is set needs to be the same as the alpha of your prefitted model in the following order [alpha/2, 1 - alpha/2, 0.5]\n",
      "  warnings.warn(\n",
      "/Users/hunter.merrill/Library/Caches/pypoetry/virtualenvs/kaggle-prediction-interval-birthweight-irFUtOWA-py3.11/lib/python3.11/site-packages/mapie/utils.py:537: UserWarning: WARNING: The predictions have issues.\n",
      "The upper predictions are lower thanthe lower predictions at some points.\n",
      "  warnings.warn(\n"
     ]
    },
    {
     "name": "stdout",
     "output_type": "stream",
     "text": [
      "Iteration No: 27 ended. Evaluation done at random point.\n",
      "Time taken: 13.2782\n",
      "Function value obtained: 1674.1574\n",
      "Current minimum: 1641.5339\n",
      "Iteration No: 28 started. Evaluating function at random point.\n"
     ]
    },
    {
     "name": "stderr",
     "output_type": "stream",
     "text": [
      "/Users/hunter.merrill/Library/Caches/pypoetry/virtualenvs/kaggle-prediction-interval-birthweight-irFUtOWA-py3.11/lib/python3.11/site-packages/mapie/regression/quantile_regression.py:201: UserWarning: WARNING: The alpha that is set needs to be the same as the alpha of your prefitted model in the following order [alpha/2, 1 - alpha/2, 0.5]\n",
      "  warnings.warn(\n",
      "/Users/hunter.merrill/Library/Caches/pypoetry/virtualenvs/kaggle-prediction-interval-birthweight-irFUtOWA-py3.11/lib/python3.11/site-packages/mapie/utils.py:519: UserWarning: WARNING: The predictions of the quantile regression have issues.\n",
      "The upper quantile predictions are lower\n",
      "than the lower quantile predictions\n",
      "at some points.\n",
      "  warnings.warn(\n",
      "/Users/hunter.merrill/Library/Caches/pypoetry/virtualenvs/kaggle-prediction-interval-birthweight-irFUtOWA-py3.11/lib/python3.11/site-packages/mapie/utils.py:537: UserWarning: WARNING: The predictions have issues.\n",
      "The upper predictions are lower thanthe lower predictions at some points.\n",
      "  warnings.warn(\n"
     ]
    },
    {
     "name": "stdout",
     "output_type": "stream",
     "text": [
      "Iteration No: 28 ended. Evaluation done at random point.\n",
      "Time taken: 8.6302\n",
      "Function value obtained: 1674.3901\n",
      "Current minimum: 1641.5339\n",
      "Iteration No: 29 started. Evaluating function at random point.\n"
     ]
    },
    {
     "name": "stderr",
     "output_type": "stream",
     "text": [
      "/Users/hunter.merrill/Library/Caches/pypoetry/virtualenvs/kaggle-prediction-interval-birthweight-irFUtOWA-py3.11/lib/python3.11/site-packages/mapie/regression/quantile_regression.py:201: UserWarning: WARNING: The alpha that is set needs to be the same as the alpha of your prefitted model in the following order [alpha/2, 1 - alpha/2, 0.5]\n",
      "  warnings.warn(\n",
      "/Users/hunter.merrill/Library/Caches/pypoetry/virtualenvs/kaggle-prediction-interval-birthweight-irFUtOWA-py3.11/lib/python3.11/site-packages/mapie/utils.py:537: UserWarning: WARNING: The predictions have issues.\n",
      "The upper predictions are lower thanthe lower predictions at some points.\n",
      "  warnings.warn(\n"
     ]
    },
    {
     "name": "stdout",
     "output_type": "stream",
     "text": [
      "Iteration No: 29 ended. Evaluation done at random point.\n",
      "Time taken: 4.9486\n",
      "Function value obtained: 1666.6821\n",
      "Current minimum: 1641.5339\n",
      "Iteration No: 30 started. Evaluating function at random point.\n"
     ]
    },
    {
     "name": "stderr",
     "output_type": "stream",
     "text": [
      "/Users/hunter.merrill/Library/Caches/pypoetry/virtualenvs/kaggle-prediction-interval-birthweight-irFUtOWA-py3.11/lib/python3.11/site-packages/mapie/regression/quantile_regression.py:201: UserWarning: WARNING: The alpha that is set needs to be the same as the alpha of your prefitted model in the following order [alpha/2, 1 - alpha/2, 0.5]\n",
      "  warnings.warn(\n",
      "/Users/hunter.merrill/Library/Caches/pypoetry/virtualenvs/kaggle-prediction-interval-birthweight-irFUtOWA-py3.11/lib/python3.11/site-packages/mapie/utils.py:519: UserWarning: WARNING: The predictions of the quantile regression have issues.\n",
      "The upper quantile predictions are lower\n",
      "than the lower quantile predictions\n",
      "at some points.\n",
      "  warnings.warn(\n",
      "/Users/hunter.merrill/Library/Caches/pypoetry/virtualenvs/kaggle-prediction-interval-birthweight-irFUtOWA-py3.11/lib/python3.11/site-packages/mapie/utils.py:537: UserWarning: WARNING: The predictions have issues.\n",
      "The upper predictions are lower thanthe lower predictions at some points.\n",
      "  warnings.warn(\n"
     ]
    },
    {
     "name": "stdout",
     "output_type": "stream",
     "text": [
      "Iteration No: 30 ended. Evaluation done at random point.\n",
      "Time taken: 6.4312\n",
      "Function value obtained: 1667.7270\n",
      "Current minimum: 1641.5339\n",
      "Iteration No: 31 started. Evaluating function at random point.\n"
     ]
    },
    {
     "name": "stderr",
     "output_type": "stream",
     "text": [
      "/Users/hunter.merrill/Library/Caches/pypoetry/virtualenvs/kaggle-prediction-interval-birthweight-irFUtOWA-py3.11/lib/python3.11/site-packages/mapie/regression/quantile_regression.py:201: UserWarning: WARNING: The alpha that is set needs to be the same as the alpha of your prefitted model in the following order [alpha/2, 1 - alpha/2, 0.5]\n",
      "  warnings.warn(\n",
      "/Users/hunter.merrill/Library/Caches/pypoetry/virtualenvs/kaggle-prediction-interval-birthweight-irFUtOWA-py3.11/lib/python3.11/site-packages/mapie/utils.py:519: UserWarning: WARNING: The predictions of the quantile regression have issues.\n",
      "The upper quantile predictions are lower\n",
      "than the lower quantile predictions\n",
      "at some points.\n",
      "  warnings.warn(\n",
      "/Users/hunter.merrill/Library/Caches/pypoetry/virtualenvs/kaggle-prediction-interval-birthweight-irFUtOWA-py3.11/lib/python3.11/site-packages/mapie/utils.py:537: UserWarning: WARNING: The predictions have issues.\n",
      "The upper predictions are lower thanthe lower predictions at some points.\n",
      "  warnings.warn(\n"
     ]
    },
    {
     "name": "stdout",
     "output_type": "stream",
     "text": [
      "Iteration No: 31 ended. Evaluation done at random point.\n",
      "Time taken: 3.8825\n",
      "Function value obtained: 1666.3346\n",
      "Current minimum: 1641.5339\n",
      "Iteration No: 32 started. Searching for the next optimal point.\n"
     ]
    },
    {
     "name": "stderr",
     "output_type": "stream",
     "text": [
      "/Users/hunter.merrill/Library/Caches/pypoetry/virtualenvs/kaggle-prediction-interval-birthweight-irFUtOWA-py3.11/lib/python3.11/site-packages/mapie/regression/quantile_regression.py:201: UserWarning: WARNING: The alpha that is set needs to be the same as the alpha of your prefitted model in the following order [alpha/2, 1 - alpha/2, 0.5]\n",
      "  warnings.warn(\n",
      "/Users/hunter.merrill/Library/Caches/pypoetry/virtualenvs/kaggle-prediction-interval-birthweight-irFUtOWA-py3.11/lib/python3.11/site-packages/mapie/utils.py:519: UserWarning: WARNING: The predictions of the quantile regression have issues.\n",
      "The upper quantile predictions are lower\n",
      "than the lower quantile predictions\n",
      "at some points.\n",
      "  warnings.warn(\n",
      "/Users/hunter.merrill/Library/Caches/pypoetry/virtualenvs/kaggle-prediction-interval-birthweight-irFUtOWA-py3.11/lib/python3.11/site-packages/mapie/utils.py:537: UserWarning: WARNING: The predictions have issues.\n",
      "The upper predictions are lower thanthe lower predictions at some points.\n",
      "  warnings.warn(\n"
     ]
    },
    {
     "name": "stdout",
     "output_type": "stream",
     "text": [
      "Iteration No: 32 ended. Search finished for the next optimal point.\n",
      "Time taken: 3.7807\n",
      "Function value obtained: 1663.7438\n",
      "Current minimum: 1641.5339\n",
      "Iteration No: 33 started. Searching for the next optimal point.\n"
     ]
    },
    {
     "name": "stderr",
     "output_type": "stream",
     "text": [
      "/Users/hunter.merrill/Library/Caches/pypoetry/virtualenvs/kaggle-prediction-interval-birthweight-irFUtOWA-py3.11/lib/python3.11/site-packages/mapie/regression/quantile_regression.py:201: UserWarning: WARNING: The alpha that is set needs to be the same as the alpha of your prefitted model in the following order [alpha/2, 1 - alpha/2, 0.5]\n",
      "  warnings.warn(\n",
      "/Users/hunter.merrill/Library/Caches/pypoetry/virtualenvs/kaggle-prediction-interval-birthweight-irFUtOWA-py3.11/lib/python3.11/site-packages/mapie/utils.py:519: UserWarning: WARNING: The predictions of the quantile regression have issues.\n",
      "The upper quantile predictions are lower\n",
      "than the lower quantile predictions\n",
      "at some points.\n",
      "  warnings.warn(\n",
      "/Users/hunter.merrill/Library/Caches/pypoetry/virtualenvs/kaggle-prediction-interval-birthweight-irFUtOWA-py3.11/lib/python3.11/site-packages/mapie/utils.py:537: UserWarning: WARNING: The predictions have issues.\n",
      "The upper predictions are lower thanthe lower predictions at some points.\n",
      "  warnings.warn(\n"
     ]
    },
    {
     "name": "stdout",
     "output_type": "stream",
     "text": [
      "Iteration No: 33 ended. Search finished for the next optimal point.\n",
      "Time taken: 7.2847\n",
      "Function value obtained: 1716.4332\n",
      "Current minimum: 1641.5339\n",
      "Iteration No: 34 started. Searching for the next optimal point.\n"
     ]
    },
    {
     "name": "stderr",
     "output_type": "stream",
     "text": [
      "/Users/hunter.merrill/Library/Caches/pypoetry/virtualenvs/kaggle-prediction-interval-birthweight-irFUtOWA-py3.11/lib/python3.11/site-packages/mapie/regression/quantile_regression.py:201: UserWarning: WARNING: The alpha that is set needs to be the same as the alpha of your prefitted model in the following order [alpha/2, 1 - alpha/2, 0.5]\n",
      "  warnings.warn(\n",
      "/Users/hunter.merrill/Library/Caches/pypoetry/virtualenvs/kaggle-prediction-interval-birthweight-irFUtOWA-py3.11/lib/python3.11/site-packages/mapie/utils.py:519: UserWarning: WARNING: The predictions of the quantile regression have issues.\n",
      "The upper quantile predictions are lower\n",
      "than the lower quantile predictions\n",
      "at some points.\n",
      "  warnings.warn(\n",
      "/Users/hunter.merrill/Library/Caches/pypoetry/virtualenvs/kaggle-prediction-interval-birthweight-irFUtOWA-py3.11/lib/python3.11/site-packages/mapie/utils.py:537: UserWarning: WARNING: The predictions have issues.\n",
      "The upper predictions are lower thanthe lower predictions at some points.\n",
      "  warnings.warn(\n"
     ]
    },
    {
     "name": "stdout",
     "output_type": "stream",
     "text": [
      "Iteration No: 34 ended. Search finished for the next optimal point.\n",
      "Time taken: 3.2035\n",
      "Function value obtained: 1669.1823\n",
      "Current minimum: 1641.5339\n",
      "Iteration No: 35 started. Searching for the next optimal point.\n"
     ]
    },
    {
     "name": "stderr",
     "output_type": "stream",
     "text": [
      "/Users/hunter.merrill/Library/Caches/pypoetry/virtualenvs/kaggle-prediction-interval-birthweight-irFUtOWA-py3.11/lib/python3.11/site-packages/mapie/regression/quantile_regression.py:201: UserWarning: WARNING: The alpha that is set needs to be the same as the alpha of your prefitted model in the following order [alpha/2, 1 - alpha/2, 0.5]\n",
      "  warnings.warn(\n",
      "/Users/hunter.merrill/Library/Caches/pypoetry/virtualenvs/kaggle-prediction-interval-birthweight-irFUtOWA-py3.11/lib/python3.11/site-packages/mapie/utils.py:537: UserWarning: WARNING: The predictions have issues.\n",
      "The upper predictions are lower thanthe lower predictions at some points.\n",
      "  warnings.warn(\n"
     ]
    },
    {
     "name": "stdout",
     "output_type": "stream",
     "text": [
      "Iteration No: 35 ended. Search finished for the next optimal point.\n",
      "Time taken: 7.5212\n",
      "Function value obtained: 1724.5166\n",
      "Current minimum: 1641.5339\n",
      "Iteration No: 36 started. Searching for the next optimal point.\n"
     ]
    },
    {
     "name": "stderr",
     "output_type": "stream",
     "text": [
      "/Users/hunter.merrill/Library/Caches/pypoetry/virtualenvs/kaggle-prediction-interval-birthweight-irFUtOWA-py3.11/lib/python3.11/site-packages/mapie/regression/quantile_regression.py:201: UserWarning: WARNING: The alpha that is set needs to be the same as the alpha of your prefitted model in the following order [alpha/2, 1 - alpha/2, 0.5]\n",
      "  warnings.warn(\n",
      "/Users/hunter.merrill/Library/Caches/pypoetry/virtualenvs/kaggle-prediction-interval-birthweight-irFUtOWA-py3.11/lib/python3.11/site-packages/mapie/utils.py:537: UserWarning: WARNING: The predictions have issues.\n",
      "The upper predictions are lower thanthe lower predictions at some points.\n",
      "  warnings.warn(\n"
     ]
    },
    {
     "name": "stdout",
     "output_type": "stream",
     "text": [
      "Iteration No: 36 ended. Search finished for the next optimal point.\n",
      "Time taken: 50.5383\n",
      "Function value obtained: 1742.6914\n",
      "Current minimum: 1641.5339\n",
      "Iteration No: 37 started. Searching for the next optimal point.\n"
     ]
    },
    {
     "name": "stderr",
     "output_type": "stream",
     "text": [
      "/Users/hunter.merrill/Library/Caches/pypoetry/virtualenvs/kaggle-prediction-interval-birthweight-irFUtOWA-py3.11/lib/python3.11/site-packages/mapie/regression/quantile_regression.py:201: UserWarning: WARNING: The alpha that is set needs to be the same as the alpha of your prefitted model in the following order [alpha/2, 1 - alpha/2, 0.5]\n",
      "  warnings.warn(\n",
      "/Users/hunter.merrill/Library/Caches/pypoetry/virtualenvs/kaggle-prediction-interval-birthweight-irFUtOWA-py3.11/lib/python3.11/site-packages/mapie/utils.py:537: UserWarning: WARNING: The predictions have issues.\n",
      "The upper predictions are lower thanthe lower predictions at some points.\n",
      "  warnings.warn(\n"
     ]
    },
    {
     "name": "stdout",
     "output_type": "stream",
     "text": [
      "Iteration No: 37 ended. Search finished for the next optimal point.\n",
      "Time taken: 6.9068\n",
      "Function value obtained: 1767.3164\n",
      "Current minimum: 1641.5339\n",
      "Iteration No: 38 started. Searching for the next optimal point.\n"
     ]
    },
    {
     "name": "stderr",
     "output_type": "stream",
     "text": [
      "/Users/hunter.merrill/Library/Caches/pypoetry/virtualenvs/kaggle-prediction-interval-birthweight-irFUtOWA-py3.11/lib/python3.11/site-packages/mapie/regression/quantile_regression.py:201: UserWarning: WARNING: The alpha that is set needs to be the same as the alpha of your prefitted model in the following order [alpha/2, 1 - alpha/2, 0.5]\n",
      "  warnings.warn(\n",
      "/Users/hunter.merrill/Library/Caches/pypoetry/virtualenvs/kaggle-prediction-interval-birthweight-irFUtOWA-py3.11/lib/python3.11/site-packages/mapie/utils.py:519: UserWarning: WARNING: The predictions of the quantile regression have issues.\n",
      "The upper quantile predictions are lower\n",
      "than the lower quantile predictions\n",
      "at some points.\n",
      "  warnings.warn(\n",
      "/Users/hunter.merrill/Library/Caches/pypoetry/virtualenvs/kaggle-prediction-interval-birthweight-irFUtOWA-py3.11/lib/python3.11/site-packages/mapie/utils.py:537: UserWarning: WARNING: The predictions have issues.\n",
      "The upper predictions are lower thanthe lower predictions at some points.\n",
      "  warnings.warn(\n"
     ]
    },
    {
     "name": "stdout",
     "output_type": "stream",
     "text": [
      "Iteration No: 38 ended. Search finished for the next optimal point.\n",
      "Time taken: 3.2646\n",
      "Function value obtained: 1660.6047\n",
      "Current minimum: 1641.5339\n",
      "Iteration No: 39 started. Searching for the next optimal point.\n"
     ]
    },
    {
     "name": "stderr",
     "output_type": "stream",
     "text": [
      "/Users/hunter.merrill/Library/Caches/pypoetry/virtualenvs/kaggle-prediction-interval-birthweight-irFUtOWA-py3.11/lib/python3.11/site-packages/mapie/regression/quantile_regression.py:201: UserWarning: WARNING: The alpha that is set needs to be the same as the alpha of your prefitted model in the following order [alpha/2, 1 - alpha/2, 0.5]\n",
      "  warnings.warn(\n",
      "/Users/hunter.merrill/Library/Caches/pypoetry/virtualenvs/kaggle-prediction-interval-birthweight-irFUtOWA-py3.11/lib/python3.11/site-packages/mapie/utils.py:537: UserWarning: WARNING: The predictions have issues.\n",
      "The upper predictions are lower thanthe lower predictions at some points.\n",
      "  warnings.warn(\n"
     ]
    },
    {
     "name": "stdout",
     "output_type": "stream",
     "text": [
      "Iteration No: 39 ended. Search finished for the next optimal point.\n",
      "Time taken: 10.9786\n",
      "Function value obtained: 1674.9359\n",
      "Current minimum: 1641.5339\n",
      "Iteration No: 40 started. Searching for the next optimal point.\n"
     ]
    },
    {
     "name": "stderr",
     "output_type": "stream",
     "text": [
      "/Users/hunter.merrill/Library/Caches/pypoetry/virtualenvs/kaggle-prediction-interval-birthweight-irFUtOWA-py3.11/lib/python3.11/site-packages/mapie/regression/quantile_regression.py:201: UserWarning: WARNING: The alpha that is set needs to be the same as the alpha of your prefitted model in the following order [alpha/2, 1 - alpha/2, 0.5]\n",
      "  warnings.warn(\n",
      "/Users/hunter.merrill/Library/Caches/pypoetry/virtualenvs/kaggle-prediction-interval-birthweight-irFUtOWA-py3.11/lib/python3.11/site-packages/mapie/utils.py:537: UserWarning: WARNING: The predictions have issues.\n",
      "The upper predictions are lower thanthe lower predictions at some points.\n",
      "  warnings.warn(\n"
     ]
    },
    {
     "name": "stdout",
     "output_type": "stream",
     "text": [
      "Iteration No: 40 ended. Search finished for the next optimal point.\n",
      "Time taken: 6.9092\n",
      "Function value obtained: 1677.1098\n",
      "Current minimum: 1641.5339\n",
      "Iteration No: 41 started. Searching for the next optimal point.\n"
     ]
    },
    {
     "name": "stderr",
     "output_type": "stream",
     "text": [
      "/Users/hunter.merrill/Library/Caches/pypoetry/virtualenvs/kaggle-prediction-interval-birthweight-irFUtOWA-py3.11/lib/python3.11/site-packages/mapie/regression/quantile_regression.py:201: UserWarning: WARNING: The alpha that is set needs to be the same as the alpha of your prefitted model in the following order [alpha/2, 1 - alpha/2, 0.5]\n",
      "  warnings.warn(\n",
      "/Users/hunter.merrill/Library/Caches/pypoetry/virtualenvs/kaggle-prediction-interval-birthweight-irFUtOWA-py3.11/lib/python3.11/site-packages/mapie/utils.py:537: UserWarning: WARNING: The predictions have issues.\n",
      "The upper predictions are lower thanthe lower predictions at some points.\n",
      "  warnings.warn(\n"
     ]
    },
    {
     "name": "stdout",
     "output_type": "stream",
     "text": [
      "Iteration No: 41 ended. Search finished for the next optimal point.\n",
      "Time taken: 21.3496\n",
      "Function value obtained: 1734.0224\n",
      "Current minimum: 1641.5339\n",
      "Iteration No: 42 started. Searching for the next optimal point.\n"
     ]
    },
    {
     "name": "stderr",
     "output_type": "stream",
     "text": [
      "/Users/hunter.merrill/Library/Caches/pypoetry/virtualenvs/kaggle-prediction-interval-birthweight-irFUtOWA-py3.11/lib/python3.11/site-packages/mapie/regression/quantile_regression.py:201: UserWarning: WARNING: The alpha that is set needs to be the same as the alpha of your prefitted model in the following order [alpha/2, 1 - alpha/2, 0.5]\n",
      "  warnings.warn(\n",
      "/Users/hunter.merrill/Library/Caches/pypoetry/virtualenvs/kaggle-prediction-interval-birthweight-irFUtOWA-py3.11/lib/python3.11/site-packages/mapie/utils.py:519: UserWarning: WARNING: The predictions of the quantile regression have issues.\n",
      "The upper quantile predictions are lower\n",
      "than the lower quantile predictions\n",
      "at some points.\n",
      "  warnings.warn(\n",
      "/Users/hunter.merrill/Library/Caches/pypoetry/virtualenvs/kaggle-prediction-interval-birthweight-irFUtOWA-py3.11/lib/python3.11/site-packages/mapie/utils.py:537: UserWarning: WARNING: The predictions have issues.\n",
      "The upper predictions are lower thanthe lower predictions at some points.\n",
      "  warnings.warn(\n"
     ]
    },
    {
     "name": "stdout",
     "output_type": "stream",
     "text": [
      "Iteration No: 42 ended. Search finished for the next optimal point.\n",
      "Time taken: 8.7942\n",
      "Function value obtained: 1675.2627\n",
      "Current minimum: 1641.5339\n",
      "Iteration No: 43 started. Searching for the next optimal point.\n"
     ]
    },
    {
     "name": "stderr",
     "output_type": "stream",
     "text": [
      "/Users/hunter.merrill/Library/Caches/pypoetry/virtualenvs/kaggle-prediction-interval-birthweight-irFUtOWA-py3.11/lib/python3.11/site-packages/mapie/regression/quantile_regression.py:201: UserWarning: WARNING: The alpha that is set needs to be the same as the alpha of your prefitted model in the following order [alpha/2, 1 - alpha/2, 0.5]\n",
      "  warnings.warn(\n",
      "/Users/hunter.merrill/Library/Caches/pypoetry/virtualenvs/kaggle-prediction-interval-birthweight-irFUtOWA-py3.11/lib/python3.11/site-packages/mapie/utils.py:537: UserWarning: WARNING: The predictions have issues.\n",
      "The upper predictions are lower thanthe lower predictions at some points.\n",
      "  warnings.warn(\n"
     ]
    },
    {
     "name": "stdout",
     "output_type": "stream",
     "text": [
      "Iteration No: 43 ended. Search finished for the next optimal point.\n",
      "Time taken: 17.5251\n",
      "Function value obtained: 1668.2814\n",
      "Current minimum: 1641.5339\n",
      "Iteration No: 44 started. Searching for the next optimal point.\n"
     ]
    },
    {
     "name": "stderr",
     "output_type": "stream",
     "text": [
      "/Users/hunter.merrill/Library/Caches/pypoetry/virtualenvs/kaggle-prediction-interval-birthweight-irFUtOWA-py3.11/lib/python3.11/site-packages/mapie/regression/quantile_regression.py:201: UserWarning: WARNING: The alpha that is set needs to be the same as the alpha of your prefitted model in the following order [alpha/2, 1 - alpha/2, 0.5]\n",
      "  warnings.warn(\n",
      "/Users/hunter.merrill/Library/Caches/pypoetry/virtualenvs/kaggle-prediction-interval-birthweight-irFUtOWA-py3.11/lib/python3.11/site-packages/mapie/utils.py:519: UserWarning: WARNING: The predictions of the quantile regression have issues.\n",
      "The upper quantile predictions are lower\n",
      "than the lower quantile predictions\n",
      "at some points.\n",
      "  warnings.warn(\n",
      "/Users/hunter.merrill/Library/Caches/pypoetry/virtualenvs/kaggle-prediction-interval-birthweight-irFUtOWA-py3.11/lib/python3.11/site-packages/mapie/utils.py:537: UserWarning: WARNING: The predictions have issues.\n",
      "The upper predictions are lower thanthe lower predictions at some points.\n",
      "  warnings.warn(\n"
     ]
    },
    {
     "name": "stdout",
     "output_type": "stream",
     "text": [
      "Iteration No: 44 ended. Search finished for the next optimal point.\n",
      "Time taken: 4.4477\n",
      "Function value obtained: 1657.9861\n",
      "Current minimum: 1641.5339\n",
      "Iteration No: 45 started. Searching for the next optimal point.\n"
     ]
    },
    {
     "name": "stderr",
     "output_type": "stream",
     "text": [
      "/Users/hunter.merrill/Library/Caches/pypoetry/virtualenvs/kaggle-prediction-interval-birthweight-irFUtOWA-py3.11/lib/python3.11/site-packages/mapie/regression/quantile_regression.py:201: UserWarning: WARNING: The alpha that is set needs to be the same as the alpha of your prefitted model in the following order [alpha/2, 1 - alpha/2, 0.5]\n",
      "  warnings.warn(\n",
      "/Users/hunter.merrill/Library/Caches/pypoetry/virtualenvs/kaggle-prediction-interval-birthweight-irFUtOWA-py3.11/lib/python3.11/site-packages/mapie/utils.py:519: UserWarning: WARNING: The predictions of the quantile regression have issues.\n",
      "The upper quantile predictions are lower\n",
      "than the lower quantile predictions\n",
      "at some points.\n",
      "  warnings.warn(\n",
      "/Users/hunter.merrill/Library/Caches/pypoetry/virtualenvs/kaggle-prediction-interval-birthweight-irFUtOWA-py3.11/lib/python3.11/site-packages/mapie/utils.py:537: UserWarning: WARNING: The predictions have issues.\n",
      "The upper predictions are lower thanthe lower predictions at some points.\n",
      "  warnings.warn(\n"
     ]
    },
    {
     "name": "stdout",
     "output_type": "stream",
     "text": [
      "Iteration No: 45 ended. Search finished for the next optimal point.\n",
      "Time taken: 4.5784\n",
      "Function value obtained: 1689.5071\n",
      "Current minimum: 1641.5339\n",
      "Iteration No: 46 started. Searching for the next optimal point.\n"
     ]
    },
    {
     "name": "stderr",
     "output_type": "stream",
     "text": [
      "/Users/hunter.merrill/Library/Caches/pypoetry/virtualenvs/kaggle-prediction-interval-birthweight-irFUtOWA-py3.11/lib/python3.11/site-packages/mapie/regression/quantile_regression.py:201: UserWarning: WARNING: The alpha that is set needs to be the same as the alpha of your prefitted model in the following order [alpha/2, 1 - alpha/2, 0.5]\n",
      "  warnings.warn(\n",
      "/Users/hunter.merrill/Library/Caches/pypoetry/virtualenvs/kaggle-prediction-interval-birthweight-irFUtOWA-py3.11/lib/python3.11/site-packages/mapie/utils.py:519: UserWarning: WARNING: The predictions of the quantile regression have issues.\n",
      "The upper quantile predictions are lower\n",
      "than the lower quantile predictions\n",
      "at some points.\n",
      "  warnings.warn(\n",
      "/Users/hunter.merrill/Library/Caches/pypoetry/virtualenvs/kaggle-prediction-interval-birthweight-irFUtOWA-py3.11/lib/python3.11/site-packages/mapie/utils.py:537: UserWarning: WARNING: The predictions have issues.\n",
      "The upper predictions are lower thanthe lower predictions at some points.\n",
      "  warnings.warn(\n"
     ]
    },
    {
     "name": "stdout",
     "output_type": "stream",
     "text": [
      "Iteration No: 46 ended. Search finished for the next optimal point.\n",
      "Time taken: 3.3176\n",
      "Function value obtained: 1745.2627\n",
      "Current minimum: 1641.5339\n",
      "Iteration No: 47 started. Searching for the next optimal point.\n"
     ]
    },
    {
     "name": "stderr",
     "output_type": "stream",
     "text": [
      "/Users/hunter.merrill/Library/Caches/pypoetry/virtualenvs/kaggle-prediction-interval-birthweight-irFUtOWA-py3.11/lib/python3.11/site-packages/mapie/regression/quantile_regression.py:201: UserWarning: WARNING: The alpha that is set needs to be the same as the alpha of your prefitted model in the following order [alpha/2, 1 - alpha/2, 0.5]\n",
      "  warnings.warn(\n",
      "/Users/hunter.merrill/Library/Caches/pypoetry/virtualenvs/kaggle-prediction-interval-birthweight-irFUtOWA-py3.11/lib/python3.11/site-packages/mapie/utils.py:537: UserWarning: WARNING: The predictions have issues.\n",
      "The upper predictions are lower thanthe lower predictions at some points.\n",
      "  warnings.warn(\n"
     ]
    },
    {
     "name": "stdout",
     "output_type": "stream",
     "text": [
      "Iteration No: 47 ended. Search finished for the next optimal point.\n",
      "Time taken: 8.5290\n",
      "Function value obtained: 1679.9645\n",
      "Current minimum: 1641.5339\n",
      "Iteration No: 48 started. Searching for the next optimal point.\n"
     ]
    },
    {
     "name": "stderr",
     "output_type": "stream",
     "text": [
      "/Users/hunter.merrill/Library/Caches/pypoetry/virtualenvs/kaggle-prediction-interval-birthweight-irFUtOWA-py3.11/lib/python3.11/site-packages/mapie/regression/quantile_regression.py:201: UserWarning: WARNING: The alpha that is set needs to be the same as the alpha of your prefitted model in the following order [alpha/2, 1 - alpha/2, 0.5]\n",
      "  warnings.warn(\n",
      "/Users/hunter.merrill/Library/Caches/pypoetry/virtualenvs/kaggle-prediction-interval-birthweight-irFUtOWA-py3.11/lib/python3.11/site-packages/mapie/utils.py:519: UserWarning: WARNING: The predictions of the quantile regression have issues.\n",
      "The upper quantile predictions are lower\n",
      "than the lower quantile predictions\n",
      "at some points.\n",
      "  warnings.warn(\n",
      "/Users/hunter.merrill/Library/Caches/pypoetry/virtualenvs/kaggle-prediction-interval-birthweight-irFUtOWA-py3.11/lib/python3.11/site-packages/mapie/utils.py:537: UserWarning: WARNING: The predictions have issues.\n",
      "The upper predictions are lower thanthe lower predictions at some points.\n",
      "  warnings.warn(\n"
     ]
    },
    {
     "name": "stdout",
     "output_type": "stream",
     "text": [
      "Iteration No: 48 ended. Search finished for the next optimal point.\n",
      "Time taken: 7.5477\n",
      "Function value obtained: 1653.7900\n",
      "Current minimum: 1641.5339\n",
      "Iteration No: 49 started. Searching for the next optimal point.\n"
     ]
    },
    {
     "name": "stderr",
     "output_type": "stream",
     "text": [
      "/Users/hunter.merrill/Library/Caches/pypoetry/virtualenvs/kaggle-prediction-interval-birthweight-irFUtOWA-py3.11/lib/python3.11/site-packages/mapie/regression/quantile_regression.py:201: UserWarning: WARNING: The alpha that is set needs to be the same as the alpha of your prefitted model in the following order [alpha/2, 1 - alpha/2, 0.5]\n",
      "  warnings.warn(\n",
      "/Users/hunter.merrill/Library/Caches/pypoetry/virtualenvs/kaggle-prediction-interval-birthweight-irFUtOWA-py3.11/lib/python3.11/site-packages/mapie/utils.py:519: UserWarning: WARNING: The predictions of the quantile regression have issues.\n",
      "The upper quantile predictions are lower\n",
      "than the lower quantile predictions\n",
      "at some points.\n",
      "  warnings.warn(\n",
      "/Users/hunter.merrill/Library/Caches/pypoetry/virtualenvs/kaggle-prediction-interval-birthweight-irFUtOWA-py3.11/lib/python3.11/site-packages/mapie/utils.py:537: UserWarning: WARNING: The predictions have issues.\n",
      "The upper predictions are lower thanthe lower predictions at some points.\n",
      "  warnings.warn(\n"
     ]
    },
    {
     "name": "stdout",
     "output_type": "stream",
     "text": [
      "Iteration No: 49 ended. Search finished for the next optimal point.\n",
      "Time taken: 6.8553\n",
      "Function value obtained: 1677.4176\n",
      "Current minimum: 1641.5339\n",
      "Iteration No: 50 started. Searching for the next optimal point.\n"
     ]
    },
    {
     "name": "stderr",
     "output_type": "stream",
     "text": [
      "/Users/hunter.merrill/Library/Caches/pypoetry/virtualenvs/kaggle-prediction-interval-birthweight-irFUtOWA-py3.11/lib/python3.11/site-packages/mapie/regression/quantile_regression.py:201: UserWarning: WARNING: The alpha that is set needs to be the same as the alpha of your prefitted model in the following order [alpha/2, 1 - alpha/2, 0.5]\n",
      "  warnings.warn(\n",
      "/Users/hunter.merrill/Library/Caches/pypoetry/virtualenvs/kaggle-prediction-interval-birthweight-irFUtOWA-py3.11/lib/python3.11/site-packages/mapie/utils.py:537: UserWarning: WARNING: The predictions have issues.\n",
      "The upper predictions are lower thanthe lower predictions at some points.\n",
      "  warnings.warn(\n"
     ]
    },
    {
     "name": "stdout",
     "output_type": "stream",
     "text": [
      "Iteration No: 50 ended. Search finished for the next optimal point.\n",
      "Time taken: 7.0435\n",
      "Function value obtained: 1723.7733\n",
      "Current minimum: 1641.5339\n"
     ]
    },
    {
     "name": "stderr",
     "output_type": "stream",
     "text": [
      "/Users/hunter.merrill/Library/Caches/pypoetry/virtualenvs/kaggle-prediction-interval-birthweight-irFUtOWA-py3.11/lib/python3.11/site-packages/mapie/regression/quantile_regression.py:201: UserWarning: WARNING: The alpha that is set needs to be the same as the alpha of your prefitted model in the following order [alpha/2, 1 - alpha/2, 0.5]\n",
      "  warnings.warn(\n",
      "/Users/hunter.merrill/Library/Caches/pypoetry/virtualenvs/kaggle-prediction-interval-birthweight-irFUtOWA-py3.11/lib/python3.11/site-packages/mapie/utils.py:537: UserWarning: WARNING: The predictions have issues.\n",
      "The upper predictions are lower thanthe lower predictions at some points.\n",
      "  warnings.warn(\n"
     ]
    },
    {
     "name": "stdout",
     "output_type": "stream",
     "text": [
      "Iteration No: 51 ended. Search finished for the next optimal point.\n",
      "Time taken: 33.1330\n",
      "Function value obtained: 1686.7844\n",
      "Current minimum: 1641.5339\n"
     ]
    }
   ],
   "source": [
    "data_processor = DataProcessor(\"HistBoostRegressor\")\n",
    "X, y = data_processor(data)\n",
    "\n",
    "tuner = HistBoostTuner(verbose=True)\n",
    "tuner.tune(X, y)"
   ]
  },
  {
   "cell_type": "code",
   "execution_count": 6,
   "id": "51c9807f-eff6-4665-a203-8c0955a43168",
   "metadata": {},
   "outputs": [
    {
     "data": {
      "text/plain": [
       "array([1653.28715   , 1683.15850331, 1672.91563387, 1687.35993538,\n",
       "       1665.84357978, 1692.47181337, 1641.53385425, 1677.72027894,\n",
       "       1767.31711474, 1653.6255668 , 1678.08465425, 1768.72853743,\n",
       "       1670.67686558, 1771.41064552, 1679.23823283, 1672.98217349,\n",
       "       1741.11285539, 1779.85086934, 1663.65901165, 1671.56059291,\n",
       "       1665.06594957, 1683.15850331, 1675.16414345, 1687.55178144,\n",
       "       1672.80781883, 1692.47181337, 1657.75248605, 1681.54290606,\n",
       "       1767.31711474, 1660.12512985, 1678.64081693, 1676.28169699,\n",
       "       1654.83220865, 1688.25346897, 1741.57917444, 1659.3865421 ,\n",
       "       1740.3900551 , 1724.26785266, 1655.56031354, 1700.82720218,\n",
       "       1688.44013407, 1652.54054623, 1663.22202914, 1660.05477011,\n",
       "       1652.92157882, 1659.01638993, 1674.15736926, 1674.39005214,\n",
       "       1666.68214127, 1667.72702401, 1666.33463047, 1663.74378899,\n",
       "       1716.43320934, 1669.18227805, 1724.51657453, 1742.6914465 ,\n",
       "       1767.31636949, 1660.60467057, 1674.93585095, 1677.10981389,\n",
       "       1734.02238202, 1675.26274693, 1668.28141203, 1657.98606682,\n",
       "       1689.50711842, 1745.26271671, 1679.96449971, 1653.79002024,\n",
       "       1677.41759432, 1723.77326621, 1686.78441382])"
      ]
     },
     "execution_count": 6,
     "metadata": {},
     "output_type": "execute_result"
    }
   ],
   "source": [
    "tuner.res_gp.func_vals"
   ]
  },
  {
   "cell_type": "code",
   "execution_count": 8,
   "id": "d306ff47-5789-4a3b-afa1-0c531c3015be",
   "metadata": {},
   "outputs": [
    {
     "data": {
      "text/plain": [
       "{'NOIS': 1641.53385425,\n",
       " 'opt_parameters': {'learning_rate': 0.30721380131411513,\n",
       "  'l2_regularization': 0.1406101906115138,\n",
       "  'max_depth': 3,\n",
       "  'max_leaf_nodes': 8,\n",
       "  'min_samples_leaf': 70}}"
      ]
     },
     "execution_count": 8,
     "metadata": {},
     "output_type": "execute_result"
    }
   ],
   "source": [
    "tuner.result"
   ]
  },
  {
   "cell_type": "code",
   "execution_count": 7,
   "id": "e31d0780-ee84-49e1-889e-6582b3639b03",
   "metadata": {},
   "outputs": [],
   "source": [
    "# eim_validator = Validator(\"HistBoostRegressor\")\n",
    "# eim_validator.fit(data)\n",
    "# eim_validator.print_performance_summary()\n",
    "\n",
    "# lower, upper = eim_validator.predict_intervals(data)\n",
    "# lower_new, upper_new = eim_validator.predict_intervals(data_test)\n",
    "\n",
    "# plot_result(data[\"DBWT\"], lower, upper, lower_new, upper_new)"
   ]
  }
 ],
 "metadata": {
  "kernelspec": {
   "display_name": "Python 3 (ipykernel)",
   "language": "python",
   "name": "python3"
  },
  "language_info": {
   "codemirror_mode": {
    "name": "ipython",
    "version": 3
   },
   "file_extension": ".py",
   "mimetype": "text/x-python",
   "name": "python",
   "nbconvert_exporter": "python",
   "pygments_lexer": "ipython3",
   "version": "3.11.5"
  }
 },
 "nbformat": 4,
 "nbformat_minor": 5
}
